{
 "cells": [
  {
   "cell_type": "markdown",
   "metadata": {},
   "source": [
    "## Configuration"
   ]
  },
  {
   "cell_type": "code",
   "execution_count": 4,
   "metadata": {
    "collapsed": true
   },
   "outputs": [],
   "source": [
    "from collections import defaultdict\n",
    "import numpy as np\n",
    "import sys"
   ]
  },
  {
   "cell_type": "code",
   "execution_count": 5,
   "metadata": {
    "collapsed": true
   },
   "outputs": [],
   "source": [
    "USE_APPEND_MYMODULES = True\n",
    "\n",
    "if USE_APPEND_MYMODULES is True:\n",
    "    sys.path.append('./mypackage/')\n",
    "\n",
    "from corpus import Corpus"
   ]
  },
  {
   "cell_type": "code",
   "execution_count": 6,
   "metadata": {},
   "outputs": [
    {
     "data": {
      "text/plain": [
       "176597"
      ]
     },
     "execution_count": 6,
     "metadata": {},
     "output_type": "execute_result"
    }
   ],
   "source": [
    "max_l_length = 8\n",
    "max_r_length = 5\n",
    "min_count = 30\n",
    "noun_score_threshold = 0.1\n",
    "\n",
    "corpus_fname = \"./data/2016-10-28_article_all_normed.txt\"\n",
    "corpus = Corpus(corpus_fname, iter_sent=True)\n",
    "len(corpus)"
   ]
  },
  {
   "cell_type": "markdown",
   "metadata": {},
   "source": [
    "## L-R graph"
   ]
  },
  {
   "cell_type": "markdown",
   "metadata": {},
   "source": [
    "L-R graph는 L 왼쪽에 어떤 R들이 등장하는지 확인하기 위한 그래프로 dict[L]에는 [R]들이 몇 번 오른쪽에 등장하였는지의 빈도수 입니다. \n",
    "\n",
    "max_l_length 기준으로 subword_l를 잘랐으며, subword_r의 길이가 max_r_length보다 길 경우에는 lr_graph에 저장하지 않습니다."
   ]
  },
  {
   "cell_type": "code",
   "execution_count": 8,
   "metadata": {
    "collapsed": true
   },
   "outputs": [],
   "source": [
    "lr_graph = defaultdict(lambda: defaultdict(lambda: 0))\n",
    "\n",
    "for sent in corpus:\n",
    "    for token in sent.split():\n",
    "        for e in range(1, min(max_l_length, len(token)) + 1):\n",
    "            subword_l = token[:e]\n",
    "            subword_r = token[e:]\n",
    "            if len(subword_r) > max_r_length:\n",
    "                continue\n",
    "            lr_graph[subword_l][subword_r] += 1"
   ]
  },
  {
   "cell_type": "code",
   "execution_count": 9,
   "metadata": {},
   "outputs": [
    {
     "name": "stdout",
     "output_type": "stream",
     "text": [
      "defaultdict(<function <lambda> at 0x1236b8f28>, {'a': 1})\n",
      "0\n",
      "defaultdict(<function <lambda> at 0x1236b8f28>, {'b': 0, 'a': 1})\n"
     ]
    }
   ],
   "source": [
    "_tmp = defaultdict(lambda: 0)\n",
    "_tmp['a'] = 1\n",
    "print(_tmp)\n",
    "\n",
    "# defaultdict 는 카운팅 할 때 편하지만 \n",
    "\n",
    "# get은 불편하므로\n",
    "# _tmp.get(\"b\", 0) 로 사용\n",
    "#print(_tmp)\n",
    "\n",
    "# 값을 가져올 때는 dict로 바꿔주자\n",
    "ditc_tmp = dict(_tmp)\n",
    "\n",
    "print(_tmp['b'])\n",
    "print(_tmp)"
   ]
  },
  {
   "cell_type": "markdown",
   "metadata": {},
   "source": [
    "L인 word가 주어지면 R들의 분포를 가져오기 위해서 get 함수를 이용합시다."
   ]
  },
  {
   "cell_type": "code",
   "execution_count": 12,
   "metadata": {},
   "outputs": [
    {
     "name": "stdout",
     "output_type": "stream",
     "text": [
      "박근혜 - : 4683\n"
     ]
    }
   ],
   "source": [
    "def get_r_features(word):\n",
    "    return lr_graph.get(word, {})\n",
    "\n",
    "word = '박근혜'\n",
    "for r, freq in get_r_features(word).items():\n",
    "    print('%s - %s: %d' % (word, r, freq))\n",
    "    break"
   ]
  },
  {
   "cell_type": "markdown",
   "metadata": {},
   "source": [
    "## R feature score table"
   ]
  },
  {
   "cell_type": "markdown",
   "metadata": {},
   "source": [
    "강의자료에서 언급한, 세종말뭉치에 존재하는 r set들의 명사 가능 점수를 계산한 table을 로딩합니다. \n",
    "\n",
    "    str\\tfloat\n",
    "    \n",
    "으로, 탭으로 구분되어 있습니다. "
   ]
  },
  {
   "cell_type": "code",
   "execution_count": 14,
   "metadata": {},
   "outputs": [
    {
     "name": "stdout",
     "output_type": "stream",
     "text": [
      "num r features = 2398\n"
     ]
    }
   ],
   "source": [
    "with open('./data/noun_score_sejong', encoding='utf-8') as f:\n",
    "    r_score = {}\n",
    "    for line in f:\n",
    "        r, score = line.strip().split('\\t')\n",
    "        score = float(score)\n",
    "        r_score[r] = score\n",
    "    print('num r features = %d' % len(r_score))"
   ]
  },
  {
   "cell_type": "markdown",
   "metadata": {
    "collapsed": true
   },
   "source": [
    "## Classify whether given word is noun or not"
   ]
  },
  {
   "cell_type": "markdown",
   "metadata": {},
   "source": [
    "단어 word가 주어졌을 때, r features를 가져온 뒤, 이를 이용하여 명사 가능 점수를 계산해 봅시다.  \n",
    "\n",
    "r_features를 가져온 뒤, 각 r의 명사 가능 점수를, 빈도수를 weight로 하여 가중평균 하였습니다."
   ]
  },
  {
   "cell_type": "code",
   "execution_count": 15,
   "metadata": {},
   "outputs": [
    {
     "name": "stdout",
     "output_type": "stream",
     "text": [
      "noun score of 박근 = 0.000\n",
      "noun score of 박근혜 = 0.490\n",
      "noun score of 박근혜대통령 = 0.821\n",
      "noun score of 대통령 = 0.694\n",
      "noun score of 정 = 0.346\n",
      "noun score of 정부 = 0.628\n",
      "noun score of 정부의 = 0.000\n",
      "noun score of 알아 = -0.827\n",
      "noun score of 알아냈 = -0.976\n"
     ]
    }
   ],
   "source": [
    "def predict(word):\n",
    "    r_features = get_r_features(word)\n",
    "    \n",
    "    score = 0\n",
    "    norm = 0\n",
    "    for r, freq in r_features.items():\n",
    "        if (r in r_score) == False:\n",
    "            continue\n",
    "        score += r_score.get(r) * freq\n",
    "        norm += freq\n",
    "        \n",
    "    if norm != 0:\n",
    "        score /= norm\n",
    "    \n",
    "    return score\n",
    "\n",
    "\n",
    "for word in ['박근', '박근혜', '박근혜대통령', '대통령', '정', '정부', '정부의', '알아', '알아냈']:\n",
    "    print('noun score of %s = %.3f' % (word, predict(word)))"
   ]
  }
 ],
 "metadata": {
  "kernelspec": {
   "display_name": "Python 3",
   "language": "python",
   "name": "python3"
  },
  "language_info": {
   "codemirror_mode": {
    "name": "ipython",
    "version": 3
   },
   "file_extension": ".py",
   "mimetype": "text/x-python",
   "name": "python",
   "nbconvert_exporter": "python",
   "pygments_lexer": "ipython3",
   "version": "3.5.0"
  }
 },
 "nbformat": 4,
 "nbformat_minor": 2
}
