{
 "cells": [
  {
   "cell_type": "markdown",
   "metadata": {},
   "source": [
    "# Variational Autoencoder"
   ]
  },
  {
   "cell_type": "code",
   "execution_count": 1,
   "metadata": {
    "collapsed": true
   },
   "outputs": [],
   "source": [
    "import tensorflow as tf\n",
    "import numpy as np\n",
    "import sklearn.preprocessing as prep\n",
    "import matplotlib.pyplot as plt\n",
    "%matplotlib inline"
   ]
  },
  {
   "cell_type": "markdown",
   "metadata": {},
   "source": [
    "## Setting"
   ]
  },
  {
   "cell_type": "code",
   "execution_count": 2,
   "metadata": {
    "collapsed": true
   },
   "outputs": [],
   "source": [
    "# Parameters\n",
    "transfer_function = tf.nn.sigmoid # tf.nn.relu, tf.nn.softplus, tf.nn.sigmoid, tf.nn.tanh\n",
    "dropout_probability = 0.9\n",
    "training_epochs = 10\n",
    "batch_size = 128\n",
    "display_step = 1"
   ]
  },
  {
   "cell_type": "markdown",
   "metadata": {},
   "source": [
    "## data set"
   ]
  },
  {
   "cell_type": "code",
   "execution_count": 3,
   "metadata": {},
   "outputs": [
    {
     "name": "stdout",
     "output_type": "stream",
     "text": [
      "Extracting MNIST_data/train-images-idx3-ubyte.gz\n",
      "Extracting MNIST_data/train-labels-idx1-ubyte.gz\n",
      "Extracting MNIST_data/t10k-images-idx3-ubyte.gz\n",
      "Extracting MNIST_data/t10k-labels-idx1-ubyte.gz\n"
     ]
    }
   ],
   "source": [
    "# Check out https://www.tensorflow.org/get_started/mnist/beginners for\n",
    "# more information about the mnist dataset\n",
    "\n",
    "from tensorflow.examples.tutorials.mnist import input_data\n",
    "mnist = input_data.read_data_sets(\"MNIST_data/\", one_hot=True)\n",
    "X_train, X_test = mnist.train.images, mnist.test.images\n",
    "n_samples = int(mnist.train.num_examples)"
   ]
  },
  {
   "cell_type": "markdown",
   "metadata": {},
   "source": [
    "## Help functions"
   ]
  },
  {
   "cell_type": "code",
   "execution_count": 4,
   "metadata": {
    "collapsed": true
   },
   "outputs": [],
   "source": [
    "def standard_scale(X_train, X_test):\n",
    "    preprocessor = prep.StandardScaler().fit(X_train)\n",
    "    X_train = preprocessor.transform(X_train)\n",
    "    X_test = preprocessor.transform(X_test)\n",
    "    \n",
    "    return X_train, X_test"
   ]
  },
  {
   "cell_type": "code",
   "execution_count": 5,
   "metadata": {
    "collapsed": true
   },
   "outputs": [],
   "source": [
    "def inverse_transform(X_train_original, X_processed):\n",
    "    preprocessor = prep.StandardScaler().fit(X_train_original)\n",
    "    X = preprocessor.inverse_transform(X_processed)\n",
    "    \n",
    "    return X"
   ]
  },
  {
   "cell_type": "code",
   "execution_count": 6,
   "metadata": {
    "collapsed": true
   },
   "outputs": [],
   "source": [
    "def get_random_block_from_data(data, batch_size):\n",
    "    start_index = np.random.randint(0, len(data) - batch_size)\n",
    "    \n",
    "    return data[start_index:(start_index + batch_size)]"
   ]
  },
  {
   "cell_type": "markdown",
   "metadata": {},
   "source": [
    "## autoencoder model"
   ]
  },
  {
   "cell_type": "code",
   "execution_count": 7,
   "metadata": {
    "collapsed": true
   },
   "outputs": [],
   "source": [
    "class VariationalAutoencoder(object):\n",
    "\n",
    "    def __init__(self, n_input, n_hidden, optimizer = tf.train.AdamOptimizer()):\n",
    "        self.n_input = n_input\n",
    "        self.n_hidden = n_hidden\n",
    "\n",
    "        network_weights = self._initialize_weights()\n",
    "        self.weights = network_weights\n",
    "\n",
    "        # model\n",
    "        self.x = tf.placeholder(tf.float32, [None, self.n_input])\n",
    "        self.z_mean = tf.add(tf.matmul(self.x, self.weights['w1']), self.weights['b1'])\n",
    "        self.z_log_sigma_sq = tf.add(tf.matmul(self.x, self.weights['log_sigma_w1']), self.weights['log_sigma_b1'])\n",
    "\n",
    "        # sample from gaussian distribution\n",
    "        eps = tf.random_normal(tf.stack([tf.shape(self.x)[0], self.n_hidden]), 0, 1, dtype = tf.float32)\n",
    "        self.z = tf.add(self.z_mean, tf.multiply(tf.sqrt(tf.exp(self.z_log_sigma_sq)), eps))\n",
    "\n",
    "        self.reconstruction = tf.add(tf.matmul(self.z, self.weights['w2']), self.weights['b2'])\n",
    "\n",
    "        # cost\n",
    "        reconstr_loss = 0.5 * tf.reduce_sum(tf.pow(tf.subtract(self.reconstruction, self.x), 2.0))\n",
    "        latent_loss = -0.5 * tf.reduce_sum(1 + self.z_log_sigma_sq\n",
    "                                           - tf.square(self.z_mean)\n",
    "                                           - tf.exp(self.z_log_sigma_sq), 1)\n",
    "        self.cost = tf.reduce_mean(reconstr_loss + latent_loss)\n",
    "        self.optimizer = optimizer.minimize(self.cost)\n",
    "\n",
    "        init = tf.global_variables_initializer()\n",
    "        self.sess = tf.Session()\n",
    "        self.sess.run(init)\n",
    "\n",
    "    def _initialize_weights(self):\n",
    "        all_weights = dict()\n",
    "        all_weights['w1'] = tf.get_variable(\"w1\", shape=[self.n_input, self.n_hidden],\n",
    "            initializer=tf.contrib.layers.xavier_initializer())\n",
    "        all_weights['log_sigma_w1'] = tf.get_variable(\"log_sigma_w1\", shape=[self.n_input, self.n_hidden],\n",
    "            initializer=tf.contrib.layers.xavier_initializer())\n",
    "        all_weights['b1'] = tf.Variable(tf.zeros([self.n_hidden], dtype=tf.float32))\n",
    "        all_weights['log_sigma_b1'] = tf.Variable(tf.zeros([self.n_hidden], dtype=tf.float32))\n",
    "        all_weights['w2'] = tf.Variable(tf.zeros([self.n_hidden, self.n_input], dtype=tf.float32))\n",
    "        all_weights['b2'] = tf.Variable(tf.zeros([self.n_input], dtype=tf.float32))\n",
    "        return all_weights\n",
    "\n",
    "    def partial_fit(self, X):\n",
    "        cost, opt = self.sess.run((self.cost, self.optimizer), feed_dict={self.x: X})\n",
    "        return cost\n",
    "\n",
    "    def calc_total_cost(self, X):\n",
    "        return self.sess.run(self.cost, feed_dict = {self.x: X})\n",
    "\n",
    "    def transform(self, X):\n",
    "        return self.sess.run(self.z_mean, feed_dict={self.x: X})\n",
    "\n",
    "    def generate(self, hidden = None):\n",
    "        if hidden is None:\n",
    "            hidden = self.sess.run(tf.random_normal([1, self.n_hidden]))\n",
    "        return self.sess.run(self.reconstruction, feed_dict={self.z: hidden})\n",
    "\n",
    "    def reconstruct(self, X):\n",
    "        return self.sess.run(self.reconstruction, feed_dict={self.x: X})\n",
    "\n",
    "    def getWeights(self):\n",
    "        return self.sess.run(self.weights['w1'])\n",
    "\n",
    "    def getBiases(self):\n",
    "        return self.sess.run(self.weights['b1'])"
   ]
  },
  {
   "cell_type": "code",
   "execution_count": 8,
   "metadata": {},
   "outputs": [],
   "source": [
    "autoencoder = VariationalAutoencoder(\n",
    "    n_input=784,\n",
    "    n_hidden=200,\n",
    "    optimizer=tf.train.AdamOptimizer(learning_rate = 0.001)\n",
    ")"
   ]
  },
  {
   "cell_type": "code",
   "execution_count": 9,
   "metadata": {},
   "outputs": [
    {
     "name": "stdout",
     "output_type": "stream",
     "text": [
      "Epoch: 0001 cost= 1118.922918750\n",
      "Epoch: 0002 cost= 661.513600000\n",
      "Epoch: 0003 cost= 596.484998864\n",
      "Epoch: 0004 cost= 568.530164205\n",
      "Epoch: 0005 cost= 554.016872585\n",
      "Epoch: 0006 cost= 544.957518182\n",
      "Epoch: 0007 cost= 539.278869531\n",
      "Epoch: 0008 cost= 529.646027770\n",
      "Epoch: 0009 cost= 526.541554545\n",
      "Epoch: 0010 cost= 520.325198580\n",
      "Total cost: 21916.8\n"
     ]
    }
   ],
   "source": [
    "for epoch in range(training_epochs):\n",
    "    avg_cost = 0.\n",
    "    total_batch = int(n_samples / batch_size)\n",
    "    # Loop over all batches\n",
    "    for i in range(total_batch):\n",
    "        batch_xs = get_random_block_from_data(X_train, batch_size)\n",
    "\n",
    "        # Fit training using batch data\n",
    "        cost = autoencoder.partial_fit(batch_xs)\n",
    "        # Compute average loss\n",
    "        avg_cost += cost / n_samples * batch_size\n",
    "\n",
    "    # Display logs per epoch step\n",
    "    if epoch % display_step == 0:\n",
    "        print(\"Epoch:\", '%04d' % (epoch + 1), \"cost=\", \"{:.9f}\".format(avg_cost))\n",
    "\n",
    "print(\"Total cost: \" + str(autoencoder.calc_total_cost(X_test)))"
   ]
  },
  {
   "cell_type": "code",
   "execution_count": 10,
   "metadata": {},
   "outputs": [
    {
     "name": "stderr",
     "output_type": "stream",
     "text": [
      "/home/ubuntu/tf_py3.6/lib/python3.6/site-packages/matplotlib/figure.py:402: UserWarning: matplotlib is currently using a non-GUI backend, so cannot show the figure\n",
      "  \"matplotlib is currently using a non-GUI backend, \"\n"
     ]
    },
    {
     "data": {
      "image/png": "[encoded data removed]",
      "text/plain": [
       "<matplotlib.figure.Figure at 0x7fccdbaff438>"
      ]
     },
     "metadata": {},
     "output_type": "display_data"
    }
   ],
   "source": [
    "examples_to_show = 10\n",
    "start_img = 0\n",
    "idx = range(start_img, start_img + examples_to_show)\n",
    "X_test_original = mnist.test.images\n",
    "suptitle_name = '[Autoencoder] Variational'\n",
    "\n",
    "reconstructed_images = autoencoder.reconstruct(X_test[idx, :])\n",
    "f, a = plt.subplots(2, examples_to_show, figsize=(15, 5))\n",
    "for i in range(start_img, examples_to_show):\n",
    "    a[0][i].imshow(np.reshape(X_test_original[i, :], (28, 28)), cmap=plt.get_cmap('gray'))\n",
    "    a[1][i].imshow(np.reshape(reconstructed_images[i, :], (28, 28)), cmap=plt.get_cmap('gray'))\n",
    "plt.suptitle(suptitle_name)\n",
    "f.show()\n",
    "# f.savefig('figures/testImage_%s_dropout_%.3f.png' % (func_name, autoencoder.dropout_probability))"
   ]
  },
  {
   "cell_type": "code",
   "execution_count": 11,
   "metadata": {},
   "outputs": [
    {
     "data": {
      "text/plain": [
       "{'b1': <tensorflow.python.ops.variables.Variable at 0x7fccdc4fdf60>,\n",
       " 'b2': <tensorflow.python.ops.variables.Variable at 0x7fcd306021d0>,\n",
       " 'log_sigma_b1': <tensorflow.python.ops.variables.Variable at 0x7fccdd060be0>,\n",
       " 'log_sigma_w1': <tensorflow.python.ops.variables.Variable at 0x7fcd30602550>,\n",
       " 'w1': <tensorflow.python.ops.variables.Variable at 0x7fcd306022e8>,\n",
       " 'w2': <tensorflow.python.ops.variables.Variable at 0x7fcd30602358>}"
      ]
     },
     "execution_count": 11,
     "metadata": {},
     "output_type": "execute_result"
    }
   ],
   "source": [
    "autoencoder.weights"
   ]
  },
  {
   "cell_type": "code",
   "execution_count": 12,
   "metadata": {
    "collapsed": true
   },
   "outputs": [],
   "source": [
    "encoder_weight = autoencoder.sess.run(autoencoder.weights['w1'])\n",
    "decoder_weight = autoencoder.sess.run(autoencoder.weights['w2'])"
   ]
  },
  {
   "cell_type": "code",
   "execution_count": 13,
   "metadata": {},
   "outputs": [
    {
     "data": {
      "text/plain": [
       "array([  5.07359803e-02,   5.62165231e-02,  -1.43576935e-02,\n",
       "         6.34561330e-02,   1.12579912e-02,  -5.54081798e-02,\n",
       "         3.76549363e-02,   6.27537221e-02,  -1.86782256e-02,\n",
       "        -4.99783866e-02,  -4.64526489e-02,   6.20718747e-02,\n",
       "         2.21179649e-02,   1.72609985e-02,   1.40234530e-02,\n",
       "         5.63186407e-02,   2.08057240e-02,   1.85888782e-02,\n",
       "         2.61238292e-02,   7.40490705e-02,   9.64554399e-03,\n",
       "         4.41306382e-02,  -1.50120333e-02,  -7.08208233e-02,\n",
       "         2.58194506e-02,   2.88669765e-03,  -6.94111139e-02,\n",
       "        -1.57828890e-02,  -7.53555670e-02,  -6.97316676e-02,\n",
       "        -2.42088288e-02,   2.43998244e-02,   4.82373685e-03,\n",
       "        -4.82636690e-03,  -2.50868499e-04,   2.80178636e-02,\n",
       "         3.35216597e-02,   3.34523469e-02,  -5.01367822e-02,\n",
       "        -6.82412386e-02,   1.11124590e-02,  -5.36425449e-02,\n",
       "         2.73782462e-02,   6.59479201e-02,   5.38001209e-02,\n",
       "         6.06232882e-02,   1.91558301e-02,  -8.27191770e-03,\n",
       "         3.83245870e-02,   2.99336314e-02,  -2.14375407e-02,\n",
       "         3.89642268e-02,  -2.19561905e-03,  -5.25346994e-02,\n",
       "        -6.00520559e-02,   5.50600141e-02,  -1.01058409e-02,\n",
       "         5.12851030e-02,   7.42105097e-02,  -1.50561035e-02,\n",
       "         2.11147517e-02,   5.42128682e-02,   1.97402909e-02,\n",
       "         2.13865861e-02,   3.84779572e-02,  -3.15684378e-02,\n",
       "         5.50105125e-02,   6.72962815e-02,  -8.28877091e-05,\n",
       "         1.12333074e-02,   7.50895292e-02,  -3.13435793e-02,\n",
       "        -2.49865651e-03,   3.04042250e-02,  -5.62792867e-02,\n",
       "         5.86130619e-02,   6.47206604e-03,  -1.20994076e-02,\n",
       "        -5.70369549e-02,   4.28391248e-03,  -5.79471961e-02,\n",
       "         2.28970274e-02,   9.08683985e-03,  -3.46202180e-02,\n",
       "         5.85791767e-02,   1.51535869e-02,  -3.24270912e-02,\n",
       "         1.42939836e-02,  -3.84600274e-02,  -5.60172834e-02,\n",
       "        -1.30372718e-02,  -1.54613107e-02,  -8.11242312e-03,\n",
       "         2.69584283e-02,  -5.51190898e-02,  -6.98625892e-02,\n",
       "         5.19791991e-02,  -7.00745881e-02,  -6.01458512e-02,\n",
       "        -2.39058509e-02,  -5.90157583e-02,  -6.60867840e-02,\n",
       "         4.32107151e-02,  -7.05115870e-02,  -2.41822749e-03,\n",
       "         5.29478192e-02,   9.11577046e-03,   1.39076561e-02,\n",
       "        -4.77639064e-02,   3.99564356e-02,  -6.25940561e-02,\n",
       "         2.22743154e-02,  -6.23838454e-02,   1.56556740e-02,\n",
       "        -3.99822965e-02,   6.47342205e-03,  -5.83952442e-02,\n",
       "        -5.23564592e-02,  -5.38382158e-02,   3.17512229e-02,\n",
       "        -6.09851964e-02,  -1.49821192e-02,  -2.97853798e-02,\n",
       "        -2.05288082e-02,  -1.54016986e-02,   6.13998771e-02,\n",
       "        -3.17863747e-02,   8.48361850e-03,   7.14011490e-03,\n",
       "         1.54447556e-03,   7.64463693e-02,  -1.94195472e-02,\n",
       "         1.65602192e-02,  -6.31041527e-02,  -7.11223856e-02,\n",
       "         5.69830835e-03,  -2.51199417e-02,   1.29441693e-02,\n",
       "         7.04072416e-02,   3.26228738e-02,   5.29759526e-02,\n",
       "        -5.63693717e-02,   3.83921862e-02,  -2.35658213e-02,\n",
       "         4.44766209e-02,  -4.89514545e-02,   6.48575723e-02,\n",
       "        -3.07762325e-02,  -7.45521933e-02,   5.80275804e-02,\n",
       "        -6.00870028e-02,   3.09688523e-02,  -5.17655611e-02,\n",
       "        -7.68442452e-02,  -3.82140763e-02,  -2.15393789e-02,\n",
       "        -3.15728150e-02,  -2.82073766e-03,   1.60143003e-02,\n",
       "        -5.35061732e-02,  -1.03726089e-02,  -5.23657277e-02,\n",
       "         5.29323071e-02,  -3.76520343e-02,  -1.64080411e-02,\n",
       "         1.04076415e-03,  -3.60202603e-02,   1.36049762e-02,\n",
       "         3.76748294e-03,  -2.27860510e-02,  -1.62047781e-02,\n",
       "         2.26174891e-02,   1.37824193e-02,  -4.45971638e-03,\n",
       "        -3.95067334e-02,   6.32543862e-03,   3.56388092e-02,\n",
       "         2.56767124e-03,  -4.44871411e-02,  -5.65755069e-02,\n",
       "        -3.86997834e-02,   1.29963160e-02,   7.79378563e-02,\n",
       "        -2.08610184e-02,   2.50044614e-02,   6.72691017e-02,\n",
       "         1.41092464e-02,   7.07374513e-02,   1.49352551e-02,\n",
       "        -4.66919690e-03,   4.49535027e-02,  -6.98497072e-02,\n",
       "         2.19550878e-02,   1.14008114e-02,   6.70048445e-02,\n",
       "        -1.29994825e-02,  -3.91396880e-03,   3.37946117e-02,\n",
       "         5.87137491e-02,   1.27796829e-03], dtype=float32)"
      ]
     },
     "execution_count": 13,
     "metadata": {},
     "output_type": "execute_result"
    }
   ],
   "source": [
    "encoder_weight[0, :]"
   ]
  },
  {
   "cell_type": "code",
   "execution_count": 14,
   "metadata": {},
   "outputs": [
    {
     "data": {
      "text/plain": [
       "array([ 0.,  0.,  0.,  0.,  0.,  0.,  0.,  0.,  0.,  0.,  0.,  0.,  0.,\n",
       "        0.,  0.,  0.,  0.,  0.,  0.,  0.,  0.,  0.,  0.,  0.,  0.,  0.,\n",
       "        0.,  0.,  0.,  0.,  0.,  0.,  0.,  0.,  0.,  0.,  0.,  0.,  0.,\n",
       "        0.,  0.,  0.,  0.,  0.,  0.,  0.,  0.,  0.,  0.,  0.,  0.,  0.,\n",
       "        0.,  0.,  0.,  0.,  0.,  0.,  0.,  0.,  0.,  0.,  0.,  0.,  0.,\n",
       "        0.,  0.,  0.,  0.,  0.,  0.,  0.,  0.,  0.,  0.,  0.,  0.,  0.,\n",
       "        0.,  0.,  0.,  0.,  0.,  0.,  0.,  0.,  0.,  0.,  0.,  0.,  0.,\n",
       "        0.,  0.,  0.,  0.,  0.,  0.,  0.,  0.,  0.,  0.,  0.,  0.,  0.,\n",
       "        0.,  0.,  0.,  0.,  0.,  0.,  0.,  0.,  0.,  0.,  0.,  0.,  0.,\n",
       "        0.,  0.,  0.,  0.,  0.,  0.,  0.,  0.,  0.,  0.,  0.,  0.,  0.,\n",
       "        0.,  0.,  0.,  0.,  0.,  0.,  0.,  0.,  0.,  0.,  0.,  0.,  0.,\n",
       "        0.,  0.,  0.,  0.,  0.,  0.,  0.,  0.,  0.,  0.,  0.,  0.,  0.,\n",
       "        0.,  0.,  0.,  0.,  0.,  0.,  0.,  0.,  0.,  0.,  0.,  0.,  0.,\n",
       "        0.,  0.,  0.,  0.,  0.,  0.,  0.,  0.,  0.,  0.,  0.,  0.,  0.,\n",
       "        0.,  0.,  0.,  0.,  0.,  0.,  0.,  0.,  0.,  0.,  0.,  0.,  0.,\n",
       "        0.,  0.,  0.,  0.,  0.], dtype=float32)"
      ]
     },
     "execution_count": 14,
     "metadata": {},
     "output_type": "execute_result"
    }
   ],
   "source": [
    "decoder_weight[:, 0]"
   ]
  },
  {
   "cell_type": "code",
   "execution_count": 15,
   "metadata": {
    "collapsed": true
   },
   "outputs": [],
   "source": [
    "encoder_bias = autoencoder.sess.run(autoencoder.weights['b1'])\n",
    "decoder_bias = autoencoder.sess.run(autoencoder.weights['b2'])"
   ]
  },
  {
   "cell_type": "code",
   "execution_count": 16,
   "metadata": {},
   "outputs": [
    {
     "data": {
      "text/plain": [
       "array([-0.00998939, -0.06260014, -0.08334792,  0.01353287,  0.15558794,\n",
       "        0.09586941,  0.02015993,  0.07642175,  0.05262602,  0.04954446,\n",
       "       -0.06057109,  0.04100217, -0.0210187 , -0.00796437, -0.12239715,\n",
       "       -0.19525376, -0.04769494,  0.11336863,  0.06025725,  0.07529359,\n",
       "       -0.23072813, -0.08417925,  0.02661609,  0.01398514, -0.01539634,\n",
       "        0.10891674,  0.09447189, -0.08357628, -0.02961618,  0.18347649,\n",
       "        0.04203832,  0.05311925, -0.0118177 ,  0.0107534 , -0.15514734,\n",
       "        0.12006979, -0.30381048, -0.24229726,  0.02296663,  0.1335198 ,\n",
       "       -0.02664598,  0.2825743 ,  0.06233467, -0.07587842,  0.08812484,\n",
       "        0.09749644, -0.06886372, -0.11804094,  0.01718354, -0.11031996,\n",
       "       -0.0265316 , -0.02239547, -0.08552064,  0.02625309, -0.18291725,\n",
       "        0.04523475,  0.02222373,  0.00871503, -0.18009417,  0.05541651,\n",
       "        0.13027163,  0.01942409, -0.02195348, -0.1300056 , -0.06073447,\n",
       "       -0.01700786, -0.13981259, -0.00850048,  0.03093549, -0.03227474,\n",
       "        0.22594519, -0.1689717 , -0.05612725,  0.12890285,  0.05827255,\n",
       "       -0.03291596,  0.0137289 ,  0.02169337, -0.01524755,  0.20593111,\n",
       "        0.021038  ,  0.02212939, -0.01433531, -0.02408719,  0.11089324,\n",
       "        0.02705265,  0.21061233, -0.01991555,  0.0168859 , -0.10316173,\n",
       "       -0.01003255, -0.0025567 , -0.09713066, -0.12405173, -0.0739106 ,\n",
       "       -0.01077886,  0.03212455,  0.02276936,  0.01569797, -0.02305228,\n",
       "        0.02087361,  0.01112213,  0.25104165,  0.10400087,  0.02234934,\n",
       "       -0.0488036 , -0.07608674, -0.03416493, -0.00520509,  0.0237154 ,\n",
       "       -0.18328857, -0.08752539,  0.23279835,  0.00560596, -0.01669002,\n",
       "        0.03993028,  0.25012663,  0.08505838, -0.02108374, -0.10515459,\n",
       "        0.07667649, -0.01583066, -0.04700676,  0.09145973,  0.07165331,\n",
       "       -0.0708921 ,  0.17745692,  0.0379797 ,  0.22366807,  0.1387786 ,\n",
       "        0.02210854,  0.07642703, -0.03048452,  0.03714103,  0.16139294,\n",
       "        0.10167856, -0.1695517 , -0.06694628, -0.04381521, -0.16571949,\n",
       "       -0.13169295,  0.0428315 , -0.30875021, -0.02021691, -0.06604162,\n",
       "       -0.09248534,  0.10426398, -0.02270648, -0.0425906 , -0.01811626,\n",
       "        0.00117881, -0.02049652,  0.03888258, -0.08336107,  0.03152181,\n",
       "       -0.00379662,  0.06393049, -0.01316093, -0.0337334 ,  0.0899945 ,\n",
       "        0.08201874,  0.00357316, -0.07388719,  0.10849374,  0.11155031,\n",
       "        0.02529453, -0.06361467,  0.01999683, -0.07460995, -0.03267165,\n",
       "       -0.022758  ,  0.12519029,  0.1381249 , -0.06776956, -0.0582944 ,\n",
       "        0.20900054,  0.11235891,  0.01941339, -0.04968017,  0.04059419,\n",
       "       -0.00131449, -0.2289793 , -0.27562535, -0.20184296, -0.06373282,\n",
       "        0.02454367,  0.05593687, -0.09416749, -0.01430361,  0.01565737,\n",
       "        0.16984929, -0.01563075,  0.07074408, -0.04702556,  0.06947824,\n",
       "        0.02254085,  0.01060263,  0.0422221 , -0.01997539, -0.12207126], dtype=float32)"
      ]
     },
     "execution_count": 16,
     "metadata": {},
     "output_type": "execute_result"
    }
   ],
   "source": [
    "encoder_bias"
   ]
  },
  {
   "cell_type": "code",
   "execution_count": 17,
   "metadata": {},
   "outputs": [
    {
     "data": {
      "text/plain": [
       "array([  0.00000000e+00,   0.00000000e+00,   0.00000000e+00,\n",
       "         0.00000000e+00,   0.00000000e+00,   0.00000000e+00,\n",
       "         0.00000000e+00,   0.00000000e+00,   0.00000000e+00,\n",
       "         0.00000000e+00,   0.00000000e+00,   0.00000000e+00,\n",
       "        -1.08379412e-04,  -1.02910035e-05,   1.58891446e-04,\n",
       "         7.94007559e-04,   0.00000000e+00,   0.00000000e+00,\n",
       "         0.00000000e+00,   0.00000000e+00,   0.00000000e+00,\n",
       "         0.00000000e+00,   0.00000000e+00,   0.00000000e+00,\n",
       "         0.00000000e+00,   0.00000000e+00,   0.00000000e+00,\n",
       "         0.00000000e+00,   0.00000000e+00,   0.00000000e+00,\n",
       "         0.00000000e+00,   0.00000000e+00,   2.61404726e-04,\n",
       "        -3.82335129e-04,  -1.47967497e-04,   2.61116948e-04,\n",
       "         6.15889148e-05,   1.02076076e-04,   7.35796348e-04,\n",
       "         1.40015455e-03,   2.10709404e-03,   1.10843661e-03,\n",
       "        -3.56946723e-04,  -7.84242526e-04,   6.40821003e-04,\n",
       "         9.30142531e-04,   4.51259431e-04,   6.68444263e-04,\n",
       "         4.38467803e-04,   1.56923052e-04,   5.27333701e-04,\n",
       "         3.87892913e-04,   0.00000000e+00,   0.00000000e+00,\n",
       "         0.00000000e+00,   0.00000000e+00,   0.00000000e+00,\n",
       "         0.00000000e+00,   2.25205062e-04,  -8.16409418e-04,\n",
       "        -3.87529435e-04,   1.67672901e-04,   4.10474197e-04,\n",
       "         1.86193676e-03,   2.85230321e-03,   6.65877573e-03,\n",
       "         1.01818442e-02,   8.69182963e-03,   4.31252643e-03,\n",
       "        -1.59981276e-03,  -4.94991429e-03,   9.18536214e-04,\n",
       "         8.85947887e-03,   5.24315517e-03,   3.30642401e-03,\n",
       "         4.11098637e-03,   2.52499920e-03,  -3.24757246e-04,\n",
       "        -4.05695813e-04,  -5.70061209e-04,  -3.35043587e-04,\n",
       "         4.72394313e-05,   0.00000000e+00,   0.00000000e+00,\n",
       "         0.00000000e+00,   0.00000000e+00,  -2.17156066e-05,\n",
       "         3.32377531e-04,   1.43360929e-04,   2.12389673e-03,\n",
       "         1.46621885e-03,   1.87799335e-03,   6.98179659e-03,\n",
       "         1.31131522e-02,   1.71824284e-02,   1.46178249e-02,\n",
       "         6.81528822e-03,  -2.31626350e-03,   2.69841705e-03,\n",
       "         2.01135986e-02,   2.95437407e-02,   2.85275541e-02,\n",
       "         2.40391456e-02,   2.39329487e-02,   1.46419406e-02,\n",
       "         5.41076669e-03,  -4.98120557e-04,  -5.60785760e-04,\n",
       "        -4.03016427e-04,   5.11977356e-04,   5.49279212e-05,\n",
       "         0.00000000e+00,   0.00000000e+00,  -5.46959054e-05,\n",
       "        -2.03259260e-04,  -5.12120256e-04,  -6.29522663e-04,\n",
       "         2.34169606e-03,   3.79916048e-03,   1.01947961e-02,\n",
       "         1.51340142e-02,   2.12339815e-02,   2.19140593e-02,\n",
       "         2.13658530e-02,   2.92025991e-02,   4.30090204e-02,\n",
       "         6.84911087e-02,   8.59809294e-02,   7.75347129e-02,\n",
       "         6.64468780e-02,   6.81731999e-02,   5.76316230e-02,\n",
       "         2.64248159e-02,   6.59062434e-03,   5.17129898e-04,\n",
       "         4.01010329e-04,   3.10161570e-03,   1.32164662e-03,\n",
       "        -1.01354235e-05,  -4.93130210e-05,   0.00000000e+00,\n",
       "         0.00000000e+00,   2.78976891e-04,   1.78943184e-04,\n",
       "         1.63079111e-03,   5.11927390e-03,   1.41116874e-02,\n",
       "         2.57088207e-02,   3.57942805e-02,   5.14448248e-02,\n",
       "         6.80542663e-02,   9.00838077e-02,   1.08173721e-01,\n",
       "         1.19769320e-01,   1.34676039e-01,   1.49074718e-01,\n",
       "         1.46603033e-01,   1.32031247e-01,   1.14399076e-01,\n",
       "         7.02206716e-02,   2.78644301e-02,   2.66039092e-03,\n",
       "         4.37802821e-03,   8.57254956e-03,   6.47737412e-03,\n",
       "         2.16840510e-03,  -8.17500404e-04,   2.75282218e-04,\n",
       "         0.00000000e+00,   1.38898147e-04,   2.00014081e-04,\n",
       "         2.61598936e-04,   4.62626899e-03,   1.15355039e-02,\n",
       "         2.61162650e-02,   4.36836481e-02,   5.84080890e-02,\n",
       "         7.97721371e-02,   8.88792574e-02,   1.02159247e-01,\n",
       "         1.17611304e-01,   1.38793215e-01,   1.59128621e-01,\n",
       "         1.67690247e-01,   1.65054396e-01,   1.63969472e-01,\n",
       "         1.31754801e-01,   7.54129365e-02,   4.28122357e-02,\n",
       "         2.22635716e-02,   2.06664838e-02,   1.68735422e-02,\n",
       "         1.11684548e-02,   2.69476022e-03,   9.74614930e-04,\n",
       "         3.06718634e-04,   0.00000000e+00,  -3.46027111e-04,\n",
       "         9.46359651e-04,   9.52290546e-04,   8.05672258e-03,\n",
       "         1.68508831e-02,   3.15340012e-02,   5.34722768e-02,\n",
       "         7.06196874e-02,   7.99447075e-02,   8.25552419e-02,\n",
       "         1.06679820e-01,   1.42632931e-01,   1.70328334e-01,\n",
       "         1.82977796e-01,   1.81769907e-01,   1.79417923e-01,\n",
       "         1.81486875e-01,   1.47440776e-01,   9.68258083e-02,\n",
       "         7.38875344e-02,   6.49998859e-02,   4.54949327e-02,\n",
       "         2.54643578e-02,   2.04066504e-02,   8.55086930e-03,\n",
       "         1.55112706e-03,  -2.42877431e-04,  -1.86748675e-05,\n",
       "         7.84931355e-04,   4.03814856e-03,   4.86107683e-03,\n",
       "         1.41096460e-02,   2.03256253e-02,   3.63037363e-02,\n",
       "         6.38573915e-02,   8.35578516e-02,   9.27531570e-02,\n",
       "         1.07411444e-01,   1.32046387e-01,   1.55948162e-01,\n",
       "         1.60453454e-01,   1.61818206e-01,   1.53645590e-01,\n",
       "         1.61469996e-01,   1.73499152e-01,   1.61314964e-01,\n",
       "         1.19147114e-01,   9.90432426e-02,   7.62824863e-02,\n",
       "         4.61255424e-02,   2.78247464e-02,   2.22230218e-02,\n",
       "         1.29412562e-02,   1.70481985e-03,  -3.98618402e-04,\n",
       "        -4.89348546e-04,   4.59354895e-04,   5.69314510e-03,\n",
       "         6.93847751e-03,   1.59291886e-02,   2.13901643e-02,\n",
       "         3.92942801e-02,   7.23060742e-02,   9.33741033e-02,\n",
       "         1.11284897e-01,   1.31309673e-01,   1.46858275e-01,\n",
       "         1.46363348e-01,   1.39647737e-01,   1.41670465e-01,\n",
       "         1.50549844e-01,   1.70277134e-01,   1.79055467e-01,\n",
       "         1.61928967e-01,   1.24445610e-01,   1.01371810e-01,\n",
       "         6.17468357e-02,   3.20858248e-02,   1.97044592e-02,\n",
       "         1.69147942e-02,   1.14836767e-02,   2.31574732e-03,\n",
       "         1.81556854e-04,  -1.75206078e-04,   3.60953069e-04,\n",
       "         5.30937174e-03,   7.90722203e-03,   1.22012096e-02,\n",
       "         2.18128469e-02,   4.59231362e-02,   7.11727887e-02,\n",
       "         9.43627879e-02,   1.21751681e-01,   1.22638986e-01,\n",
       "         1.17829740e-01,   1.21202692e-01,   1.06469519e-01,\n",
       "         1.17583849e-01,   1.42347038e-01,   1.49716794e-01,\n",
       "         1.62524581e-01,   1.53590366e-01,   1.20574564e-01,\n",
       "         8.63395929e-02,   5.19275516e-02,   2.36955117e-02,\n",
       "         1.25952568e-02,   9.16616898e-03,   7.40202703e-03,\n",
       "         8.86223163e-04,   1.80804025e-04,   1.31407229e-04,\n",
       "         5.25337236e-04,   4.30427631e-03,   7.27729872e-03,\n",
       "         1.12661123e-02,   2.64976062e-02,   5.09138852e-02,\n",
       "         7.28833228e-02,   1.10055603e-01,   1.34312555e-01,\n",
       "         1.16746955e-01,   1.01596236e-01,   1.01421192e-01,\n",
       "         9.33215544e-02,   1.12164266e-01,   1.28166586e-01,\n",
       "         1.36708632e-01,   1.66346192e-01,   1.60967276e-01,\n",
       "         1.19511679e-01,   7.56704509e-02,   5.26295230e-02,\n",
       "         2.35522110e-02,   7.94502907e-03,   3.97549290e-03,\n",
       "         1.63675379e-03,   7.22431461e-04,   1.54099124e-03,\n",
       "         9.31062605e-05,   6.01170992e-04,   3.47367465e-03,\n",
       "         5.03430795e-03,   1.38101112e-02,   3.48187163e-02,\n",
       "         5.85917309e-02,   8.04180577e-02,   1.15772970e-01,\n",
       "         1.49267063e-01,   1.22960672e-01,   1.04135714e-01,\n",
       "         1.13579340e-01,   1.13736354e-01,   1.42594457e-01,\n",
       "         1.43216729e-01,   1.56095669e-01,   1.87835187e-01,\n",
       "         1.63733482e-01,   1.28161937e-01,   8.89565498e-02,\n",
       "         6.41846880e-02,   2.66239271e-02,   9.87889711e-03,\n",
       "         2.14053760e-03,   1.61798869e-03,   3.83160310e-03,\n",
       "         1.73171272e-03,   1.75323057e-05,   2.26521108e-04,\n",
       "         1.41129503e-03,   3.70346429e-03,   1.17666824e-02,\n",
       "         3.61351930e-02,   5.84387928e-02,   7.83943087e-02,\n",
       "         1.17713168e-01,   1.57314926e-01,   1.27197847e-01,\n",
       "         1.13018237e-01,   1.14781521e-01,   1.38047993e-01,\n",
       "         1.70422494e-01,   1.66933447e-01,   1.71823591e-01,\n",
       "         1.82842940e-01,   1.57358766e-01,   1.35877073e-01,\n",
       "         1.01117708e-01,   6.20435514e-02,   2.35194601e-02,\n",
       "         6.31370116e-03,  -1.36857445e-04,   2.42650253e-03,\n",
       "         3.10646812e-03,   7.50715903e-04,  -3.19625018e-04,\n",
       "        -1.68931336e-04,  -7.07535655e-05,   3.07055516e-03,\n",
       "         1.03629380e-02,   2.83049196e-02,   5.41510060e-02,\n",
       "         7.22020790e-02,   1.13352403e-01,   1.57855079e-01,\n",
       "         1.52523160e-01,   1.38731092e-01,   1.30183965e-01,\n",
       "         1.66851163e-01,   1.94839910e-01,   1.92241520e-01,\n",
       "         1.75863430e-01,   1.78170562e-01,   1.59247220e-01,\n",
       "         1.38504624e-01,   9.72501338e-02,   5.39308451e-02,\n",
       "         2.48158351e-02,   6.49380963e-03,   1.29453692e-05,\n",
       "         2.41537346e-03,   1.09691266e-03,   5.51485224e-04,\n",
       "         7.68997234e-06,   1.28208831e-05,   9.23228072e-05,\n",
       "         2.72654649e-03,   6.58101123e-03,   1.76772084e-02,\n",
       "         3.76674756e-02,   6.49756938e-02,   1.04270086e-01,\n",
       "         1.37852609e-01,   1.39809236e-01,   1.40575424e-01,\n",
       "         1.47894010e-01,   1.92717493e-01,   2.20901430e-01,\n",
       "         2.03529090e-01,   1.92159429e-01,   1.88767895e-01,\n",
       "         1.60568088e-01,   1.23781145e-01,   8.26798603e-02,\n",
       "         5.26351370e-02,   3.81866321e-02,   1.29550425e-02,\n",
       "         3.44869075e-03,   9.18388134e-04,   1.67465617e-03,\n",
       "         7.46040838e-04,   9.68685345e-05,  -1.46606966e-04,\n",
       "         4.73380147e-04,   2.98643298e-03,   3.19640082e-03,\n",
       "         1.02719273e-02,   2.73184553e-02,   4.84694131e-02,\n",
       "         8.25472474e-02,   1.01630710e-01,   9.56645086e-02,\n",
       "         1.01233482e-01,   1.15192533e-01,   1.56586707e-01,\n",
       "         1.89140171e-01,   1.86575785e-01,   1.96927324e-01,\n",
       "         1.80721104e-01,   1.44702137e-01,   1.16992764e-01,\n",
       "         8.01495016e-02,   5.90887032e-02,   4.28286977e-02,\n",
       "         1.55593082e-02,   5.15945535e-03,   4.49677580e-04,\n",
       "         1.26468507e-03,   5.62206900e-04,   0.00000000e+00,\n",
       "         1.85026453e-04,   1.13189733e-03,   4.65864502e-03,\n",
       "         9.77887958e-03,   1.84764508e-02,   3.37240025e-02,\n",
       "         4.88544740e-02,   8.07161927e-02,   1.01150721e-01,\n",
       "         9.85937417e-02,   9.91814956e-02,   1.12531893e-01,\n",
       "         1.59463942e-01,   1.89508021e-01,   1.75988063e-01,\n",
       "         1.66208178e-01,   1.46850675e-01,   1.14271633e-01,\n",
       "         1.01324894e-01,   8.78846347e-02,   6.28310964e-02,\n",
       "         3.92706655e-02,   1.08641647e-02,   2.95428070e-03,\n",
       "         1.26325001e-03,   4.81211551e-04,   1.04999158e-03,\n",
       "        -3.41671228e-04,   1.63601668e-04,   1.33918889e-03,\n",
       "         6.28665881e-03,   1.70158334e-02,   3.87986377e-02,\n",
       "         5.54186180e-02,   6.05407916e-02,   7.96674043e-02,\n",
       "         1.05483949e-01,   1.09363168e-01,   1.04867496e-01,\n",
       "         1.14948548e-01,   1.60561994e-01,   1.79254726e-01,\n",
       "         1.55366063e-01,   1.52924404e-01,   1.36039540e-01,\n",
       "         1.15090549e-01,   9.99341160e-02,   8.98138732e-02,\n",
       "         5.38031124e-02,   3.15493084e-02,   1.73070151e-02,\n",
       "         1.21256579e-02,   6.30880147e-03,   1.35563524e-03,\n",
       "         1.75942865e-03,   3.81635851e-04,   2.84064736e-04,\n",
       "         1.57085876e-03,   7.40702171e-03,   2.29132678e-02,\n",
       "         5.09851985e-02,   7.26268217e-02,   7.06519336e-02,\n",
       "         7.66228363e-02,   1.01258285e-01,   1.13379888e-01,\n",
       "         1.20916717e-01,   1.36390314e-01,   1.60458073e-01,\n",
       "         1.61309630e-01,   1.57997474e-01,   1.71092674e-01,\n",
       "         1.57006666e-01,   1.34081721e-01,   1.08877055e-01,\n",
       "         7.57628009e-02,   4.90397178e-02,   3.75473760e-02,\n",
       "         2.76941974e-02,   1.43098179e-02,   8.69610999e-03,\n",
       "         1.82437000e-03,  -6.87498250e-05,   0.00000000e+00,\n",
       "         5.09631573e-05,   1.15764397e-03,   6.93182554e-03,\n",
       "         2.24085543e-02,   5.01481220e-02,   6.94245994e-02,\n",
       "         6.19375929e-02,   6.33271337e-02,   7.54088312e-02,\n",
       "         1.07926518e-01,   1.40215635e-01,   1.63463607e-01,\n",
       "         1.75597087e-01,   1.78376645e-01,   2.00841546e-01,\n",
       "         1.94519848e-01,   1.65119961e-01,   1.32358417e-01,\n",
       "         9.26409215e-02,   7.02892989e-02,   5.47941513e-02,\n",
       "         4.54323664e-02,   3.21402773e-02,   1.40690589e-02,\n",
       "         4.63891635e-03,   1.48319674e-03,   5.25840442e-05,\n",
       "        -4.94516047e-04,   1.26018201e-03,   1.26395898e-03,\n",
       "         5.03063295e-03,   1.63943991e-02,   4.12458032e-02,\n",
       "         5.51031977e-02,   5.36770299e-02,   5.76817654e-02,\n",
       "         7.66248107e-02,   1.03042915e-01,   1.39154330e-01,\n",
       "         1.72092095e-01,   1.88946918e-01,   2.09891781e-01,\n",
       "         2.21839428e-01,   1.74853191e-01,   1.20911196e-01,\n",
       "         9.84446630e-02,   8.04778263e-02,   6.45520091e-02,\n",
       "         4.71079685e-02,   3.59307081e-02,   2.17484739e-02,\n",
       "         9.17979982e-03,   3.04762437e-03,   2.90016498e-04,\n",
       "        -1.37839816e-04,  -3.26349458e-04,  -3.37710371e-04,\n",
       "         1.15928415e-03,   3.42255482e-03,   1.28466440e-02,\n",
       "         3.22195999e-02,   5.14873080e-02,   5.68016395e-02,\n",
       "         7.20368028e-02,   1.03013083e-01,   1.33604005e-01,\n",
       "         1.62636518e-01,   1.76773190e-01,   1.89053640e-01,\n",
       "         1.96851283e-01,   1.78087041e-01,   1.17767371e-01,\n",
       "         7.99007863e-02,   7.49482587e-02,   5.86781204e-02,\n",
       "         3.80916446e-02,   2.33650599e-02,   1.58953685e-02,\n",
       "         7.82572478e-03,   3.34440917e-03,   7.13068468e-04,\n",
       "        -4.08803317e-04,  -1.22677011e-06,   0.00000000e+00,\n",
       "         0.00000000e+00,  -5.55491206e-05,   2.52710585e-03,\n",
       "         1.09069496e-02,   2.64451858e-02,   4.51048799e-02,\n",
       "         5.58624007e-02,   6.70027882e-02,   8.85387734e-02,\n",
       "         1.02580756e-01,   1.18571706e-01,   1.21890716e-01,\n",
       "         1.17406011e-01,   1.19213000e-01,   1.06161840e-01,\n",
       "         7.56654888e-02,   6.42124489e-02,   5.27862199e-02,\n",
       "         2.85143964e-02,   1.20504759e-02,   8.47136974e-03,\n",
       "         6.13821112e-03,   3.65489861e-03,   9.45879379e-04,\n",
       "        -1.13193481e-03,  -2.56731728e-04,   0.00000000e+00,\n",
       "         0.00000000e+00,   0.00000000e+00,  -1.01603720e-04,\n",
       "         7.89095822e-04,   6.74727932e-03,   1.38343479e-02,\n",
       "         2.35218778e-02,   3.14957872e-02,   3.01760603e-02,\n",
       "         2.56758984e-02,   3.99293341e-02,   6.02814294e-02,\n",
       "         6.84248731e-02,   6.08995259e-02,   7.37003833e-02,\n",
       "         8.61763731e-02,   7.20250010e-02,   4.76651415e-02,\n",
       "         2.75353510e-02,   1.19041111e-02,   9.30462312e-03,\n",
       "         7.59972027e-03,   4.23115632e-03,   1.24723196e-03,\n",
       "         2.69565091e-04,   3.14583129e-04,  -2.74032936e-06,\n",
       "         0.00000000e+00,   0.00000000e+00,   0.00000000e+00,\n",
       "         5.60016888e-05,  -6.93378970e-05,   1.35369669e-03,\n",
       "         4.32671979e-03,   7.41600106e-03,   1.12908743e-02,\n",
       "         9.10767540e-03,   4.66729980e-03,   1.39864096e-02,\n",
       "         2.84556765e-02,   3.01776286e-02,   2.48502176e-02,\n",
       "         3.51726152e-02,   4.97470908e-02,   4.23127674e-02,\n",
       "         3.05101126e-02,   1.72914788e-02,   6.88417954e-03,\n",
       "         1.13674987e-03,   1.05019880e-03,   1.70834980e-03,\n",
       "         2.27834957e-04,  -4.98221852e-05,  -1.55488960e-04,\n",
       "        -2.36709093e-04,   0.00000000e+00,   0.00000000e+00,\n",
       "         0.00000000e+00,   0.00000000e+00,   0.00000000e+00,\n",
       "        -2.00007926e-05,   7.72886211e-04,   1.57774962e-03,\n",
       "         3.33172060e-03,   4.90326993e-03,   7.09666684e-03,\n",
       "         1.48291262e-02,   2.17203870e-02,   2.00105999e-02,\n",
       "         1.49793858e-02,   1.90307908e-02,   2.59069465e-02,\n",
       "         2.38832720e-02,   1.89979915e-02,   1.09478654e-02,\n",
       "         5.13716182e-03,   1.83026330e-03,   1.26500661e-03,\n",
       "         1.24935969e-03,   5.54336235e-04,  -5.09623380e-04,\n",
       "         1.45842132e-04,   0.00000000e+00,   0.00000000e+00,\n",
       "         0.00000000e+00,   0.00000000e+00,   0.00000000e+00,\n",
       "         0.00000000e+00,   1.65071455e-04,  -1.65999096e-04,\n",
       "         4.62626107e-04,   7.81925512e-04,   4.06989740e-04,\n",
       "        -5.05537842e-04,   7.86173623e-05,   8.92675249e-04,\n",
       "         2.67104967e-03,   3.69627285e-03,   4.07707039e-03,\n",
       "         5.85612468e-03,   7.37552578e-03,   5.82248485e-03,\n",
       "         2.81700282e-03,   1.09579286e-03,  -2.46998097e-05,\n",
       "        -3.21392145e-04,   5.30996876e-05,  -8.23644314e-06,\n",
       "         0.00000000e+00,   0.00000000e+00,   0.00000000e+00,\n",
       "         0.00000000e+00], dtype=float32)"
      ]
     },
     "execution_count": 17,
     "metadata": {},
     "output_type": "execute_result"
    }
   ],
   "source": [
    "decoder_bias"
   ]
  },
  {
   "cell_type": "code",
   "execution_count": 18,
   "metadata": {},
   "outputs": [
    {
     "data": {
      "text/plain": [
       "(200,)"
      ]
     },
     "execution_count": 18,
     "metadata": {},
     "output_type": "execute_result"
    }
   ],
   "source": [
    "encoder_bias.shape"
   ]
  },
  {
   "cell_type": "code",
   "execution_count": 19,
   "metadata": {},
   "outputs": [
    {
     "data": {
      "text/plain": [
       "(784,)"
      ]
     },
     "execution_count": 19,
     "metadata": {},
     "output_type": "execute_result"
    }
   ],
   "source": [
    "decoder_bias.shape"
   ]
  },
  {
   "cell_type": "code",
   "execution_count": null,
   "metadata": {
    "collapsed": true
   },
   "outputs": [],
   "source": []
  }
 ],
 "metadata": {
  "kernelspec": {
   "display_name": "Python 3",
   "language": "python",
   "name": "python3"
  },
  "language_info": {
   "codemirror_mode": {
    "name": "ipython",
    "version": 3
   },
   "file_extension": ".py",
   "mimetype": "text/x-python",
   "name": "python",
   "nbconvert_exporter": "python",
   "pygments_lexer": "ipython3",
   "version": "3.6.1"
  }
 },
 "nbformat": 4,
 "nbformat_minor": 2
}
