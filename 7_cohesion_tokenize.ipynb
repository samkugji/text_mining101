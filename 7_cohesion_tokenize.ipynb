{
 "cells": [
  {
   "cell_type": "code",
   "execution_count": 1,
   "metadata": {
    "collapsed": true
   },
   "outputs": [],
   "source": [
    "import sys\n",
    "import numpy as np\n",
    "\n",
    "from collections import defaultdict"
   ]
  },
  {
   "cell_type": "markdown",
   "metadata": {},
   "source": [
    "# Configuration"
   ]
  },
  {
   "cell_type": "code",
   "execution_count": 2,
   "metadata": {
    "collapsed": true
   },
   "outputs": [],
   "source": [
    "USE_APPEND_MYMODULES = True\n",
    "\n",
    "if USE_APPEND_MYMODULES is True:\n",
    "    sys.path.append('./module/')"
   ]
  },
  {
   "cell_type": "code",
   "execution_count": 3,
   "metadata": {
    "collapsed": true
   },
   "outputs": [],
   "source": [
    "# my module\n",
    "\n",
    "from corpus_class import Corpus"
   ]
  },
  {
   "cell_type": "code",
   "execution_count": 4,
   "metadata": {
    "collapsed": true
   },
   "outputs": [],
   "source": [
    "corpus_fname = \"./data/2016-10-28_article_all_normed.txt\"\n",
    "\n",
    "max_l_length = 10\n",
    "min_count = 30"
   ]
  },
  {
   "cell_type": "markdown",
   "metadata": {},
   "source": [
    "# Class"
   ]
  },
  {
   "cell_type": "code",
   "execution_count": 5,
   "metadata": {
    "collapsed": true
   },
   "outputs": [],
   "source": [
    "corpus = Corpus(corpus_fname, iter_sent=False)"
   ]
  },
  {
   "cell_type": "code",
   "execution_count": 6,
   "metadata": {},
   "outputs": [
    {
     "name": "stdout",
     "output_type": "stream",
     "text": [
      "inserting subwords into L: done\n",
      "num subword = 578867\n",
      "num subword = 30922 (after pruning with min count 30)\n"
     ]
    }
   ],
   "source": [
    "corpus.iter_sent = True\n",
    "\n",
    "L = defaultdict(lambda: 0)\n",
    "\n",
    "for num_sent, sent in enumerate(corpus):\n",
    "    if num_sent % 5000 == 0:\n",
    "        sys.stdout.write('\\r inserting %d sents... ' % num_sent)\n",
    "    for token in sent.split():\n",
    "        for e in range(1, min(max_l_length, len(token)) + 1):\n",
    "            subword = token[:e]\n",
    "            L[subword] += 1\n",
    "print('\\rinserting subwords into L: done')\n",
    "print('num subword = %d' % len(L))\n",
    "\n",
    "L = {subword:freq for subword, freq in L.items() if freq >= min_count}\n",
    "print('num subword = %d (after pruning with min count %d)' % (len(L), min_count))"
   ]
  },
  {
   "cell_type": "code",
   "execution_count": 7,
   "metadata": {},
   "outputs": [
    {
     "data": {
      "text/plain": [
       "40"
      ]
     },
     "execution_count": 7,
     "metadata": {},
     "output_type": "execute_result"
    }
   ],
   "source": [
    "len(corpus_fname)"
   ]
  },
  {
   "cell_type": "code",
   "execution_count": 8,
   "metadata": {},
   "outputs": [],
   "source": [
    "def get_cohesion(word):\n",
    "    \n",
    "    # 글자가 아니거나 공백, word가 L에 없는 경우 (빈도수가 min_count 이하이거나 아예 코퍼스에 등장하지 않았던 경우)\n",
    "    if (not word) or ((word in L) == False):\n",
    "        return 0.0\n",
    "    \n",
    "    if len(word) == 1:\n",
    "        return 1.0\n",
    "    \n",
    "    word_freq = L.get(word, 0)\n",
    "    base_freq = L.get(word[:1], 0)\n",
    "    \n",
    "    if base_freq == 0:\n",
    "        return 0.0\n",
    "    else:\n",
    "        return np.power(word_freq/base_freq, 1 / (len(word) - 1))"
   ]
  },
  {
   "cell_type": "code",
   "execution_count": 9,
   "metadata": {},
   "outputs": [
    {
     "name": "stdout",
     "output_type": "stream",
     "text": [
      "청와대 :  0.722212060689\n"
     ]
    }
   ],
   "source": [
    "print('청와대 : ', get_cohesion('청와대'))"
   ]
  },
  {
   "cell_type": "markdown",
   "metadata": {},
   "source": [
    "- 길이가 2 이상인 subwords에 대하여 cohesion을 미리 계산\n",
    "- 앞에서 min_count로 필터링을 한 번 했기 때문에 적은 개수의 subwords만 cohesion을 계산"
   ]
  },
  {
   "cell_type": "code",
   "execution_count": 10,
   "metadata": {},
   "outputs": [
    {
     "data": {
      "text/plain": [
       "29908"
      ]
     },
     "execution_count": 10,
     "metadata": {},
     "output_type": "execute_result"
    }
   ],
   "source": [
    "cohesion_dict = {word:get_cohesion(word) for word in L if len(word)>=2}\n",
    "len(cohesion_dict)"
   ]
  },
  {
   "cell_type": "code",
   "execution_count": 11,
   "metadata": {},
   "outputs": [
    {
     "name": "stdout",
     "output_type": "stream",
     "text": [
      "청와 = 0.522\n",
      "\n",
      "청와대 = 0.722\n",
      "\n",
      "청와대는 = 0.283\n",
      "\n",
      "민정수석 = 0.474\n",
      "\n",
      "민정수석이 = 0.313\n",
      "\n",
      "박근 = 0.294\n",
      "\n",
      "박근혜 = 0.539\n",
      "\n",
      "박근혜의 = 0.144\n",
      "\n"
     ]
    }
   ],
   "source": [
    "for word in ['청와', '청와대', '청와대는', '민정수석', '민정수석이', '박근', '박근혜', '박근혜의']:\n",
    "    print('%s = %.3f\\n' % (word, cohesion_dict.get(word, 0.0)))"
   ]
  },
  {
   "cell_type": "markdown",
   "metadata": {},
   "source": [
    "어절 word가 입력되었을 때, L들에서 cohesion이 가장 높은 subword를 잘라내는 토크나이저를 만들어 봅시다.\n",
    "길이가 2 이상일 때 cohesion이 정의되기 때문에 길이가 2 이하인 단어는 그대로 return 합니다.\n",
    "subword 의 ending point e는 길이가 2부터 'word의 길이 혹은 L의 최대 길이'의 min까지 입니다. range(b,e)에서 e는 포함되지 않기 때문에 +1을 해주는 것을 잊지 맙시다."
   ]
  },
  {
   "cell_type": "markdown",
   "metadata": {},
   "source": [
    "### L_tokenize"
   ]
  },
  {
   "cell_type": "code",
   "execution_count": 12,
   "metadata": {},
   "outputs": [],
   "source": [
    "def L_tokenize(word, tolerance=0.1):\n",
    "    \"\"\"\n",
    "     L들에서 cohesion이 가장 높은 subword를 잘라내는 토크나이저\n",
    "     길이가 2 이상일 때 cohesion이 정의되기 때문에 길이가 2 이하인 단어는 그대로 return\n",
    "     subword 의 ending point e는 길이가 2부터 'word의 길이 혹은 L의 최대 길이'의 min\n",
    "     \n",
    "     parameter\n",
    "     tolerance: If this is True, return value when max cohesion score is lager than tolerance\n",
    "    \"\"\"\n",
    "    \n",
    "    if len(word) <= 2:\n",
    "        return word\n",
    "    \n",
    "    score = []\n",
    "    for e in range(2, min(max_l_length, len(word))+1):\n",
    "        subword = word[:e]\n",
    "        score.append((subword, cohesion_dict.get(subword, 0.0), e)) # (word, cohesion, length)\n",
    "    \n",
    "    return sorted(score, key=lambda x:(x[1], x[2]), reverse=True)[0]"
   ]
  },
  {
   "cell_type": "code",
   "execution_count": 13,
   "metadata": {},
   "outputs": [
    {
     "name": "stdout",
     "output_type": "stream",
     "text": [
      "청와대 --> ('청와대', 0.7222120606891772, 3)\n",
      "\n",
      "청와대는 --> ('청와대', 0.7222120606891772, 3)\n",
      "\n",
      "민정수석 --> ('민정수석', 0.47361601469726433, 4)\n",
      "\n",
      "민정수석이 --> ('민정수석', 0.47361601469726433, 4)\n",
      "\n",
      "박근혜 --> ('박근혜', 0.5386349787638236, 3)\n",
      "\n",
      "박근혜의 --> ('박근혜', 0.5386349787638236, 3)\n",
      "\n"
     ]
    }
   ],
   "source": [
    "for word in ['청와대', '청와대는', '민정수석', '민정수석이', '박근혜', '박근혜의']:\n",
    "    print('%s --> %s\\n' % (word, L_tokenize(word)))"
   ]
  },
  {
   "cell_type": "markdown",
   "metadata": {},
   "source": [
    "### L_tokenize_w_tolerance\n",
    "- L_tokenizer는 상황에 맞게 튜닝\n",
    "- Cohesion의 최대값을 지니는 subword를 선택하는 것이 아니라, 최대값과의 크기가 0.1 이하로 차이가 나는 subword 중에서는 가장 긴 subword를 추출"
   ]
  },
  {
   "cell_type": "code",
   "execution_count": 14,
   "metadata": {},
   "outputs": [
    {
     "name": "stdout",
     "output_type": "stream",
     "text": [
      "w tolerance: 기자단에 --> ('기자', 0.36924713107020946, 2)\n",
      "wo tolerance: 기자단에 --> 기자단\n",
      "\n"
     ]
    }
   ],
   "source": [
    "my_cohesion_dict = {\n",
    "    '기자': 0.5,\n",
    "    '기자단': 0.45\n",
    "}\n",
    "\n",
    "def L_tokenize_w_tolerance(word, tolerance=0.1):\n",
    "    \"\"\"\n",
    "    parameter: tolerance\n",
    "    Cohesion의 최대값을 지니는 subword를 선택하는 것이 아니라, \n",
    "    최대값과의 크기가 tolerance 값 이하로 차이가 나는 subword 중에서 가장 긴 subword를 추출\n",
    "    \"\"\"\n",
    "    if len(word) <= 2:\n",
    "        return word\n",
    "    \n",
    "    score = []\n",
    "    for e in range(2, min(len(word), max_l_length)+1):\n",
    "        subword = word[:e]\n",
    "        score.append((subword, my_cohesion_dict.get(subword, 0), e)) # (word, cohesion, length)\n",
    "    \n",
    "    max_score = max([s[1] for s in score])\n",
    "    score = [s for s in score if (max_score - s[1]) <= tolerance]\n",
    "    \n",
    "    return sorted(score, key=lambda x:x[2], reverse=True)[0][0]\n",
    "\n",
    "\n",
    "for word in ['기자단에']:\n",
    "    print('w tolerance: %s --> %s' % (word, L_tokenize(word)))\n",
    "    print('wo tolerance: %s --> %s\\n' % (word, L_tokenize_w_tolerance(word)))"
   ]
  }
 ],
 "metadata": {
  "kernelspec": {
   "display_name": "Python 3",
   "language": "python",
   "name": "python3"
  },
  "language_info": {
   "codemirror_mode": {
    "name": "ipython",
    "version": 3
   },
   "file_extension": ".py",
   "mimetype": "text/x-python",
   "name": "python",
   "nbconvert_exporter": "python",
   "pygments_lexer": "ipython3",
   "version": "3.5.0"
  }
 },
 "nbformat": 4,
 "nbformat_minor": 2
}
