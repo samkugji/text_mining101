{
 "cells": [
  {
   "cell_type": "code",
   "execution_count": 1,
   "metadata": {},
   "outputs": [
    {
     "name": "stdout",
     "output_type": "stream",
     "text": [
      "<named_entity_extractor function>\n",
      "template_pattern: ('<ACTOR>', ('나온', '출연한', '출연'))\n",
      "template_begin: 1\n",
      "template_end: 1\n",
      "\n",
      "<match function>\n",
      "b:1, e:2\n",
      "subtokens:  ['디카프리오가', '나온']\n",
      "\n",
      "<match function>\n",
      "b:2, e:3\n",
      "subtokens:  ['나온', '영화는?']\n",
      "\n",
      "<named_entity_extractor function>\n",
      "template_pattern: ('<ACTOR>', ('가', '이'), ('나온', '출연한', '출연'))\n",
      "template_begin: 2\n",
      "template_end: 1\n",
      "\n",
      "<match function>\n",
      "b:2, e:3\n",
      "subtokens:  ['디카프리오가', '나온', '영화는?']\n",
      "\n",
      "<named_entity_extractor function>\n",
      "template_pattern: ('<DIRECTOR>', ('만든', '제작', '제작한', '감독', '감독한'))\n",
      "template_begin: 1\n",
      "template_end: 1\n",
      "\n",
      "<match function>\n",
      "b:1, e:2\n",
      "subtokens:  ['디카프리오가', '나온']\n",
      "\n",
      "<match function>\n",
      "b:2, e:3\n",
      "subtokens:  ['나온', '영화는?']\n",
      "\n",
      "<named_entity_extractor function>\n",
      "template_pattern: ('<DIRECTOR>', ('가', '이'), ('만든', '제작', '제작한', '감독', '감독한'))\n",
      "template_begin: 2\n",
      "template_end: 1\n",
      "\n",
      "<match function>\n",
      "b:2, e:3\n",
      "subtokens:  ['디카프리오가', '나온', '영화는?']\n",
      "\n"
     ]
    },
    {
     "data": {
      "text/plain": [
       "{'디카프리오가': '<ACTOR>'}"
      ]
     },
     "execution_count": 1,
     "metadata": {},
     "output_type": "execute_result"
    }
   ],
   "source": [
    "from ner import named_entity_extractor\n",
    "named_entity_extractor('디카프리오가 나온 영화는?'.split(), verbose=True)"
   ]
  },
  {
   "cell_type": "code",
   "execution_count": 3,
   "metadata": {},
   "outputs": [
    {
     "data": {
      "text/plain": [
       "[<Requests.RESERVE_MOVIE: 5>]"
      ]
     },
     "execution_count": 3,
     "metadata": {},
     "output_type": "execute_result"
    }
   ],
   "source": [
    "from intention import intention_classifier\n",
    "from intention import Requests\n",
    "intention_classifier('내일밤 영화 좀 예약 해줘'.split())"
   ]
  },
  {
   "cell_type": "code",
   "execution_count": null,
   "metadata": {
    "collapsed": true
   },
   "outputs": [],
   "source": []
  }
 ],
 "metadata": {
  "kernelspec": {
   "display_name": "Python 3",
   "language": "python",
   "name": "python3"
  },
  "language_info": {
   "codemirror_mode": {
    "name": "ipython",
    "version": 3
   },
   "file_extension": ".py",
   "mimetype": "text/x-python",
   "name": "python",
   "nbconvert_exporter": "python",
   "pygments_lexer": "ipython3",
   "version": "3.5.0"
  }
 },
 "nbformat": 4,
 "nbformat_minor": 2
}
