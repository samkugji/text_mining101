{
 "cells": [
  {
   "cell_type": "markdown",
   "metadata": {},
   "source": [
    "# RNN tutorial\n",
    "- Use tf.contrib.rnn.static_rnn with MNIST dataset"
   ]
  },
  {
   "cell_type": "code",
   "execution_count": 1,
   "metadata": {
    "collapsed": true
   },
   "outputs": [],
   "source": [
    "import time\n",
    "import numpy as np\n",
    "import tensorflow as tf\n",
    "\n",
    "from tensorflow.contrib import rnn\n",
    "from tensorflow.examples.tutorials.mnist import input_data\n",
    "from pprint import pprint"
   ]
  },
  {
   "cell_type": "markdown",
   "metadata": {},
   "source": [
    "# 0. Load MNIST data"
   ]
  },
  {
   "cell_type": "code",
   "execution_count": 2,
   "metadata": {},
   "outputs": [
    {
     "name": "stdout",
     "output_type": "stream",
     "text": [
      "Extracting MNIST_idx3/train-images-idx3-ubyte.gz\n",
      "Extracting MNIST_idx3/train-labels-idx1-ubyte.gz\n",
      "Extracting MNIST_idx3/t10k-images-idx3-ubyte.gz\n",
      "Extracting MNIST_idx3/t10k-labels-idx1-ubyte.gz\n"
     ]
    }
   ],
   "source": [
    "mnist = input_data.read_data_sets('MNIST_idx3/', one_hot=False)"
   ]
  },
  {
   "cell_type": "code",
   "execution_count": 3,
   "metadata": {
    "collapsed": true
   },
   "outputs": [],
   "source": [
    "X_train, Y_train = mnist.train.images, mnist.train.labels\n",
    "X_val, Y_val = mnist.validation.images, mnist.validation.labels\n",
    "X_test, Y_test = mnist.test.images, mnist.test.labels"
   ]
  },
  {
   "cell_type": "code",
   "execution_count": 4,
   "metadata": {},
   "outputs": [
    {
     "name": "stdout",
     "output_type": "stream",
     "text": [
      "Dimension of X: 784 (28 x 28)\n"
     ]
    }
   ],
   "source": [
    "dim_X = X_train.shape[1]\n",
    "pixel_X = int(np.sqrt(dim_X)) # np.sqrt의 출력이 float32이므로, 이를 int 자료형으로 변경\n",
    "\n",
    "print(\"Dimension of X: %d (%d x %d)\" % (dim_X, pixel_X, pixel_X))"
   ]
  },
  {
   "cell_type": "markdown",
   "metadata": {},
   "source": [
    "# 1. Parameters"
   ]
  },
  {
   "cell_type": "code",
   "execution_count": 5,
   "metadata": {
    "collapsed": true
   },
   "outputs": [],
   "source": [
    "LEARNING_RATE  = 0.001\n",
    "N_EPOCHS       = 10\n",
    "BATCH_SIZE     = 128\n",
    "DISPLAY_STEP   = 50\n",
    "VAL_EPOCH      = 5\n",
    "\n",
    "n_input   = pixel_X\n",
    "n_steps   = pixel_X\n",
    "n_hidden  = 32\n",
    "n_classes = 10"
   ]
  },
  {
   "cell_type": "markdown",
   "metadata": {},
   "source": [
    "## 2. Placeholders"
   ]
  },
  {
   "cell_type": "code",
   "execution_count": 6,
   "metadata": {
    "collapsed": true
   },
   "outputs": [],
   "source": [
    "X = tf.placeholder(tf.float32, [None, dim_X])\n",
    "Y = tf.placeholder(tf.int32, [None,])"
   ]
  },
  {
   "cell_type": "code",
   "execution_count": 7,
   "metadata": {},
   "outputs": [
    {
     "name": "stdout",
     "output_type": "stream",
     "text": [
      "(?, 784)\n"
     ]
    }
   ],
   "source": [
    "print(X.get_shape())"
   ]
  },
  {
   "cell_type": "markdown",
   "metadata": {},
   "source": [
    "## reshape"
   ]
  },
  {
   "cell_type": "code",
   "execution_count": 8,
   "metadata": {},
   "outputs": [
    {
     "name": "stdout",
     "output_type": "stream",
     "text": [
      "X shpae:  (?, 784)\n",
      "X reshape:  (?, 28, 28)\n",
      "X reshape unstacked list length:  28\n",
      "<class 'list'>\n",
      "[<tf.Tensor 'unstack:0' shape=(?, 28) dtype=float32>,\n",
      " <tf.Tensor 'unstack:1' shape=(?, 28) dtype=float32>,\n",
      " <tf.Tensor 'unstack:2' shape=(?, 28) dtype=float32>,\n",
      " <tf.Tensor 'unstack:3' shape=(?, 28) dtype=float32>,\n",
      " <tf.Tensor 'unstack:4' shape=(?, 28) dtype=float32>,\n",
      " <tf.Tensor 'unstack:5' shape=(?, 28) dtype=float32>,\n",
      " <tf.Tensor 'unstack:6' shape=(?, 28) dtype=float32>,\n",
      " <tf.Tensor 'unstack:7' shape=(?, 28) dtype=float32>,\n",
      " <tf.Tensor 'unstack:8' shape=(?, 28) dtype=float32>,\n",
      " <tf.Tensor 'unstack:9' shape=(?, 28) dtype=float32>,\n",
      " <tf.Tensor 'unstack:10' shape=(?, 28) dtype=float32>,\n",
      " <tf.Tensor 'unstack:11' shape=(?, 28) dtype=float32>,\n",
      " <tf.Tensor 'unstack:12' shape=(?, 28) dtype=float32>,\n",
      " <tf.Tensor 'unstack:13' shape=(?, 28) dtype=float32>,\n",
      " <tf.Tensor 'unstack:14' shape=(?, 28) dtype=float32>,\n",
      " <tf.Tensor 'unstack:15' shape=(?, 28) dtype=float32>,\n",
      " <tf.Tensor 'unstack:16' shape=(?, 28) dtype=float32>,\n",
      " <tf.Tensor 'unstack:17' shape=(?, 28) dtype=float32>,\n",
      " <tf.Tensor 'unstack:18' shape=(?, 28) dtype=float32>,\n",
      " <tf.Tensor 'unstack:19' shape=(?, 28) dtype=float32>,\n",
      " <tf.Tensor 'unstack:20' shape=(?, 28) dtype=float32>,\n",
      " <tf.Tensor 'unstack:21' shape=(?, 28) dtype=float32>,\n",
      " <tf.Tensor 'unstack:22' shape=(?, 28) dtype=float32>,\n",
      " <tf.Tensor 'unstack:23' shape=(?, 28) dtype=float32>,\n",
      " <tf.Tensor 'unstack:24' shape=(?, 28) dtype=float32>,\n",
      " <tf.Tensor 'unstack:25' shape=(?, 28) dtype=float32>,\n",
      " <tf.Tensor 'unstack:26' shape=(?, 28) dtype=float32>,\n",
      " <tf.Tensor 'unstack:27' shape=(?, 28) dtype=float32>]\n"
     ]
    }
   ],
   "source": [
    "# for RNN I need tensor which is axis=1\n",
    "reshaped_X = tf.reshape(tensor=X, shape=[-1, n_steps, n_input])\n",
    "unstacked_X = tf.unstack(value=reshaped_X, num=n_steps, axis=1)\n",
    "\n",
    "print(\"X shpae: \", X.get_shape())\n",
    "print(\"X reshape: \", reshaped_X.get_shape())\n",
    "print(\"X reshape unstacked list length: \", len(unstacked_X))\n",
    "print(type(unstacked_X))\n",
    "pprint(unstacked_X)"
   ]
  },
  {
   "cell_type": "markdown",
   "metadata": {},
   "source": [
    "## 3. Model"
   ]
  },
  {
   "cell_type": "code",
   "execution_count": 9,
   "metadata": {
    "collapsed": true
   },
   "outputs": [],
   "source": [
    "def RNN_static(X, n_steps, n_hidden, n_classes):\n",
    "    \n",
    "    # Reshape the placeholder\n",
    "    reshaped_X = tf.reshape(tensor=X, shape=[-1, n_steps, n_input], name=\"reshaped\")\n",
    "    \n",
    "    # Unstack to get a list of 'n_steps' tensors of shape [batch_size, n_input]\n",
    "    unstacked_X = tf.unstack(value=reshaped_X, num=n_steps, axis=1, name=\"unstack\")\n",
    "    \n",
    "    # Define RNN cell\n",
    "    rnn_basic_cell = rnn.BasicRNNCell(num_units=n_hidden)\n",
    "    \n",
    "    # Get RNN cell outputs\n",
    "    outputs, _ = rnn.static_rnn(cell=rnn_basic_cell,\n",
    "                             inputs=unstacked_X,\n",
    "                             dtype=tf.float32)\n",
    "    # Define weights and biases\n",
    "    W = tf.get_variable(name=\"weight\",\n",
    "                       shape=[n_hidden, n_classes],\n",
    "                       initializer=tf.contrib.layers.xavier_initializer())\n",
    "    b = tf.get_variable(name=\"bias\",\n",
    "                        shape=[n_classes],\n",
    "                        initializer=tf.constant_initializer(0.0))\n",
    "    \n",
    "    # Calculate logits\n",
    "    # last rnn output: outputs[-1] (because the type of outputs is \"list\")\n",
    "    logits = tf.nn.xw_plus_b(x=outputs[-1], weights=W, biases=b, name=\"logits\")\n",
    "    \n",
    "    return logits"
   ]
  },
  {
   "cell_type": "code",
   "execution_count": 10,
   "metadata": {},
   "outputs": [
    {
     "name": "stdout",
     "output_type": "stream",
     "text": [
      "Tensor(\"logits:0\", shape=(?, 10), dtype=float32)\n"
     ]
    }
   ],
   "source": [
    "# logits: output vector of RNN_static\n",
    "logits = RNN_static(X, n_steps, n_hidden, n_classes)\n",
    "print(logits)"
   ]
  },
  {
   "cell_type": "code",
   "execution_count": 11,
   "metadata": {
    "collapsed": true
   },
   "outputs": [],
   "source": [
    "cost = tf.reduce_mean(tf.nn.sparse_softmax_cross_entropy_with_logits(logits=logits, labels=Y))\n",
    "train_op = tf.train.AdamOptimizer(learning_rate=LEARNING_RATE).minimize(cost)"
   ]
  },
  {
   "cell_type": "code",
   "execution_count": 12,
   "metadata": {
    "collapsed": true
   },
   "outputs": [],
   "source": [
    "correct_prediction = tf.nn.in_top_k(predictions=logits, targets=Y, k=1)\n",
    "accuracy = tf.reduce_mean(tf.cast(correct_prediction, tf.float32))"
   ]
  },
  {
   "cell_type": "code",
   "execution_count": 13,
   "metadata": {
    "collapsed": true
   },
   "outputs": [],
   "source": [
    "def make_batch_step(Y, batch_size, allow_small_batch=True):\n",
    "    num_points = len(Y)\n",
    "    start_idx = list(range(0, num_points, batch_size))\n",
    "    end_idx = list(range(batch_size, num_points+1, batch_size))\n",
    "    \n",
    "    if allow_small_batch:\n",
    "        start_idx.append(end_idx[-1] + 1)\n",
    "        end_idx.append(num_points)\n",
    "    \n",
    "    return zip(start_idx, end_idx)"
   ]
  },
  {
   "cell_type": "markdown",
   "metadata": {},
   "source": [
    "# 4. Run"
   ]
  },
  {
   "cell_type": "code",
   "execution_count": 14,
   "metadata": {},
   "outputs": [
    {
     "name": "stdout",
     "output_type": "stream",
     "text": [
      "[  0 step /   0 epoch] cost = 2.355705, accuracy = 0.078125\n",
      "[ 50 step /   0 epoch] cost = 1.965081, accuracy = 0.273438\n",
      "[100 step /   0 epoch] cost = 1.772215, accuracy = 0.335938\n",
      "[150 step /   0 epoch] cost = 1.438617, accuracy = 0.531250\n",
      "[200 step /   0 epoch] cost = 1.257221, accuracy = 0.609375\n",
      "[250 step /   0 epoch] cost = 1.252578, accuracy = 0.562500\n",
      "[300 step /   0 epoch] cost = 0.973298, accuracy = 0.648438\n",
      "[350 step /   0 epoch] cost = 1.020648, accuracy = 0.632812\n",
      "[400 step /   0 epoch] cost = 1.040885, accuracy = 0.664062\n",
      "\n",
      "\t[  0 epoch] validation cost = 0.904405, validation accuracy = 0.727200\n",
      "\n",
      "\n",
      "[  0 step /   1 epoch] cost = 0.837739, accuracy = 0.734375\n",
      "[ 50 step /   1 epoch] cost = 0.868781, accuracy = 0.687500\n",
      "[100 step /   1 epoch] cost = 0.996840, accuracy = 0.664062\n",
      "[150 step /   1 epoch] cost = 0.860663, accuracy = 0.726562\n",
      "[200 step /   1 epoch] cost = 0.824177, accuracy = 0.750000\n",
      "[250 step /   1 epoch] cost = 0.947818, accuracy = 0.726562\n",
      "[300 step /   1 epoch] cost = 0.668437, accuracy = 0.765625\n",
      "[350 step /   1 epoch] cost = 0.731312, accuracy = 0.789062\n",
      "[400 step /   1 epoch] cost = 0.727742, accuracy = 0.781250\n",
      "\n",
      "[  0 step /   2 epoch] cost = 0.687149, accuracy = 0.796875\n",
      "[ 50 step /   2 epoch] cost = 0.643682, accuracy = 0.789062\n",
      "[100 step /   2 epoch] cost = 0.866929, accuracy = 0.718750\n",
      "[150 step /   2 epoch] cost = 0.657144, accuracy = 0.828125\n",
      "[200 step /   2 epoch] cost = 0.660846, accuracy = 0.789062\n",
      "[250 step /   2 epoch] cost = 0.712103, accuracy = 0.796875\n",
      "[300 step /   2 epoch] cost = 0.393689, accuracy = 0.890625\n",
      "[350 step /   2 epoch] cost = 0.571642, accuracy = 0.835938\n",
      "[400 step /   2 epoch] cost = 0.626723, accuracy = 0.789062\n",
      "\n",
      "[  0 step /   3 epoch] cost = 0.635438, accuracy = 0.812500\n",
      "[ 50 step /   3 epoch] cost = 0.521978, accuracy = 0.859375\n",
      "[100 step /   3 epoch] cost = 0.671680, accuracy = 0.789062\n",
      "[150 step /   3 epoch] cost = 0.550457, accuracy = 0.851562\n",
      "[200 step /   3 epoch] cost = 0.622873, accuracy = 0.812500\n",
      "[250 step /   3 epoch] cost = 0.570593, accuracy = 0.851562\n",
      "[300 step /   3 epoch] cost = 0.324411, accuracy = 0.921875\n",
      "[350 step /   3 epoch] cost = 0.470271, accuracy = 0.875000\n",
      "[400 step /   3 epoch] cost = 0.550690, accuracy = 0.812500\n",
      "\n",
      "[  0 step /   4 epoch] cost = 0.562872, accuracy = 0.843750\n",
      "[ 50 step /   4 epoch] cost = 0.410275, accuracy = 0.921875\n",
      "[100 step /   4 epoch] cost = 0.574665, accuracy = 0.812500\n",
      "[150 step /   4 epoch] cost = 0.484088, accuracy = 0.875000\n",
      "[200 step /   4 epoch] cost = 0.602934, accuracy = 0.804688\n",
      "[250 step /   4 epoch] cost = 0.568783, accuracy = 0.843750\n",
      "[300 step /   4 epoch] cost = 0.263217, accuracy = 0.953125\n",
      "[350 step /   4 epoch] cost = 0.449256, accuracy = 0.851562\n",
      "[400 step /   4 epoch] cost = 0.497920, accuracy = 0.843750\n",
      "\n",
      "[  0 step /   5 epoch] cost = 0.502091, accuracy = 0.859375\n",
      "[ 50 step /   5 epoch] cost = 0.369531, accuracy = 0.921875\n",
      "[100 step /   5 epoch] cost = 0.506160, accuracy = 0.820312\n",
      "[150 step /   5 epoch] cost = 0.434517, accuracy = 0.867188\n",
      "[200 step /   5 epoch] cost = 0.544871, accuracy = 0.843750\n",
      "[250 step /   5 epoch] cost = 0.507054, accuracy = 0.859375\n",
      "[300 step /   5 epoch] cost = 0.251582, accuracy = 0.937500\n",
      "[350 step /   5 epoch] cost = 0.447245, accuracy = 0.859375\n",
      "[400 step /   5 epoch] cost = 0.447892, accuracy = 0.859375\n",
      "\n",
      "\t[  5 epoch] validation cost = 0.384775, validation accuracy = 0.884400\n",
      "\n",
      "\n",
      "[  0 step /   6 epoch] cost = 0.467000, accuracy = 0.843750\n",
      "[ 50 step /   6 epoch] cost = 0.322065, accuracy = 0.921875\n",
      "[100 step /   6 epoch] cost = 0.394276, accuracy = 0.843750\n",
      "[150 step /   6 epoch] cost = 0.389551, accuracy = 0.898438\n",
      "[200 step /   6 epoch] cost = 0.512771, accuracy = 0.851562\n",
      "[250 step /   6 epoch] cost = 0.458660, accuracy = 0.882812\n",
      "[300 step /   6 epoch] cost = 0.244414, accuracy = 0.929688\n",
      "[350 step /   6 epoch] cost = 0.436259, accuracy = 0.859375\n",
      "[400 step /   6 epoch] cost = 0.402583, accuracy = 0.851562\n",
      "\n",
      "[  0 step /   7 epoch] cost = 0.458195, accuracy = 0.851562\n",
      "[ 50 step /   7 epoch] cost = 0.237146, accuracy = 0.914062\n",
      "[100 step /   7 epoch] cost = 0.341740, accuracy = 0.875000\n",
      "[150 step /   7 epoch] cost = 0.370427, accuracy = 0.906250\n",
      "[200 step /   7 epoch] cost = 0.470344, accuracy = 0.867188\n",
      "[250 step /   7 epoch] cost = 0.409462, accuracy = 0.882812\n",
      "[300 step /   7 epoch] cost = 0.253646, accuracy = 0.929688\n",
      "[350 step /   7 epoch] cost = 0.430054, accuracy = 0.867188\n",
      "[400 step /   7 epoch] cost = 0.368331, accuracy = 0.867188\n",
      "\n",
      "[  0 step /   8 epoch] cost = 0.438496, accuracy = 0.843750\n",
      "[ 50 step /   8 epoch] cost = 0.221430, accuracy = 0.921875\n",
      "[100 step /   8 epoch] cost = 0.328993, accuracy = 0.875000\n",
      "[150 step /   8 epoch] cost = 0.339094, accuracy = 0.914062\n",
      "[200 step /   8 epoch] cost = 0.436592, accuracy = 0.875000\n",
      "[250 step /   8 epoch] cost = 0.389448, accuracy = 0.875000\n",
      "[300 step /   8 epoch] cost = 0.243624, accuracy = 0.929688\n",
      "[350 step /   8 epoch] cost = 0.404314, accuracy = 0.859375\n",
      "[400 step /   8 epoch] cost = 0.322274, accuracy = 0.914062\n",
      "\n",
      "[  0 step /   9 epoch] cost = 0.407774, accuracy = 0.875000\n",
      "[ 50 step /   9 epoch] cost = 0.200334, accuracy = 0.937500\n",
      "[100 step /   9 epoch] cost = 0.316437, accuracy = 0.890625\n",
      "[150 step /   9 epoch] cost = 0.327454, accuracy = 0.929688\n",
      "[200 step /   9 epoch] cost = 0.405793, accuracy = 0.859375\n",
      "[250 step /   9 epoch] cost = 0.385747, accuracy = 0.882812\n",
      "[300 step /   9 epoch] cost = 0.225282, accuracy = 0.937500\n",
      "[350 step /   9 epoch] cost = 0.401330, accuracy = 0.851562\n",
      "[400 step /   9 epoch] cost = 0.285718, accuracy = 0.914062\n",
      "\n",
      "\n",
      "\t[Test] test cost = 0.292921, test accuracy = 0.913200\n"
     ]
    }
   ],
   "source": [
    "start_time = time.time()\n",
    "\n",
    "with tf.Session() as sess:\n",
    "    sess.run(tf.global_variables_initializer())\n",
    "    \n",
    "    for epoch in range(N_EPOCHS):\n",
    "        batch_step = make_batch_step(Y=Y_train,\n",
    "                                        batch_size=BATCH_SIZE,\n",
    "                                        allow_small_batch=True)\n",
    "        step = 0\n",
    "\n",
    "        # Train\n",
    "        for start, end in batch_step:\n",
    "            batch_xs = X_train[start:end]\n",
    "            batch_ys = Y_train[start:end]\n",
    "            \n",
    "            _, cost_batch, accuracy_batch = sess.run([train_op, cost, accuracy],\n",
    "                                                    feed_dict={X:batch_xs, Y:batch_ys})\n",
    "            if step % DISPLAY_STEP is 0:\n",
    "                print(\"[%3d step / %3d epoch] cost = %.6f, accuracy = %.6f\" % (step, epoch, cost_batch, accuracy_batch))\n",
    "                \n",
    "            step += 1\n",
    "        \n",
    "        # Validation\n",
    "        if epoch % VAL_EPOCH is 0:\n",
    "            cost_val, accuracy_val = sess.run([cost, accuracy], feed_dict={X:X_val, Y:Y_val})\n",
    "            print()\n",
    "            print(\"\\t[%3d epoch] validation cost = %.6f, validation accuracy = %.6f\" % (epoch, cost_val, accuracy_val))\n",
    "            print()\n",
    "        \n",
    "        print()\n",
    "    \n",
    "    # Test\n",
    "    cost_test, accuracy_test = sess.run([cost, accuracy], feed_dict={X: X_test, Y: Y_test})\n",
    "    print(\"\\n\\t[Test] test cost = %.6f, test accuracy = %.6f\" % (cost_test, accuracy_test))"
   ]
  },
  {
   "cell_type": "code",
   "execution_count": 15,
   "metadata": {},
   "outputs": [
    {
     "name": "stdout",
     "output_type": "stream",
     "text": [
      "24.483845949172974 sec\n"
     ]
    }
   ],
   "source": [
    "print(time.time() - start_time, \"sec\")"
   ]
  }
 ],
 "metadata": {
  "kernelspec": {
   "display_name": "Python 3",
   "language": "python",
   "name": "python3"
  },
  "language_info": {
   "codemirror_mode": {
    "name": "ipython",
    "version": 3
   },
   "file_extension": ".py",
   "mimetype": "text/x-python",
   "name": "python",
   "nbconvert_exporter": "python",
   "pygments_lexer": "ipython3",
   "version": "3.5.0"
  }
 },
 "nbformat": 4,
 "nbformat_minor": 2
}
