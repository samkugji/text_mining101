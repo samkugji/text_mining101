{
 "cells": [
  {
   "cell_type": "code",
   "execution_count": 1,
   "metadata": {
    "collapsed": true
   },
   "outputs": [],
   "source": [
    "import tensorflow as tf\n",
    "import numpy as np"
   ]
  },
  {
   "cell_type": "code",
   "execution_count": 2,
   "metadata": {
    "collapsed": true
   },
   "outputs": [],
   "source": [
    "sess = tf.Session()"
   ]
  },
  {
   "cell_type": "code",
   "execution_count": 3,
   "metadata": {},
   "outputs": [
    {
     "name": "stdout",
     "output_type": "stream",
     "text": [
      "Tensor(\"Const:0\", shape=(), dtype=string)\n",
      "b'Hello World'\n",
      "Hello World\n"
     ]
    }
   ],
   "source": [
    "hello_world = tf.constant(\"Hello World\")\n",
    "print(hello_world)\n",
    "\n",
    "hello_out = sess.run(hello_world)\n",
    "print(hello_out)\n",
    "\n",
    "hello_out_str = str(hello_out, \"utf-8\")\n",
    "print(hello_out_str)"
   ]
  },
  {
   "cell_type": "code",
   "execution_count": 4,
   "metadata": {},
   "outputs": [
    {
     "name": "stdout",
     "output_type": "stream",
     "text": [
      "Type of 'hello_world <class 'tensorflow.python.framework.ops.Tensor'>\n",
      "Type of 'hello_out <class 'bytes'>\n",
      "Type of 'hello_out_str <class 'str'>\n"
     ]
    }
   ],
   "source": [
    "print(\"Type of 'hello_world {}\".format(type(hello_world)))\n",
    "print(\"Type of 'hello_out {}\".format(type(hello_out)))\n",
    "print(\"Type of 'hello_out_str {}\".format(type(hello_out_str)))"
   ]
  },
  {
   "cell_type": "markdown",
   "metadata": {},
   "source": [
    "# Tensorflow type\n",
    "\n",
    "1. Constant, 2. Operators, 3. Variables, 4.Placeholder"
   ]
  },
  {
   "cell_type": "markdown",
   "metadata": {},
   "source": [
    "## 1. Constant"
   ]
  },
  {
   "cell_type": "code",
   "execution_count": 5,
   "metadata": {},
   "outputs": [
    {
     "name": "stdout",
     "output_type": "stream",
     "text": [
      "a: Tensor(\"Const_1:0\", shape=(), dtype=float32) \n",
      "  Type: <class 'tensorflow.python.framework.ops.Tensor'>\n",
      "b: Tensor(\"Const_2:0\", shape=(), dtype=float32) \n",
      "  Type: <class 'tensorflow.python.framework.ops.Tensor'>\n"
     ]
    }
   ],
   "source": [
    "a = tf.constant(1.5)\n",
    "b = tf.constant(2.5)\n",
    "print(\"a: {} \\n  Type: {}\".format(a, type(a)))\n",
    "print(\"b: {} \\n  Type: {}\".format(b, type(b)))"
   ]
  },
  {
   "cell_type": "code",
   "execution_count": 6,
   "metadata": {},
   "outputs": [
    {
     "name": "stdout",
     "output_type": "stream",
     "text": [
      "a_out: 1.5 \n",
      "  Type: <class 'numpy.float32'>\n",
      "b_out: 2.5 \n",
      "  Type: <class 'numpy.float32'>\n"
     ]
    }
   ],
   "source": [
    "a_out = sess.run(a)\n",
    "b_out = sess.run(b)\n",
    "print(\"a_out: {} \\n  Type: {}\".format(a_out, type(a_out)))\n",
    "print(\"b_out: {} \\n  Type: {}\".format(b_out, type(b_out)))"
   ]
  },
  {
   "cell_type": "markdown",
   "metadata": {},
   "source": [
    "## 2. Operators"
   ]
  },
  {
   "cell_type": "code",
   "execution_count": 7,
   "metadata": {},
   "outputs": [
    {
     "name": "stdout",
     "output_type": "stream",
     "text": [
      "add: Tensor(\"Add:0\", shape=(), dtype=float32) \n",
      "  Type: <class 'tensorflow.python.framework.ops.Tensor'>\n",
      "mul: Tensor(\"Mul:0\", shape=(), dtype=float32) \n",
      "  Type: <class 'tensorflow.python.framework.ops.Tensor'>\n"
     ]
    }
   ],
   "source": [
    "add = tf.add(a,b)\n",
    "mul = tf.multiply(a,b)\n",
    "print(\"add: {} \\n  Type: {}\".format(add, type(add)))\n",
    "print(\"mul: {} \\n  Type: {}\".format(mul, type(mul)))"
   ]
  },
  {
   "cell_type": "code",
   "execution_count": 8,
   "metadata": {},
   "outputs": [
    {
     "name": "stdout",
     "output_type": "stream",
     "text": [
      "add_out: 4.0 \n",
      "  Type: <class 'numpy.float32'>\n",
      "mul_out: 3.75 \n",
      "  Type: <class 'numpy.float32'>\n"
     ]
    }
   ],
   "source": [
    "add_out = sess.run(add)\n",
    "mul_out = sess.run(mul)\n",
    "print(\"add_out: {} \\n  Type: {}\".format(add_out, type(add_out)))\n",
    "print(\"mul_out: {} \\n  Type: {}\".format(mul_out, type(mul_out)))"
   ]
  },
  {
   "cell_type": "markdown",
   "metadata": {},
   "source": [
    "## 3. Variable"
   ]
  },
  {
   "cell_type": "code",
   "execution_count": 9,
   "metadata": {},
   "outputs": [],
   "source": [
    "weight = tf.Variable(tf.constant(3.0))\n",
    "bias = tf.Variable(tf.constant(1.0))"
   ]
  },
  {
   "cell_type": "code",
   "execution_count": 10,
   "metadata": {},
   "outputs": [
    {
     "name": "stdout",
     "output_type": "stream",
     "text": [
      "weight: <tf.Variable 'Variable:0' shape=() dtype=float32_ref> \n",
      "    Type: <class 'tensorflow.python.ops.variables.Variable'>\n",
      "bias: <tf.Variable 'Variable_1:0' shape=() dtype=float32_ref> \n",
      "    Type: <class 'tensorflow.python.ops.variables.Variable'>\n",
      "\n",
      "Weight value: 3.000000\n",
      "Bias value: 1.000000\n"
     ]
    }
   ],
   "source": [
    "init = tf.global_variables_initializer()\n",
    "sess.run(init)\n",
    "print (\"weight: {} \\n    Type: {}\".format(weight, type(weight)))\n",
    "print (\"bias: {} \\n    Type: {}\".format(bias, type(bias)))\n",
    "print()\n",
    "print (\"Weight value: {:f}\".format(sess.run(weight)))\n",
    "print (\"Bias value: {:f}\".format(sess.run(bias)))"
   ]
  },
  {
   "cell_type": "code",
   "execution_count": 11,
   "metadata": {},
   "outputs": [
    {
     "name": "stdout",
     "output_type": "stream",
     "text": [
      "[[ 0.        ]\n",
      " [ 0.11111111]\n",
      " [ 0.22222222]\n",
      " [ 0.33333333]\n",
      " [ 0.44444444]\n",
      " [ 0.55555556]\n",
      " [ 0.66666667]\n",
      " [ 0.77777778]\n",
      " [ 0.88888889]\n",
      " [ 1.        ]]\n"
     ]
    }
   ],
   "source": [
    "X = np.linspace(0,1,10).reshape(-1,1)\n",
    "print(X)"
   ]
  },
  {
   "cell_type": "code",
   "execution_count": 12,
   "metadata": {},
   "outputs": [
    {
     "name": "stdout",
     "output_type": "stream",
     "text": [
      "[[ 0.        ]\n",
      " [ 0.33333334]\n",
      " [ 0.66666669]\n",
      " [ 1.        ]\n",
      " [ 1.33333337]\n",
      " [ 1.66666675]\n",
      " [ 2.        ]\n",
      " [ 2.33333349]\n",
      " [ 2.66666675]\n",
      " [ 3.        ]]\n"
     ]
    }
   ],
   "source": [
    "mul = tf.multiply(tf.cast(X, tf.float32), weight)\n",
    "val = sess.run(mul)\n",
    "print(val)"
   ]
  },
  {
   "cell_type": "markdown",
   "metadata": {},
   "source": [
    "## 4. Placeholder"
   ]
  },
  {
   "cell_type": "code",
   "execution_count": 13,
   "metadata": {},
   "outputs": [
    {
     "name": "stdout",
     "output_type": "stream",
     "text": [
      "Input: Tensor(\"Placeholder:0\", shape=(?, 1), dtype=float32) \n",
      "  Type: <class 'tensorflow.python.framework.ops.Tensor'>\n"
     ]
    }
   ],
   "source": [
    "Input = tf.placeholder(tf.float32, [None, 1])\n",
    "print(\"Input: {} \\n  Type: {}\".format((Input), type(Input)))"
   ]
  },
  {
   "cell_type": "code",
   "execution_count": 14,
   "metadata": {},
   "outputs": [
    {
     "name": "stdout",
     "output_type": "stream",
     "text": [
      "[[ 1.        ]\n",
      " [ 1.33333337]\n",
      " [ 1.66666675]\n",
      " [ 2.        ]\n",
      " [ 2.33333349]\n",
      " [ 2.66666675]\n",
      " [ 3.        ]\n",
      " [ 3.33333349]\n",
      " [ 3.66666675]\n",
      " [ 4.        ]]\n"
     ]
    }
   ],
   "source": [
    "X = np.linspace(0,1,10).reshape(-1,1)\n",
    "oper = tf.multiply(Input, weight) + bias\n",
    "val = sess.run(oper, feed_dict={Input:X})\n",
    "print(val)"
   ]
  },
  {
   "cell_type": "code",
   "execution_count": 15,
   "metadata": {
    "collapsed": true
   },
   "outputs": [],
   "source": [
    "sess.close()"
   ]
  },
  {
   "cell_type": "markdown",
   "metadata": {},
   "source": [
    "# Important!!\n",
    "- sess.close()\n",
    "- tf.Variable -> initialize -> sess.run\n",
    "- tf.placeholder -> sess.run(feed_dict={})"
   ]
  }
 ],
 "metadata": {
  "kernelspec": {
   "display_name": "Python 3",
   "language": "python",
   "name": "python3"
  },
  "language_info": {
   "codemirror_mode": {
    "name": "ipython",
    "version": 3
   },
   "file_extension": ".py",
   "mimetype": "text/x-python",
   "name": "python",
   "nbconvert_exporter": "python",
   "pygments_lexer": "ipython3",
   "version": "3.5.0"
  }
 },
 "nbformat": 4,
 "nbformat_minor": 2
}
