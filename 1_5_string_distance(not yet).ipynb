{
 "cells": [
  {
   "cell_type": "markdown",
   "metadata": {},
   "source": [
    "## Edit distance\n",
    "\n",
    "1. Edit distance (Levenshtein distance)\n",
    "1. Token edit distance\n",
    "1. Jamo edit distance\n",
    "1. Token - Jamo edit distance"
   ]
  },
  {
   "cell_type": "markdown",
   "metadata": {},
   "source": [
    "기본적인 Levenshtein distance (Edit distance)를 먼저 만든 뒤, 하나씩 변형을 해보겠습니다. \n",
    "\n",
    "코드는 [이 주소][lev]를 참고하여 가져왔습니다. 두 str s1, s2에 대하여 s1의 길이가 s2보다 길거나 같다고 가정합니다. 그래서 len(s1) < len(s2)를 확인하여, s2의 길이가 더 길 경우에는 반대로 입력합니다. \n",
    "\n",
    "s1에서 s2로 바뀌거나, s2에서 s1으로 바뀌는 비용은 같기 때문입니다. \n",
    "\n",
    "[lev]: https://en.wikibooks.org/wiki/Algorithm_Implementation/Strings/Levenshtein_distance#Python"
   ]
  },
  {
   "cell_type": "code",
   "execution_count": 10,
   "metadata": {
    "collapsed": true
   },
   "outputs": [],
   "source": [
    "def levenshtein(s1, s2):\n",
    "    if len(s1) < len(s2):\n",
    "        return levenshtein(s2, s1)\n",
    "\n",
    "    # len(s1) >= len(s2)\n",
    "    if len(s2) == 0:\n",
    "        return len(s1)\n",
    "\n",
    "    previous_row = range(len(s2) + 1)\n",
    "    for i, c1 in enumerate(s1):\n",
    "        current_row = [i + 1]\n",
    "        print(previous_row, current_row)\n",
    "        for j, c2 in enumerate(s2):\n",
    "            insertions = previous_row[j + 1] + 1 # j+1 instead of j since previous_row and current_row are one character longer\n",
    "            deletions = current_row[j] + 1       # than s2\n",
    "            substitutions = previous_row[j] + (c1 != c2)\n",
    "            current_row.append(min(insertions, deletions, substitutions))\n",
    "        previous_row = current_row\n",
    "    \n",
    "    return previous_row[-1]"
   ]
  },
  {
   "cell_type": "markdown",
   "metadata": {},
   "source": [
    "### test"
   ]
  },
  {
   "cell_type": "code",
   "execution_count": 11,
   "metadata": {},
   "outputs": [
    {
     "name": "stdout",
     "output_type": "stream",
     "text": [
      "range(0, 10) [1]\n",
      "[1, 1, 2, 3, 4, 5, 6, 7, 8, 9] [2]\n",
      "[2, 2, 1, 2, 3, 4, 5, 6, 7, 8] [3]\n",
      "[3, 3, 2, 1, 2, 3, 4, 5, 6, 7] [4]\n",
      "[4, 4, 3, 2, 1, 2, 3, 4, 5, 6] [5]\n",
      "[5, 5, 4, 3, 2, 1, 2, 3, 4, 5] [6]\n",
      "[6, 6, 5, 4, 3, 2, 1, 2, 3, 4] [7]\n",
      "[7, 7, 6, 5, 4, 3, 2, 1, 2, 3] [8]\n",
      "[8, 8, 7, 6, 5, 4, 3, 2, 1, 2] [9]\n",
      "('매직 마법 마술사', '메직 마법 마술사') : 1\n",
      "range(0, 10) [1]\n",
      "[1, 1, 2, 3, 4, 5, 6, 7, 8, 9] [2]\n",
      "[2, 2, 1, 2, 3, 4, 5, 6, 7, 8] [3]\n",
      "[3, 3, 2, 1, 2, 3, 4, 5, 6, 7] [4]\n",
      "[4, 4, 3, 2, 1, 2, 3, 4, 5, 6] [5]\n",
      "[5, 5, 4, 3, 2, 1, 2, 3, 4, 5] [6]\n",
      "[6, 6, 5, 4, 3, 2, 1, 2, 3, 4] [7]\n",
      "[7, 7, 6, 5, 4, 3, 2, 1, 2, 3] [8]\n",
      "[8, 8, 7, 6, 5, 4, 3, 2, 1, 2] [9]\n",
      "('매직 마법 마술사', '메직 마법 마술사') : 1\n",
      "range(0, 10) [1]\n",
      "[1, 1, 2, 3, 4, 5, 6, 7, 8, 9] [2]\n",
      "[2, 2, 1, 2, 3, 4, 5, 6, 7, 8] [3]\n",
      "[3, 3, 2, 1, 2, 3, 4, 5, 6, 7] [4]\n",
      "[4, 4, 3, 2, 1, 2, 3, 4, 5, 6] [5]\n",
      "[5, 5, 4, 3, 2, 2, 3, 4, 5, 6] [6]\n",
      "[6, 6, 5, 4, 3, 3, 2, 3, 4, 5] [7]\n",
      "[7, 7, 6, 5, 4, 4, 3, 2, 3, 4] [8]\n",
      "[8, 8, 7, 6, 5, 5, 4, 3, 2, 3] [9]\n",
      "('매직 마법 마술사', '메직 마벙 마술사') : 2\n",
      "range(0, 10) [1]\n",
      "[1, 1, 2, 3, 4, 4, 5, 6, 7, 8] [2]\n",
      "[2, 2, 2, 3, 4, 5, 4, 5, 6, 7] [3]\n",
      "[3, 3, 3, 3, 3, 4, 5, 4, 5, 6] [4]\n",
      "[4, 3, 4, 4, 4, 4, 5, 5, 4, 5] [5]\n",
      "[5, 4, 4, 5, 5, 5, 5, 6, 5, 4] [6]\n",
      "[6, 5, 5, 5, 5, 6, 6, 5, 6, 5] [7]\n",
      "[7, 6, 6, 6, 6, 6, 7, 6, 5, 6] [8]\n",
      "[8, 7, 6, 7, 7, 7, 7, 7, 6, 6] [9]\n",
      "('매직 마법 마술사', '마술사 매직 마법') : 7\n"
     ]
    }
   ],
   "source": [
    "test_pairs = [\n",
    "    ('매직 마법 마술사', '메직 마법 마술사'),\n",
    "    ('매직 마법 마술사', '메직 마법 마술사'),\n",
    "    ('매직 마법 마술사', '메직 마벙 마술사'), \n",
    "    ('매직 마법 마술사', '마술사 매직 마법')\n",
    "]\n",
    "\n",
    "for pair in test_pairs:\n",
    "    print(pair, ':', levenshtein(pair[0], pair[1]))"
   ]
  },
  {
   "cell_type": "code",
   "execution_count": 7,
   "metadata": {
    "collapsed": true
   },
   "outputs": [],
   "source": [
    "_test = [4 + 1]"
   ]
  },
  {
   "cell_type": "code",
   "execution_count": 9,
   "metadata": {},
   "outputs": [
    {
     "data": {
      "text/plain": [
       "list"
      ]
     },
     "execution_count": 9,
     "metadata": {},
     "output_type": "execute_result"
    }
   ],
   "source": [
    "type(_test)"
   ]
  },
  {
   "cell_type": "code",
   "execution_count": null,
   "metadata": {
    "collapsed": true
   },
   "outputs": [],
   "source": []
  }
 ],
 "metadata": {
  "kernelspec": {
   "display_name": "Python 3",
   "language": "python",
   "name": "python3"
  },
  "language_info": {
   "codemirror_mode": {
    "name": "ipython",
    "version": 3
   },
   "file_extension": ".py",
   "mimetype": "text/x-python",
   "name": "python",
   "nbconvert_exporter": "python",
   "pygments_lexer": "ipython3",
   "version": "3.5.0"
  }
 },
 "nbformat": 4,
 "nbformat_minor": 2
}
