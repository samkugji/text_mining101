{
 "cells": [
  {
   "cell_type": "code",
   "execution_count": 1,
   "metadata": {
    "collapsed": true
   },
   "outputs": [],
   "source": [
    "from pprint import pprint"
   ]
  },
  {
   "cell_type": "code",
   "execution_count": 2,
   "metadata": {
    "collapsed": true
   },
   "outputs": [],
   "source": [
    "json_example = {\n",
    "    \"name\": \"전소미\",\n",
    "    \"rank\": 1,\n",
    "    \"interest\": [\"cliaming\",\n",
    "                \"making coffee\"],\n",
    "    \"teammembers\": {\n",
    "        \"name\": \"김세정\",\n",
    "        \"rank\": 2,\n",
    "    }\n",
    "}"
   ]
  },
  {
   "cell_type": "code",
   "execution_count": 3,
   "metadata": {
    "collapsed": false
   },
   "outputs": [
    {
     "name": "stdout",
     "output_type": "stream",
     "text": [
      "{'interest': ['cliaming', 'making coffee'],\n",
      " 'name': '전소미',\n",
      " 'rank': 1,\n",
      " 'teammembers': {'name': '김세정', 'rank': 2}}\n"
     ]
    }
   ],
   "source": [
    "pprint(json_example)"
   ]
  },
  {
   "cell_type": "code",
   "execution_count": 4,
   "metadata": {
    "collapsed": false
   },
   "outputs": [
    {
     "name": "stdout",
     "output_type": "stream",
     "text": [
      "전소미\n",
      "김세정\n"
     ]
    }
   ],
   "source": [
    "print(json_example[\"name\"])\n",
    "print(json_example[\"teammembers\"][\"name\"])"
   ]
  },
  {
   "cell_type": "code",
   "execution_count": 5,
   "metadata": {
    "collapsed": false
   },
   "outputs": [
    {
     "name": "stdout",
     "output_type": "stream",
     "text": [
      "file: data/IOI.json \n",
      "folder:  data\n"
     ]
    }
   ],
   "source": [
    "file = \"data/IOI.json\"\n",
    "folder = file.split(\"/\")[0]\n",
    "\n",
    "# this is new string formatting (https://pyformat.info/)\n",
    "print(\"file: {file:>10} \\nfolder: {folder:>5}\".format(file=file, folder=folder))"
   ]
  },
  {
   "cell_type": "markdown",
   "metadata": {},
   "source": [
    "# Making data folder"
   ]
  },
  {
   "cell_type": "code",
   "execution_count": 6,
   "metadata": {
    "collapsed": false
   },
   "outputs": [],
   "source": [
    "import os"
   ]
  },
  {
   "cell_type": "code",
   "execution_count": 7,
   "metadata": {
    "collapsed": false
   },
   "outputs": [
    {
     "name": "stdout",
     "output_type": "stream",
     "text": [
      "True\n"
     ]
    }
   ],
   "source": [
    "print(os.path.exists(folder))"
   ]
  },
  {
   "cell_type": "code",
   "execution_count": 8,
   "metadata": {
    "collapsed": false
   },
   "outputs": [],
   "source": [
    "if not os.path.exists(folder):\n",
    "    os.makedirs(folder)\n",
    "    print(\"created '%s' folder\" % folder)"
   ]
  },
  {
   "cell_type": "code",
   "execution_count": 9,
   "metadata": {
    "collapsed": true
   },
   "outputs": [],
   "source": [
    "# delete folder\n",
    "#os.removedirs(folder)"
   ]
  },
  {
   "cell_type": "markdown",
   "metadata": {},
   "source": [
    "# json"
   ]
  },
  {
   "cell_type": "code",
   "execution_count": 10,
   "metadata": {
    "collapsed": true
   },
   "outputs": [],
   "source": [
    "import json"
   ]
  },
  {
   "cell_type": "code",
   "execution_count": 11,
   "metadata": {
    "collapsed": true
   },
   "outputs": [],
   "source": [
    "with open (file, \"w\", encoding=\"utf-8\") as f:\n",
    "    json.dump(json_example, f)"
   ]
  },
  {
   "cell_type": "code",
   "execution_count": 12,
   "metadata": {
    "collapsed": false
   },
   "outputs": [
    {
     "name": "stdout",
     "output_type": "stream",
     "text": [
      "{'interest': ['cliaming', 'making coffee'],\n",
      " 'name': '전소미',\n",
      " 'rank': 1,\n",
      " 'teammembers': {'name': '김세정', 'rank': 2}}\n"
     ]
    }
   ],
   "source": [
    "with open (file, \"r\", encoding=\"utf-8\") as f:\n",
    "    loaded_json = json.load(f)\n",
    "\n",
    "pprint(loaded_json)"
   ]
  },
  {
   "cell_type": "code",
   "execution_count": 13,
   "metadata": {
    "collapsed": false
   },
   "outputs": [
    {
     "name": "stdout",
     "output_type": "stream",
     "text": [
      "keys:  dict_keys(['name', 'teammembers', 'rank', 'interest'])\n",
      "\n",
      "values: \n",
      "dict_values(['전소미', {'name': '김세정', 'rank': 2}, 1, ['cliaming', 'making coffee']])\n",
      "\n",
      "items: \n",
      "dict_items([('name', '전소미'), ('teammembers', {'name': '김세정', 'rank': 2}), ('rank', 1), ('interest', ['cliaming', 'making coffee'])])\n"
     ]
    }
   ],
   "source": [
    "print(\"keys: \", loaded_json.keys())\n",
    "print(\"\\nvalues: \"); pprint(loaded_json.values())\n",
    "print(\"\\nitems: \"); pprint(loaded_json.items())"
   ]
  },
  {
   "cell_type": "code",
   "execution_count": 14,
   "metadata": {
    "collapsed": false
   },
   "outputs": [
    {
     "name": "stdout",
     "output_type": "stream",
     "text": [
      "MSG: You call wrong key\n"
     ]
    },
    {
     "ename": "KeyError",
     "evalue": "'wrong key'",
     "output_type": "error",
     "traceback": [
      "\u001b[0;31m---------------------------------------------------------------------------\u001b[0m",
      "\u001b[0;31mKeyError\u001b[0m                                  Traceback (most recent call last)",
      "\u001b[0;32m<ipython-input-14-916077f0a5f4>\u001b[0m in \u001b[0;36m<module>\u001b[0;34m()\u001b[0m\n\u001b[1;32m      5\u001b[0m \u001b[0;34m\u001b[0m\u001b[0m\n\u001b[1;32m      6\u001b[0m \u001b[0;31m# this is dangerous way\u001b[0m\u001b[0;34m\u001b[0m\u001b[0;34m\u001b[0m\u001b[0m\n\u001b[0;32m----> 7\u001b[0;31m \u001b[0mprint\u001b[0m\u001b[0;34m(\u001b[0m\u001b[0mloaded_json\u001b[0m\u001b[0;34m[\u001b[0m\u001b[0;34m\"wrong key\"\u001b[0m\u001b[0;34m]\u001b[0m\u001b[0;34m)\u001b[0m\u001b[0;34m\u001b[0m\u001b[0m\n\u001b[0m",
      "\u001b[0;31mKeyError\u001b[0m: 'wrong key'"
     ]
    }
   ],
   "source": [
    "# TIPS: use dict.get('key', default value)\n",
    "\n",
    "# this is good way\n",
    "print(loaded_json.get(\"wrong key\", \"MSG: You call wrong key\"))\n",
    "\n",
    "# this is dangerous way\n",
    "print(loaded_json[\"wrong key\"])"
   ]
  },
  {
   "cell_type": "code",
   "execution_count": null,
   "metadata": {
    "collapsed": true
   },
   "outputs": [],
   "source": [
    "# learn more about dict\n",
    "# https://wikidocs.net/16 (korean documetary)"
   ]
  }
 ],
 "metadata": {
  "kernelspec": {
   "display_name": "Python 3",
   "language": "python",
   "name": "python3"
  },
  "language_info": {
   "codemirror_mode": {
    "name": "ipython",
    "version": 3
   },
   "file_extension": ".py",
   "mimetype": "text/x-python",
   "name": "python",
   "nbconvert_exporter": "python",
   "pygments_lexer": "ipython3",
   "version": "3.5.0"
  }
 },
 "nbformat": 4,
 "nbformat_minor": 2
}
