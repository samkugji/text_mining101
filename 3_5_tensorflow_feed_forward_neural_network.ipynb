{
 "cells": [
  {
   "cell_type": "markdown",
   "metadata": {},
   "source": [
    "# Feed-forward neural network\n",
    "- a.k.a. Multi_Layer Perceptrons(MLP), Fully-connected network"
   ]
  },
  {
   "cell_type": "code",
   "execution_count": 1,
   "metadata": {
    "collapsed": true
   },
   "outputs": [],
   "source": [
    "import random\n",
    "import tensorflow as tf\n",
    "import numpy as np\n",
    "import matplotlib.pyplot as plt\n",
    "%matplotlib inline"
   ]
  },
  {
   "cell_type": "code",
   "execution_count": 2,
   "metadata": {},
   "outputs": [
    {
     "name": "stdout",
     "output_type": "stream",
     "text": [
      "tensorflow version:  1.1.0\n"
     ]
    }
   ],
   "source": [
    "print(\"tensorflow version: \", tf.__version__)"
   ]
  },
  {
   "cell_type": "markdown",
   "metadata": {},
   "source": [
    "## 0. Load MNIST data"
   ]
  },
  {
   "cell_type": "code",
   "execution_count": 3,
   "metadata": {},
   "outputs": [
    {
     "name": "stdout",
     "output_type": "stream",
     "text": [
      "Extracting MNIST_data/train-images-idx3-ubyte.gz\n",
      "Extracting MNIST_data/train-labels-idx1-ubyte.gz\n",
      "Extracting MNIST_data/t10k-images-idx3-ubyte.gz\n",
      "Extracting MNIST_data/t10k-labels-idx1-ubyte.gz\n"
     ]
    }
   ],
   "source": [
    "# Check out https://www.tensorflow.org/get_started/mnist/beginners for\n",
    "# more information about the mnist dataset\n",
    "\n",
    "from tensorflow.examples.tutorials.mnist import input_data\n",
    "mnist = input_data.read_data_sets('MNIST_data', one_hot=True)"
   ]
  },
  {
   "cell_type": "code",
   "execution_count": 4,
   "metadata": {
    "collapsed": true
   },
   "outputs": [],
   "source": [
    "X_train, Y_train = mnist.train.images, mnist.test.labels\n",
    "X_val, Y_val = mnist.validation.images, mnist.validation.labels\n",
    "X_test, Y_test = mnist.test.images, mnist.test.labels"
   ]
  },
  {
   "cell_type": "code",
   "execution_count": 5,
   "metadata": {},
   "outputs": [
    {
     "name": "stdout",
     "output_type": "stream",
     "text": [
      "Type of X:  <class 'numpy.ndarray'> <class 'numpy.ndarray'> <class 'numpy.ndarray'>\n",
      "Type of Y:  <class 'numpy.ndarray'> <class 'numpy.ndarray'> <class 'numpy.ndarray'>\n"
     ]
    }
   ],
   "source": [
    "# type check \n",
    "print(\"Type of X: \", type(X_train), type(X_val), type(X_test))\n",
    "print(\"Type of Y: \", type(Y_train), type(Y_val), type(Y_test))"
   ]
  },
  {
   "cell_type": "code",
   "execution_count": 6,
   "metadata": {},
   "outputs": [
    {
     "name": "stdout",
     "output_type": "stream",
     "text": [
      "(55000, 784) (5000, 784) (10000, 784)\n",
      "(10000, 10) (5000, 10) (10000, 10)\n"
     ]
    }
   ],
   "source": [
    "# shape check(train data)\n",
    "print(X_train.shape, X_val.shape, X_test.shape)\n",
    "print(Y_train.shape, Y_val.shape, Y_test.shape)"
   ]
  },
  {
   "cell_type": "code",
   "execution_count": 7,
   "metadata": {},
   "outputs": [
    {
     "name": "stdout",
     "output_type": "stream",
     "text": [
      "Number of training points:  10000\n",
      "Number of validation points:  5000\n",
      "Number of test points:  10000\n"
     ]
    }
   ],
   "source": [
    "# Number of data check\n",
    "num_train = Y_train.shape[0]\n",
    "num_val = Y_val.shape[0]\n",
    "num_test = Y_test.shape[0]\n",
    "\n",
    "print(\"Number of training points: \", num_train)\n",
    "print(\"Number of validation points: \", num_val)\n",
    "print(\"Number of test points: \", num_test)"
   ]
  },
  {
   "cell_type": "code",
   "execution_count": 8,
   "metadata": {},
   "outputs": [
    {
     "name": "stdout",
     "output_type": "stream",
     "text": [
      "Dimension of X: 784 (28 x 28)\n",
      "Dimension of Y:  10\n"
     ]
    }
   ],
   "source": [
    "# dimension check\n",
    "dim_X = X_train.shape[1]\n",
    "pixel_X = np.sqrt(dim_X)\n",
    "dim_Y = Y_train.shape[1]\n",
    "\n",
    "print(\"Dimension of X: %d (%d x %d)\" % (dim_X, pixel_X, pixel_X))\n",
    "print(\"Dimension of Y: \", dim_Y)"
   ]
  },
  {
   "cell_type": "code",
   "execution_count": 9,
   "metadata": {},
   "outputs": [
    {
     "data": {
      "text/plain": [
       "<matplotlib.image.AxesImage at 0x121c27b70>"
      ]
     },
     "execution_count": 9,
     "metadata": {},
     "output_type": "execute_result"
    },
    {
     "data": {
      "image/png": "[encoded data removed]",
      "text/plain": [
       "<matplotlib.figure.Figure at 0x118386f98>"
      ]
     },
     "metadata": {},
     "output_type": "display_data"
    }
   ],
   "source": [
    "# test <- numpy.ndarray (28 X 28)\n",
    "test = X_train[0,:].reshape(-1, 28)\n",
    "plt.imshow(test)"
   ]
  },
  {
   "cell_type": "markdown",
   "metadata": {},
   "source": [
    "## 1. Build the graph\n",
    "Tensorflow에서는 모델을 'graph'로 구현한다."
   ]
  },
  {
   "cell_type": "markdown",
   "metadata": {},
   "source": [
    "### 1.1. Placeholder for inputs and outputs\n",
    "- Shape of the placeholder for inputs: [batch_size, input_dimension]\n",
    "- Shape of the placeholder for outputs: [batch_size, output_dimension]\n",
    "- Placeholder의 batch_size를 None으로 하면, placeholder에 들어가기 전에 batch size를 조절해야 함"
   ]
  },
  {
   "cell_type": "code",
   "execution_count": 10,
   "metadata": {
    "collapsed": true
   },
   "outputs": [],
   "source": [
    "X = tf.placeholder(tf.float32, [None, dim_X])\n",
    "Y = tf.placeholder(tf.float32, [None, dim_Y])"
   ]
  },
  {
   "cell_type": "markdown",
   "metadata": {},
   "source": [
    "### 1.2 Add layers and variables"
   ]
  },
  {
   "cell_type": "code",
   "execution_count": 11,
   "metadata": {
    "collapsed": true
   },
   "outputs": [],
   "source": [
    "# Define hidden dimensions (number of nodes in each hidden layer)\n",
    "hidden_dim_1 = dim_X\n",
    "hidden_dim_2 = 300"
   ]
  },
  {
   "cell_type": "code",
   "execution_count": 12,
   "metadata": {
    "collapsed": true
   },
   "outputs": [],
   "source": [
    "weight_h1 = tf.Variable(tf.truncated_normal(shape=[dim_X, hidden_dim_1], mean=0.0,\n",
    "                                            stddev=0.01))\n",
    "bias_h1 = tf.Variable(tf.truncated_normal(shape=[hidden_dim_1],\n",
    "                                          mean=0.0, stddev=0.01))\n",
    "\n",
    "weight_h2 = tf.Variable(tf.truncated_normal(shape=[hidden_dim_1, hidden_dim_2],\n",
    "                                            mean=0.0, stddev=0.01))\n",
    "bias_h2 = tf.Variable(tf.truncated_normal(shape=[hidden_dim_2],\n",
    "                                          mean=0.0, stddev=0.01))\n",
    "\n",
    "weight_out = tf.Variable(tf.truncated_normal(shape=[hidden_dim_2, dim_Y],\n",
    "                                             mean=0.0, stddev=0.01))\n",
    "bias_out = tf.Variable(tf.truncated_normal(shape=[dim_Y],\n",
    "                                           mean=0.0, stddev=0.01))"
   ]
  },
  {
   "cell_type": "markdown",
   "metadata": {},
   "source": [
    "### 1.3 Model"
   ]
  },
  {
   "cell_type": "code",
   "execution_count": 13,
   "metadata": {
    "collapsed": true
   },
   "outputs": [],
   "source": [
    "# before y_hat\n",
    "h1 = tf.nn.relu(tf.matmul(X, weight_h1) + bias_h1)\n",
    "h2 = tf.nn.relu(tf.matmul(h1, weight_h2) + bias_h2)\n",
    "\n",
    "logits = tf.matmul(h2, weight_out) + bias_out"
   ]
  },
  {
   "cell_type": "code",
   "execution_count": 14,
   "metadata": {},
   "outputs": [
    {
     "name": "stdout",
     "output_type": "stream",
     "text": [
      "Tensor(\"Placeholder:0\", shape=(?, 784), dtype=float32)\n",
      "Tensor(\"Placeholder_1:0\", shape=(?, 10), dtype=float32)\n",
      "Tensor(\"Relu:0\", shape=(?, 784), dtype=float32)\n",
      "Tensor(\"Relu_1:0\", shape=(?, 300), dtype=float32)\n",
      "Tensor(\"add_2:0\", shape=(?, 10), dtype=float32)\n"
     ]
    }
   ],
   "source": [
    "print(X)\n",
    "print(Y)\n",
    "print(h1)\n",
    "print(h2)\n",
    "print(logits)"
   ]
  },
  {
   "cell_type": "markdown",
   "metadata": {},
   "source": [
    "## 2. Training"
   ]
  },
  {
   "cell_type": "markdown",
   "metadata": {},
   "source": [
    "### 2.1 Loss function"
   ]
  },
  {
   "cell_type": "markdown",
   "metadata": {},
   "source": [
    "- cross-entropy for classication "
   ]
  },
  {
   "cell_type": "markdown",
   "metadata": {},
   "source": [
    "Cross-entropy $ = - \\sum_{\\substack{j}}y_j \\cdot \\log(y'_j)$"
   ]
  },
  {
   "cell_type": "code",
   "execution_count": 15,
   "metadata": {
    "collapsed": true
   },
   "outputs": [],
   "source": [
    "#same code with \"tf.nn.softmax_cross_entropy_with_logits\"\n",
    "\n",
    "Y_hat = tf.nn.softmax(logits)\n",
    "cross_entropy_equation = tf.reduce_mean(-tf.reduce_sum(Y * tf.log(Y_hat), reduction_indices=[1]))"
   ]
  },
  {
   "cell_type": "code",
   "execution_count": 16,
   "metadata": {},
   "outputs": [
    {
     "name": "stdout",
     "output_type": "stream",
     "text": [
      "Tensor(\"Softmax:0\", shape=(?, 10), dtype=float32)\n",
      "Tensor(\"Mean:0\", shape=(), dtype=float32)\n"
     ]
    }
   ],
   "source": [
    "print(Y_hat)\n",
    "print(cross_entropy_equation)"
   ]
  },
  {
   "cell_type": "code",
   "execution_count": 17,
   "metadata": {},
   "outputs": [
    {
     "name": "stdout",
     "output_type": "stream",
     "text": [
      "Tensor(\"Mean_1:0\", shape=(), dtype=float32)\n"
     ]
    }
   ],
   "source": [
    "cross_entropy = tf.reduce_mean(tf.nn.softmax_cross_entropy_with_logits(logits=logits, labels=Y))\n",
    "print(cross_entropy)"
   ]
  },
  {
   "cell_type": "markdown",
   "metadata": {},
   "source": [
    "## 2.2 Training operator\n",
    "1. define the optimizer\n",
    "2. define training operator"
   ]
  },
  {
   "cell_type": "code",
   "execution_count": 18,
   "metadata": {
    "collapsed": true
   },
   "outputs": [],
   "source": [
    "optimizer = tf.train.GradientDescentOptimizer(learning_rate=0.1)\n",
    "train_op = optimizer.minimize(cross_entropy)"
   ]
  },
  {
   "cell_type": "code",
   "execution_count": 19,
   "metadata": {},
   "outputs": [
    {
     "name": "stdout",
     "output_type": "stream",
     "text": [
      "<tensorflow.python.training.gradient_descent.GradientDescentOptimizer object at 0x115ad2358>\n",
      "====================================================================================================\n",
      "name: \"GradientDescent\"\n",
      "op: \"NoOp\"\n",
      "input: \"^GradientDescent/update_Variable/ApplyGradientDescent\"\n",
      "input: \"^GradientDescent/update_Variable_1/ApplyGradientDescent\"\n",
      "input: \"^GradientDescent/update_Variable_2/ApplyGradientDescent\"\n",
      "input: \"^GradientDescent/update_Variable_3/ApplyGradientDescent\"\n",
      "input: \"^GradientDescent/update_Variable_4/ApplyGradientDescent\"\n",
      "input: \"^GradientDescent/update_Variable_5/ApplyGradientDescent\"\n",
      "\n"
     ]
    }
   ],
   "source": [
    "print(optimizer)\n",
    "print(\"=\"*100)\n",
    "print(train_op)"
   ]
  },
  {
   "cell_type": "markdown",
   "metadata": {},
   "source": [
    "## 2.3 Predicting operator\n",
    "1. correct_prediction: boolean (True / False)\n",
    "2. accuracy: correct_prediction -> tf.float32 -> mean"
   ]
  },
  {
   "cell_type": "code",
   "execution_count": 20,
   "metadata": {
    "collapsed": true
   },
   "outputs": [],
   "source": [
    "correct_prediction = tf.equal(tf.arg_max(logits, 1), tf.arg_max(Y, 1))"
   ]
  },
  {
   "cell_type": "code",
   "execution_count": 21,
   "metadata": {
    "collapsed": true
   },
   "outputs": [],
   "source": [
    "accuracy = tf.reduce_mean(tf.cast(correct_prediction, tf.float32))"
   ]
  },
  {
   "cell_type": "code",
   "execution_count": 22,
   "metadata": {},
   "outputs": [
    {
     "name": "stdout",
     "output_type": "stream",
     "text": [
      "Tensor(\"Equal:0\", shape=(?,), dtype=bool)\n",
      "Tensor(\"Mean_2:0\", shape=(), dtype=float32)\n"
     ]
    }
   ],
   "source": [
    "print(correct_prediction)\n",
    "print(accuracy)"
   ]
  },
  {
   "cell_type": "markdown",
   "metadata": {},
   "source": [
    "## 2.4 Run the session"
   ]
  },
  {
   "cell_type": "code",
   "execution_count": 23,
   "metadata": {
    "collapsed": true
   },
   "outputs": [],
   "source": [
    "# This is particularly convenient when working in interactive contexts like IPython\n",
    "sess = tf.InteractiveSession() # sess = tf.Session"
   ]
  },
  {
   "cell_type": "code",
   "execution_count": 24,
   "metadata": {
    "collapsed": true
   },
   "outputs": [],
   "source": [
    "init = tf.global_variables_initializer()\n",
    "sess.run(init)"
   ]
  },
  {
   "cell_type": "code",
   "execution_count": 25,
   "metadata": {},
   "outputs": [
    {
     "name": "stdout",
     "output_type": "stream",
     "text": [
      "[500 step] validation accuracy: 0.885\n",
      "[1000 step] validation accuracy: 0.927\n",
      "[1500 step] validation accuracy: 0.9472\n",
      "[2000 step] validation accuracy: 0.9596\n",
      "[2500 step] validation accuracy: 0.9686\n",
      "[3000 step] validation accuracy: 0.9718\n",
      "[3500 step] validation accuracy: 0.9718\n",
      "[4000 step] validation accuracy: 0.9772\n",
      "[4500 step] validation accuracy: 0.977\n",
      "[5000 step] validation accuracy: 0.9784\n"
     ]
    }
   ],
   "source": [
    "for i in range(5000):\n",
    "    batch_xs, batch_ys = mnist.train.next_batch(100) # minist function for batch\n",
    "    sess.run(train_op, feed_dict={X: batch_xs, Y: batch_ys})\n",
    "    if (i + 1) % 500 == 0:\n",
    "        val_accuracy = sess.run(accuracy, feed_dict={X: X_val, Y:Y_val})\n",
    "        print(\"[%d step] validation accuracy: %g\" % (i+1, val_accuracy))"
   ]
  },
  {
   "cell_type": "code",
   "execution_count": 26,
   "metadata": {},
   "outputs": [
    {
     "name": "stdout",
     "output_type": "stream",
     "text": [
      "0.9752\n"
     ]
    }
   ],
   "source": [
    "# test set\n",
    "print(sess.run(accuracy, feed_dict={X: mnist.test.images, Y: mnist.test.labels}))"
   ]
  },
  {
   "cell_type": "code",
   "execution_count": 27,
   "metadata": {
    "collapsed": true
   },
   "outputs": [],
   "source": [
    "sess.close()"
   ]
  }
 ],
 "metadata": {
  "kernelspec": {
   "display_name": "Python 3",
   "language": "python",
   "name": "python3"
  },
  "language_info": {
   "codemirror_mode": {
    "name": "ipython",
    "version": 3
   },
   "file_extension": ".py",
   "mimetype": "text/x-python",
   "name": "python",
   "nbconvert_exporter": "python",
   "pygments_lexer": "ipython3",
   "version": "3.5.0"
  }
 },
 "nbformat": 4,
 "nbformat_minor": 2
}
