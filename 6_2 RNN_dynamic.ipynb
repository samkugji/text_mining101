{
 "cells": [
  {
   "cell_type": "markdown",
   "metadata": {},
   "source": [
    "# RNN tutorial\n",
    "- Use tf.nn.dynamic_rnn with MNIST dataset"
   ]
  },
  {
   "cell_type": "code",
   "execution_count": 1,
   "metadata": {
    "collapsed": true
   },
   "outputs": [],
   "source": [
    "import time\n",
    "import numpy as np\n",
    "import tensorflow as tf\n",
    "\n",
    "from tensorflow.contrib import rnn\n",
    "from tensorflow.examples.tutorials.mnist import input_data\n",
    "from pprint import pprint"
   ]
  },
  {
   "cell_type": "markdown",
   "metadata": {},
   "source": [
    "# 0. Load MNIST data"
   ]
  },
  {
   "cell_type": "code",
   "execution_count": 2,
   "metadata": {},
   "outputs": [
    {
     "name": "stdout",
     "output_type": "stream",
     "text": [
      "Extracting MNIST_idx3/train-images-idx3-ubyte.gz\n",
      "Extracting MNIST_idx3/train-labels-idx1-ubyte.gz\n",
      "Extracting MNIST_idx3/t10k-images-idx3-ubyte.gz\n",
      "Extracting MNIST_idx3/t10k-labels-idx1-ubyte.gz\n"
     ]
    }
   ],
   "source": [
    "mnist = input_data.read_data_sets('MNIST_idx3/', one_hot=False)"
   ]
  },
  {
   "cell_type": "code",
   "execution_count": 3,
   "metadata": {
    "collapsed": true
   },
   "outputs": [],
   "source": [
    "X_train, Y_train = mnist.train.images, mnist.train.labels\n",
    "X_val, Y_val = mnist.validation.images, mnist.validation.labels\n",
    "X_test, Y_test = mnist.test.images, mnist.test.labels"
   ]
  },
  {
   "cell_type": "code",
   "execution_count": 4,
   "metadata": {},
   "outputs": [
    {
     "name": "stdout",
     "output_type": "stream",
     "text": [
      "Dimension of X: 784 (28 x 28)\n"
     ]
    }
   ],
   "source": [
    "dim_X = X_train.shape[1]\n",
    "pixel_X = int(np.sqrt(dim_X)) # np.sqrt의 출력이 float32이므로, 이를 int 자료형으로 변경\n",
    "\n",
    "print(\"Dimension of X: %d (%d x %d)\" % (dim_X, pixel_X, pixel_X))"
   ]
  },
  {
   "cell_type": "markdown",
   "metadata": {},
   "source": [
    "# 1. Parameters"
   ]
  },
  {
   "cell_type": "code",
   "execution_count": 5,
   "metadata": {
    "collapsed": true
   },
   "outputs": [],
   "source": [
    "LEARNING_RATE  = 0.001\n",
    "N_EPOCHS       = 10\n",
    "BATCH_SIZE     = 128\n",
    "DISPLAY_STEP   = 50\n",
    "VAL_EPOCH      = 5\n",
    "\n",
    "n_input   = pixel_X\n",
    "n_steps   = pixel_X\n",
    "n_hidden  = 32\n",
    "n_classes = 10"
   ]
  },
  {
   "cell_type": "markdown",
   "metadata": {},
   "source": [
    "## 2. Placeholders"
   ]
  },
  {
   "cell_type": "code",
   "execution_count": 6,
   "metadata": {
    "collapsed": true
   },
   "outputs": [],
   "source": [
    "X = tf.placeholder(tf.float32, [None, dim_X])\n",
    "Y = tf.placeholder(tf.int32, [None,])"
   ]
  },
  {
   "cell_type": "code",
   "execution_count": 7,
   "metadata": {},
   "outputs": [
    {
     "name": "stdout",
     "output_type": "stream",
     "text": [
      "(?, 784)\n"
     ]
    }
   ],
   "source": [
    "print(X.get_shape())"
   ]
  },
  {
   "cell_type": "markdown",
   "metadata": {},
   "source": [
    "## reshape"
   ]
  },
  {
   "cell_type": "code",
   "execution_count": 8,
   "metadata": {},
   "outputs": [
    {
     "name": "stdout",
     "output_type": "stream",
     "text": [
      "X shpae:  (?, 784)\n",
      "X reshape:  (?, 28, 28)\n"
     ]
    }
   ],
   "source": [
    "# for RNN I need tensor which is axis=1\n",
    "reshaped_X = tf.reshape(tensor=X, shape=[-1, n_steps, n_input])\n",
    "unstacked_X = tf.unstack(value=reshaped_X, num=n_steps, axis=1)\n",
    "\n",
    "print(\"X shpae: \", X.get_shape())\n",
    "print(\"X reshape: \", reshaped_X.get_shape())"
   ]
  },
  {
   "cell_type": "markdown",
   "metadata": {},
   "source": [
    "## 3. Model"
   ]
  },
  {
   "cell_type": "code",
   "execution_count": 9,
   "metadata": {
    "collapsed": true
   },
   "outputs": [],
   "source": [
    "def RNN_dynamic(X, n_steps, n_hidden, n_classes):\n",
    "    \n",
    "    reshaped_X = tf.reshape(tensor=X, shape=[-1, n_steps, n_input], name=\"reshaped\")\n",
    "    \n",
    "    # Define RNN cell\n",
    "    rnn_basic_cell = rnn.BasicRNNCell(num_units=n_hidden)\n",
    "    \n",
    "    # Get RNN cell last output\n",
    "    outputs, _ = tf.nn.dynamic_rnn(cell=rnn_basic_cell,\n",
    "                             inputs=reshaped_X,\n",
    "                             dtype=tf.float32)\n",
    "    print(outputs.get_shape())\n",
    "    last_step = list(outputs.get_shape())[1]\n",
    "    last_output = outputs[:, last_step -1, :]\n",
    "    \n",
    "    # Define weights and biases\n",
    "    W = tf.get_variable(name=\"weight\",\n",
    "                       shape=[n_hidden, n_classes],\n",
    "                       initializer=tf.contrib.layers.xavier_initializer())\n",
    "    b = tf.get_variable(name=\"bias\",\n",
    "                        shape=[n_classes],\n",
    "                        initializer=tf.constant_initializer(0.0))\n",
    "    \n",
    "    # Calculate logits\n",
    "    logits = tf.nn.xw_plus_b(x=last_output, weights=W, biases=b, name=\"logits\")\n",
    "    \n",
    "    return logits"
   ]
  },
  {
   "cell_type": "code",
   "execution_count": 10,
   "metadata": {},
   "outputs": [
    {
     "name": "stdout",
     "output_type": "stream",
     "text": [
      "(?, 28, 32)\n",
      "Tensor(\"logits:0\", shape=(?, 10), dtype=float32)\n"
     ]
    }
   ],
   "source": [
    "# logits: output vector of RNN_static\n",
    "logits = RNN_dynamic(X, n_steps, n_hidden, n_classes)\n",
    "print(logits)"
   ]
  },
  {
   "cell_type": "code",
   "execution_count": 11,
   "metadata": {
    "collapsed": true
   },
   "outputs": [],
   "source": [
    "cost = tf.reduce_mean(tf.nn.sparse_softmax_cross_entropy_with_logits(logits=logits, labels=Y))\n",
    "train_op = tf.train.AdamOptimizer(learning_rate=LEARNING_RATE).minimize(cost)"
   ]
  },
  {
   "cell_type": "code",
   "execution_count": 12,
   "metadata": {
    "collapsed": true
   },
   "outputs": [],
   "source": [
    "correct_prediction = tf.nn.in_top_k(predictions=logits, targets=Y, k=1)\n",
    "accuracy = tf.reduce_mean(tf.cast(correct_prediction, tf.float32))"
   ]
  },
  {
   "cell_type": "code",
   "execution_count": 13,
   "metadata": {
    "collapsed": true
   },
   "outputs": [],
   "source": [
    "def make_batch_step(Y, batch_size, allow_small_batch=True):\n",
    "    num_points = len(Y)\n",
    "    start_idx = list(range(0, num_points, batch_size))\n",
    "    end_idx = list(range(batch_size, num_points+1, batch_size))\n",
    "    \n",
    "    if allow_small_batch:\n",
    "        start_idx.append(end_idx[-1] + 1)\n",
    "        end_idx.append(num_points)\n",
    "    \n",
    "    return zip(start_idx, end_idx)"
   ]
  },
  {
   "cell_type": "markdown",
   "metadata": {},
   "source": [
    "# 4. Run"
   ]
  },
  {
   "cell_type": "code",
   "execution_count": 14,
   "metadata": {},
   "outputs": [
    {
     "name": "stdout",
     "output_type": "stream",
     "text": [
      "[  0 step /   0 epoch] cost = 2.321167, accuracy = 0.046875\n",
      "[ 50 step /   0 epoch] cost = 1.713754, accuracy = 0.414062\n",
      "[100 step /   0 epoch] cost = 1.402698, accuracy = 0.546875\n",
      "[150 step /   0 epoch] cost = 1.293166, accuracy = 0.570312\n",
      "[200 step /   0 epoch] cost = 1.124235, accuracy = 0.656250\n",
      "[250 step /   0 epoch] cost = 1.191664, accuracy = 0.570312\n",
      "[300 step /   0 epoch] cost = 0.893257, accuracy = 0.695312\n",
      "[350 step /   0 epoch] cost = 0.907208, accuracy = 0.671875\n",
      "[400 step /   0 epoch] cost = 0.926002, accuracy = 0.656250\n",
      "\n",
      "\t[  0 epoch] validation cost = 0.880710, validation accuracy = 0.724200\n",
      "\n",
      "\n",
      "[  0 step /   1 epoch] cost = 0.854653, accuracy = 0.726562\n",
      "[ 50 step /   1 epoch] cost = 0.713805, accuracy = 0.734375\n",
      "[100 step /   1 epoch] cost = 0.832193, accuracy = 0.718750\n",
      "[150 step /   1 epoch] cost = 0.835297, accuracy = 0.726562\n",
      "[200 step /   1 epoch] cost = 0.772626, accuracy = 0.742188\n",
      "[250 step /   1 epoch] cost = 0.894310, accuracy = 0.687500\n",
      "[300 step /   1 epoch] cost = 0.672444, accuracy = 0.781250\n",
      "[350 step /   1 epoch] cost = 0.721209, accuracy = 0.734375\n",
      "[400 step /   1 epoch] cost = 0.685813, accuracy = 0.710938\n",
      "\n",
      "[  0 step /   2 epoch] cost = 0.716005, accuracy = 0.726562\n",
      "[ 50 step /   2 epoch] cost = 0.532532, accuracy = 0.804688\n",
      "[100 step /   2 epoch] cost = 0.675626, accuracy = 0.734375\n",
      "[150 step /   2 epoch] cost = 0.655727, accuracy = 0.796875\n",
      "[200 step /   2 epoch] cost = 0.612712, accuracy = 0.796875\n",
      "[250 step /   2 epoch] cost = 0.748859, accuracy = 0.734375\n",
      "[300 step /   2 epoch] cost = 0.540060, accuracy = 0.828125\n",
      "[350 step /   2 epoch] cost = 0.579135, accuracy = 0.804688\n",
      "[400 step /   2 epoch] cost = 0.618457, accuracy = 0.765625\n",
      "\n",
      "[  0 step /   3 epoch] cost = 0.673994, accuracy = 0.765625\n",
      "[ 50 step /   3 epoch] cost = 0.408581, accuracy = 0.867188\n",
      "[100 step /   3 epoch] cost = 0.540155, accuracy = 0.796875\n",
      "[150 step /   3 epoch] cost = 0.517903, accuracy = 0.828125\n",
      "[200 step /   3 epoch] cost = 0.527363, accuracy = 0.812500\n",
      "[250 step /   3 epoch] cost = 0.724591, accuracy = 0.757812\n",
      "[300 step /   3 epoch] cost = 0.387940, accuracy = 0.875000\n",
      "[350 step /   3 epoch] cost = 0.592160, accuracy = 0.812500\n",
      "[400 step /   3 epoch] cost = 0.480039, accuracy = 0.828125\n",
      "\n",
      "[  0 step /   4 epoch] cost = 0.613773, accuracy = 0.773438\n",
      "[ 50 step /   4 epoch] cost = 0.334898, accuracy = 0.867188\n",
      "[100 step /   4 epoch] cost = 0.489408, accuracy = 0.835938\n",
      "[150 step /   4 epoch] cost = 0.464348, accuracy = 0.843750\n",
      "[200 step /   4 epoch] cost = 0.494518, accuracy = 0.835938\n",
      "[250 step /   4 epoch] cost = 0.657043, accuracy = 0.765625\n",
      "[300 step /   4 epoch] cost = 0.331099, accuracy = 0.882812\n",
      "[350 step /   4 epoch] cost = 0.498779, accuracy = 0.820312\n",
      "[400 step /   4 epoch] cost = 0.438286, accuracy = 0.851562\n",
      "\n",
      "[  0 step /   5 epoch] cost = 0.567453, accuracy = 0.804688\n",
      "[ 50 step /   5 epoch] cost = 0.276537, accuracy = 0.898438\n",
      "[100 step /   5 epoch] cost = 0.464504, accuracy = 0.843750\n",
      "[150 step /   5 epoch] cost = 0.474150, accuracy = 0.859375\n",
      "[200 step /   5 epoch] cost = 0.445052, accuracy = 0.843750\n",
      "[250 step /   5 epoch] cost = 0.547511, accuracy = 0.820312\n",
      "[300 step /   5 epoch] cost = 0.286208, accuracy = 0.914062\n",
      "[350 step /   5 epoch] cost = 0.477446, accuracy = 0.843750\n",
      "[400 step /   5 epoch] cost = 0.421563, accuracy = 0.867188\n",
      "\n",
      "\t[  5 epoch] validation cost = 0.427869, validation accuracy = 0.868600\n",
      "\n",
      "\n",
      "[  0 step /   6 epoch] cost = 0.565247, accuracy = 0.796875\n",
      "[ 50 step /   6 epoch] cost = 0.257534, accuracy = 0.898438\n",
      "[100 step /   6 epoch] cost = 0.425541, accuracy = 0.851562\n",
      "[150 step /   6 epoch] cost = 0.477797, accuracy = 0.867188\n",
      "[200 step /   6 epoch] cost = 0.393913, accuracy = 0.851562\n",
      "[250 step /   6 epoch] cost = 0.484068, accuracy = 0.843750\n",
      "[300 step /   6 epoch] cost = 0.260664, accuracy = 0.937500\n",
      "[350 step /   6 epoch] cost = 0.487812, accuracy = 0.843750\n",
      "[400 step /   6 epoch] cost = 0.405640, accuracy = 0.867188\n",
      "\n",
      "[  0 step /   7 epoch] cost = 0.556637, accuracy = 0.796875\n",
      "[ 50 step /   7 epoch] cost = 0.278120, accuracy = 0.906250\n",
      "[100 step /   7 epoch] cost = 0.416291, accuracy = 0.843750\n",
      "[150 step /   7 epoch] cost = 0.486686, accuracy = 0.875000\n",
      "[200 step /   7 epoch] cost = 0.387381, accuracy = 0.882812\n",
      "[250 step /   7 epoch] cost = 0.511575, accuracy = 0.820312\n",
      "[300 step /   7 epoch] cost = 0.227661, accuracy = 0.937500\n",
      "[350 step /   7 epoch] cost = 0.486486, accuracy = 0.859375\n",
      "[400 step /   7 epoch] cost = 0.369914, accuracy = 0.882812\n",
      "\n",
      "[  0 step /   8 epoch] cost = 0.510696, accuracy = 0.812500\n",
      "[ 50 step /   8 epoch] cost = 0.227229, accuracy = 0.937500\n",
      "[100 step /   8 epoch] cost = 0.398524, accuracy = 0.851562\n",
      "[150 step /   8 epoch] cost = 0.442594, accuracy = 0.890625\n",
      "[200 step /   8 epoch] cost = 0.343429, accuracy = 0.890625\n",
      "[250 step /   8 epoch] cost = 0.474575, accuracy = 0.851562\n",
      "[300 step /   8 epoch] cost = 0.213982, accuracy = 0.945312\n",
      "[350 step /   8 epoch] cost = 0.462681, accuracy = 0.867188\n",
      "[400 step /   8 epoch] cost = 0.346660, accuracy = 0.890625\n",
      "\n",
      "[  0 step /   9 epoch] cost = 0.458084, accuracy = 0.835938\n",
      "[ 50 step /   9 epoch] cost = 0.198192, accuracy = 0.953125\n",
      "[100 step /   9 epoch] cost = 0.399035, accuracy = 0.851562\n",
      "[150 step /   9 epoch] cost = 0.427004, accuracy = 0.898438\n",
      "[200 step /   9 epoch] cost = 0.327922, accuracy = 0.890625\n",
      "[250 step /   9 epoch] cost = 0.456073, accuracy = 0.843750\n",
      "[300 step /   9 epoch] cost = 0.235361, accuracy = 0.929688\n",
      "[350 step /   9 epoch] cost = 0.445143, accuracy = 0.867188\n",
      "[400 step /   9 epoch] cost = 0.323959, accuracy = 0.914062\n",
      "\n",
      "\n",
      "\t[Test] test cost = 0.334955, test accuracy = 0.901300\n"
     ]
    }
   ],
   "source": [
    "start_time = time.time()\n",
    "\n",
    "with tf.Session() as sess:\n",
    "    sess.run(tf.global_variables_initializer())\n",
    "    \n",
    "    for epoch in range(N_EPOCHS):\n",
    "        batch_step = make_batch_step(Y=Y_train,\n",
    "                                        batch_size=BATCH_SIZE,\n",
    "                                        allow_small_batch=True)\n",
    "        step = 0\n",
    "\n",
    "        # Train\n",
    "        for start, end in batch_step:\n",
    "            batch_xs = X_train[start:end]\n",
    "            batch_ys = Y_train[start:end]\n",
    "            \n",
    "            _, cost_batch, accuracy_batch = sess.run([train_op, cost, accuracy],\n",
    "                                                    feed_dict={X:batch_xs, Y:batch_ys})\n",
    "            if step % DISPLAY_STEP is 0:\n",
    "                print(\"[%3d step / %3d epoch] cost = %.6f, accuracy = %.6f\" % (step, epoch, cost_batch, accuracy_batch))\n",
    "                \n",
    "            step += 1\n",
    "        \n",
    "        # Validation\n",
    "        if epoch % VAL_EPOCH is 0:\n",
    "            cost_val, accuracy_val = sess.run([cost, accuracy], feed_dict={X:X_val, Y:Y_val})\n",
    "            print()\n",
    "            print(\"\\t[%3d epoch] validation cost = %.6f, validation accuracy = %.6f\" % (epoch, cost_val, accuracy_val))\n",
    "            print()\n",
    "        \n",
    "        print()\n",
    "    \n",
    "    # Test\n",
    "    cost_test, accuracy_test = sess.run([cost, accuracy], feed_dict={X: X_test, Y: Y_test})\n",
    "    print(\"\\n\\t[Test] test cost = %.6f, test accuracy = %.6f\" % (cost_test, accuracy_test))"
   ]
  },
  {
   "cell_type": "code",
   "execution_count": 15,
   "metadata": {},
   "outputs": [
    {
     "name": "stdout",
     "output_type": "stream",
     "text": [
      "78.40251421928406 sec\n"
     ]
    }
   ],
   "source": [
    "print(time.time() - start_time, \"sec\")"
   ]
  },
  {
   "cell_type": "code",
   "execution_count": null,
   "metadata": {
    "collapsed": true
   },
   "outputs": [],
   "source": []
  }
 ],
 "metadata": {
  "kernelspec": {
   "display_name": "Python 3",
   "language": "python",
   "name": "python3"
  },
  "language_info": {
   "codemirror_mode": {
    "name": "ipython",
    "version": 3
   },
   "file_extension": ".py",
   "mimetype": "text/x-python",
   "name": "python",
   "nbconvert_exporter": "python",
   "pygments_lexer": "ipython3",
   "version": "3.5.0"
  }
 },
 "nbformat": 4,
 "nbformat_minor": 2
}
