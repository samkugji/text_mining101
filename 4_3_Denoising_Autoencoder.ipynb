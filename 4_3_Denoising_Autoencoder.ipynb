{
 "cells": [
  {
   "cell_type": "markdown",
   "metadata": {},
   "source": [
    "# Denoising Autoencoder"
   ]
  },
  {
   "cell_type": "code",
   "execution_count": 1,
   "metadata": {
    "collapsed": true
   },
   "outputs": [],
   "source": [
    "import tensorflow as tf\n",
    "import numpy as np\n",
    "import sklearn.preprocessing as prep\n",
    "import matplotlib.pyplot as plt\n",
    "%matplotlib inline"
   ]
  },
  {
   "cell_type": "markdown",
   "metadata": {},
   "source": [
    "## Setting"
   ]
  },
  {
   "cell_type": "code",
   "execution_count": 2,
   "metadata": {
    "collapsed": true
   },
   "outputs": [],
   "source": [
    "# Parameters\n",
    "transfer_function = tf.nn.sigmoid # tf.nn.relu, tf.nn.softplus, tf.nn.sigmoid, tf.nn.tanh\n",
    "dropout_probability = 0.9\n",
    "training_epochs = 10\n",
    "batch_size = 128\n",
    "display_step = 1"
   ]
  },
  {
   "cell_type": "markdown",
   "metadata": {},
   "source": [
    "## data set"
   ]
  },
  {
   "cell_type": "code",
   "execution_count": 3,
   "metadata": {},
   "outputs": [
    {
     "name": "stdout",
     "output_type": "stream",
     "text": [
      "Extracting MNIST_data/train-images-idx3-ubyte.gz\n",
      "Extracting MNIST_data/train-labels-idx1-ubyte.gz\n",
      "Extracting MNIST_data/t10k-images-idx3-ubyte.gz\n",
      "Extracting MNIST_data/t10k-labels-idx1-ubyte.gz\n"
     ]
    }
   ],
   "source": [
    "# Check out https://www.tensorflow.org/get_started/mnist/beginners for\n",
    "# more information about the mnist dataset\n",
    "\n",
    "from tensorflow.examples.tutorials.mnist import input_data\n",
    "mnist = input_data.read_data_sets(\"MNIST_data/\", one_hot=True)\n",
    "X_train, X_test = mnist.train.images, mnist.test.images\n",
    "n_samples = int(mnist.train.num_examples)"
   ]
  },
  {
   "cell_type": "markdown",
   "metadata": {},
   "source": [
    "## Help functions"
   ]
  },
  {
   "cell_type": "code",
   "execution_count": 4,
   "metadata": {
    "collapsed": true
   },
   "outputs": [],
   "source": [
    "def standard_scale(X_train, X_test):\n",
    "    preprocessor = prep.StandardScaler().fit(X_train)\n",
    "    X_train = preprocessor.transform(X_train)\n",
    "    X_test = preprocessor.transform(X_test)\n",
    "    \n",
    "    return X_train, X_test"
   ]
  },
  {
   "cell_type": "code",
   "execution_count": 5,
   "metadata": {
    "collapsed": true
   },
   "outputs": [],
   "source": [
    "def inverse_transform(X_train_original, X_processed):\n",
    "    preprocessor = prep.StandardScaler().fit(X_train_original)\n",
    "    X = preprocessor.inverse_transform(X_processed)\n",
    "    \n",
    "    return X"
   ]
  },
  {
   "cell_type": "code",
   "execution_count": 6,
   "metadata": {
    "collapsed": true
   },
   "outputs": [],
   "source": [
    "def get_random_block_from_data(data, batch_size):\n",
    "    start_index = np.random.randint(0, len(data) - batch_size)\n",
    "    \n",
    "    return data[start_index:(start_index + batch_size)]"
   ]
  },
  {
   "cell_type": "markdown",
   "metadata": {},
   "source": [
    "## autoencoder model"
   ]
  },
  {
   "cell_type": "code",
   "execution_count": 7,
   "metadata": {
    "collapsed": true
   },
   "outputs": [],
   "source": [
    "class AdditiveGaussianNoiseAutoencoder(object):\n",
    "    def __init__(self, n_input, n_hidden, transfer_function=tf.nn.softplus, optimizer=tf.train.AdamOptimizer(),\n",
    "                 scale=0.1):\n",
    "        self.n_input = n_input\n",
    "        self.n_hidden = n_hidden\n",
    "        self.transfer = transfer_function\n",
    "        self.scale = tf.placeholder(tf.float32)\n",
    "        self.training_scale = scale\n",
    "\n",
    "        network_weights = self._initialize_weights()\n",
    "        self.weights = network_weights\n",
    "\n",
    "        # model\n",
    "        self.x = tf.placeholder(tf.float32, [None, self.n_input])\n",
    "        self.corrupted = self.x + scale * tf.random_normal((n_input,))\n",
    "        self.hidden = self.transfer(tf.add(tf.matmul(self.corrupted, self.weights['w1']), self.weights['b1']))\n",
    "        self.reconstruction = tf.add(tf.matmul(self.hidden, self.weights['w2']), self.weights['b2'])\n",
    "\n",
    "        # cost\n",
    "        self.cost = 0.5 * tf.reduce_sum(tf.pow(tf.subtract(self.reconstruction, self.x), 2.0))\n",
    "        self.optimizer = optimizer.minimize(self.cost)\n",
    "\n",
    "        init = tf.global_variables_initializer()\n",
    "        self.sess = tf.Session()\n",
    "        self.sess.run(init)\n",
    "\n",
    "    def _initialize_weights(self):\n",
    "        all_weights = dict()\n",
    "        all_weights['w1'] = tf.get_variable(\"w1\", shape=[self.n_input, self.n_hidden],\n",
    "            initializer=tf.contrib.layers.xavier_initializer())\n",
    "        all_weights['b1'] = tf.Variable(tf.zeros([self.n_hidden], dtype = tf.float32))\n",
    "        all_weights['w2'] = tf.Variable(tf.zeros([self.n_hidden, self.n_input], dtype = tf.float32))\n",
    "        all_weights['b2'] = tf.Variable(tf.zeros([self.n_input], dtype = tf.float32))\n",
    "        return all_weights\n",
    "\n",
    "    def partial_fit(self, X):\n",
    "        cost, opt = self.sess.run((self.cost, self.optimizer), feed_dict = {self.x: X,\n",
    "                                                                            self.scale: self.training_scale\n",
    "                                                                            })\n",
    "        return cost\n",
    "\n",
    "    def calc_total_cost(self, X):\n",
    "        return self.sess.run(self.cost, feed_dict = {self.x: X,\n",
    "                                                     self.scale: self.training_scale\n",
    "                                                     })\n",
    "\n",
    "    def transform(self, X):\n",
    "        return self.sess.run(self.hidden, feed_dict = {self.x: X,\n",
    "                                                       self.scale: self.training_scale\n",
    "                                                       })\n",
    "\n",
    "    def generate(self, hidden=None):\n",
    "        if hidden is None:\n",
    "            hidden = self.sess.run(tf.random_normal([1, self.n_hidden]))\n",
    "        return self.sess.run(self.reconstruction, feed_dict = {self.hidden: hidden})\n",
    "\n",
    "    def reconstruct(self, X):\n",
    "        return self.sess.run(self.reconstruction, feed_dict = {self.x: X,\n",
    "                                                               self.scale: self.training_scale\n",
    "                                                               })\n",
    "    def corrupt(self, X):\n",
    "        return self.sess.run(self.corrupted, fedd_dict={self.x:X, self.scale: self.training_scale})\n",
    "    \n",
    "    def getWeights(self):\n",
    "        return self.sess.run(self.weights['w1'])\n",
    "\n",
    "    def getBiases(self):\n",
    "        return self.sess.run(self.weights['b1'])\n",
    "\n",
    "\n",
    "class MaskingNoiseAutoencoder(object):\n",
    "    def __init__(self, n_input, n_hidden, transfer_function = tf.nn.softplus, optimizer = tf.train.AdamOptimizer(),\n",
    "                 dropout_probability = 0.95, tied_weights=False):\n",
    "        self.n_input = n_input\n",
    "        self.n_hidden = n_hidden\n",
    "        self.transfer = transfer_function\n",
    "        self.dropout_probability = dropout_probability\n",
    "        self.keep_prob = tf.placeholder(tf.float32)\n",
    "        self.tied_weights = tied_weights\n",
    "\n",
    "        network_weights = self._initialize_weights(tied=self.tied_weights)\n",
    "        self.weights = network_weights\n",
    "\n",
    "        # model\n",
    "        self.x = tf.placeholder(tf.float32, [None, self.n_input])\n",
    "        self.corrupted = tf.nn.dropout(self.x, self.keep_prob)\n",
    "        self.hidden = self.transfer(tf.add(tf.matmul(self.corrupted, self.weights['w1']), self.weights['b1']))\n",
    "        self.reconstruction = self.transfer(tf.add(tf.matmul(self.hidden, self.weights['w2']), self.weights['b2']))\n",
    "\n",
    "        # cost\n",
    "        self.cost = 0.5 * tf.reduce_sum(tf.pow(tf.subtract(self.reconstruction, self.x), 2.0))\n",
    "        self.optimizer = optimizer.minimize(self.cost)\n",
    "\n",
    "        init = tf.global_variables_initializer()\n",
    "        self.sess = tf.Session()\n",
    "        self.sess.run(init)\n",
    "\n",
    "    # def _initialize_weights(self, tied):\n",
    "    #     all_weights = dict()\n",
    "    #     all_weights['w1'] = tf.get_variable(\"w1\", shape=[self.n_input, self.n_hidden],\n",
    "    #         initializer=tf.contrib.layers.xavier_initializer())\n",
    "    #     all_weights['b1'] = tf.Variable(tf.zeros([self.n_hidden], dtype = tf.float32))\n",
    "    #     if tied == True:\n",
    "    #         all_weights['w2'] = tf.transpose(all_weights['w1'])\n",
    "    #     else:\n",
    "    #         all_weights['w2'] = = tf.Variable(tf.zeros([self.n_hidden, self.n_input], dtype = tf.float32))\n",
    "    #     all_weights['b2'] = tf.Variable(tf.zeros([self.n_input], dtype = tf.float32))\n",
    "    #     return all_weights\n",
    "\n",
    "    def _initialize_weights(self, tied):\n",
    "        all_weights = dict()\n",
    "        all_weights['w1'] = tf.get_variable('w1', shape=[self.n_input, self.n_hidden], initializer=tf.contrib.layers.xavier_initializer())\n",
    "        all_weights['b1'] = tf.get_variable('b1', shape=[self.n_hidden], initializer=tf.constant_initializer(0.0))\n",
    "        if tied == True:\n",
    "            all_weights['w2'] = tf.transpose(all_weights['w1'], name='w2')\n",
    "        else:\n",
    "            all_weights['w2'] = tf.get_variable('w2', shape=[self.n_hidden, self.n_input], initializer=tf.contrib.layers.xavier_initializer())\n",
    "        all_weights['b2'] = tf.get_variable('b2', shape=[self.n_input], initializer=tf.constant_initializer(0.0))\n",
    "        return all_weights\n",
    "\n",
    "    def partial_fit(self, X):\n",
    "        cost, opt = self.sess.run((self.cost, self.optimizer),\n",
    "                                  feed_dict = {self.x: X, self.keep_prob: self.dropout_probability})\n",
    "        return cost\n",
    "\n",
    "    def calc_total_cost(self, X):\n",
    "        return self.sess.run(self.cost, feed_dict = {self.x: X, self.keep_prob: 1.0})\n",
    "\n",
    "    def transform(self, X):\n",
    "        return self.sess.run(self.hidden, feed_dict = {self.x: X, self.keep_prob: 1.0})\n",
    "\n",
    "    def generate(self, hidden=None):\n",
    "        if hidden is None:\n",
    "            hidden = self.sess.run(tf.random_normal([1, self.n_hidden]))\n",
    "        return self.sess.run(self.reconstruction, feed_dict = {self.hidden: hidden})\n",
    "\n",
    "    def reconstruct(self, X):\n",
    "        return self.sess.run(self.reconstruction, feed_dict = {self.x: X, self.keep_prob: 1.0})\n",
    "\n",
    "    def corrupt(self, X):\n",
    "        return self.sess.run(self.corrupted, feed_dict={self.x: X, self.keep_prob: self.dropout_probability})\n",
    "\n",
    "    def getWeights(self):\n",
    "        return self.sess.run(self.weights['w1'])\n",
    "\n",
    "    def getBiases(self):\n",
    "        return self.sess.run(self.weights['b1'])"
   ]
  },
  {
   "cell_type": "code",
   "execution_count": 8,
   "metadata": {
    "collapsed": true
   },
   "outputs": [],
   "source": [
    "autoencoder = AdditiveGaussianNoiseAutoencoder(\n",
    "    n_input = 784,\n",
    "    n_hidden = 200,\n",
    "    transfer_function = tf.nn.softplus,\n",
    "    optimizer = tf.train.AdamOptimizer(learning_rate = 0.001),\n",
    "    scale = 0.01\n",
    ")"
   ]
  },
  {
   "cell_type": "code",
   "execution_count": 9,
   "metadata": {},
   "outputs": [
    {
     "name": "stdout",
     "output_type": "stream",
     "text": [
      "Epoch: 0001 cost= 1120.721600852\n",
      "Epoch: 0002 cost= 382.031542614\n",
      "Epoch: 0003 cost= 289.258148011\n",
      "Epoch: 0004 cost= 249.329017543\n",
      "Epoch: 0005 cost= 222.575262074\n",
      "Epoch: 0006 cost= 207.853547656\n",
      "Epoch: 0007 cost= 195.773138423\n",
      "Epoch: 0008 cost= 191.451255291\n",
      "Epoch: 0009 cost= 184.471983949\n",
      "Epoch: 0010 cost= 180.727374112\n",
      "Total cost: 13720.7\n"
     ]
    }
   ],
   "source": [
    "for epoch in range(training_epochs):\n",
    "    avg_cost = 0.\n",
    "    total_batch = int(n_samples / batch_size)\n",
    "    # Loop over all batches\n",
    "    for i in range(total_batch):\n",
    "        batch_xs = get_random_block_from_data(X_train, batch_size)\n",
    "\n",
    "        # Fit training using batch data\n",
    "        cost = autoencoder.partial_fit(batch_xs)\n",
    "        # Compute average loss\n",
    "        avg_cost += cost / n_samples * batch_size\n",
    "\n",
    "    # Display logs per epoch step\n",
    "    if epoch % display_step == 0:\n",
    "        print(\"Epoch:\", '%04d' % (epoch + 1), \"cost=\", \"{:.9f}\".format(avg_cost))\n",
    "\n",
    "print(\"Total cost: \" + str(autoencoder.calc_total_cost(X_test)))"
   ]
  },
  {
   "cell_type": "code",
   "execution_count": 10,
   "metadata": {},
   "outputs": [
    {
     "name": "stderr",
     "output_type": "stream",
     "text": [
      "/home/ubuntu/tf_py3.6/lib/python3.6/site-packages/matplotlib/figure.py:402: UserWarning: matplotlib is currently using a non-GUI backend, so cannot show the figure\n",
      "  \"matplotlib is currently using a non-GUI backend, \"\n"
     ]
    },
    {
     "data": {
      "image/png": "[encoded data removed]",
      "text/plain": [
       "<matplotlib.figure.Figure at 0x7f870273e5c0>"
      ]
     },
     "metadata": {},
     "output_type": "display_data"
    }
   ],
   "source": [
    "examples_to_show = 10\n",
    "start_img = 0\n",
    "idx = range(start_img, start_img + examples_to_show)\n",
    "X_test_original = mnist.test.images\n",
    "func_name = str(autoencoder.transfer).split(' ')[1]\n",
    "suptitle_name = '[Autoencoder] Transfer_function: %s' % (func_name)\n",
    "\n",
    "reconstructed_images = autoencoder.reconstruct(X_test[idx, :])\n",
    "f, a = plt.subplots(2, examples_to_show, figsize=(15, 5))\n",
    "for i in range(start_img, examples_to_show):\n",
    "    a[0][i].imshow(np.reshape(X_test_original[i, :], (28, 28)), cmap=plt.get_cmap('gray'))\n",
    "    a[1][i].imshow(np.reshape(reconstructed_images[i, :], (28, 28)), cmap=plt.get_cmap('gray'))\n",
    "plt.suptitle(suptitle_name)\n",
    "f.show()\n",
    "# f.savefig('figures/testImage_%s_dropout_%.3f.png' % (func_name, autoencoder.dropout_probability))"
   ]
  },
  {
   "cell_type": "code",
   "execution_count": 11,
   "metadata": {},
   "outputs": [
    {
     "data": {
      "text/plain": [
       "{'b1': <tensorflow.python.ops.variables.Variable at 0x7f870303cef0>,\n",
       " 'b2': <tensorflow.python.ops.variables.Variable at 0x7f870303cf98>,\n",
       " 'w1': <tensorflow.python.ops.variables.Variable at 0x7f87028655f8>,\n",
       " 'w2': <tensorflow.python.ops.variables.Variable at 0x7f870303cf28>}"
      ]
     },
     "execution_count": 11,
     "metadata": {},
     "output_type": "execute_result"
    }
   ],
   "source": [
    "autoencoder.weights"
   ]
  },
  {
   "cell_type": "code",
   "execution_count": 12,
   "metadata": {
    "collapsed": true
   },
   "outputs": [],
   "source": [
    "encoder_weight = autoencoder.sess.run(autoencoder.weights['w1'])\n",
    "decoder_weight = autoencoder.sess.run(autoencoder.weights['w2'])"
   ]
  },
  {
   "cell_type": "code",
   "execution_count": 13,
   "metadata": {},
   "outputs": [
    {
     "data": {
      "text/plain": [
       "array([-0.09231877,  0.09967366, -0.01641758,  0.01060186, -0.02272796,\n",
       "        0.02249272, -0.0662045 ,  0.03472528, -0.06978319,  0.06475462,\n",
       "        0.01452363, -0.03280871,  0.17520136,  0.05391125, -0.05472264,\n",
       "       -0.05812623, -0.09157278, -0.07559745, -0.07497767, -0.03260956,\n",
       "       -0.01692577,  0.04364505,  0.13730568, -0.08731487,  0.10155269,\n",
       "       -0.03360949,  0.05524816, -0.07227597,  0.00196469, -0.158906  ,\n",
       "       -0.03111699,  0.02453419,  0.03637172, -0.06326899,  0.11380568,\n",
       "       -0.04235907,  0.07815871, -0.01418097,  0.00376919,  0.016676  ,\n",
       "       -0.0614754 ,  0.00390404,  0.02430663,  0.0162656 , -0.04331323,\n",
       "        0.04632445, -0.00273848, -0.00598556,  0.00258554,  0.02870885,\n",
       "        0.01471933,  0.07475595,  0.00816096, -0.10610297,  0.02809819,\n",
       "       -0.07158083,  0.04639002,  0.01292539,  0.04513199,  0.16982935,\n",
       "       -0.04841771,  0.03594122, -0.08968025, -0.02407951, -0.0119749 ,\n",
       "        0.02752497,  0.08931497,  0.03009948, -0.01874588, -0.01989289,\n",
       "        0.00125184, -0.08906163, -0.00508376, -0.00572313, -0.00984176,\n",
       "        0.00212791,  0.03057181,  0.06698085,  0.03979721, -0.03099359,\n",
       "        0.07041179,  0.04289323,  0.03923801, -0.02340941,  0.01466289,\n",
       "       -0.06989106,  0.10593812,  0.05437002,  0.01435178,  0.00068201,\n",
       "       -0.04028531,  0.05008301,  0.06066306,  0.10725494,  0.03067029,\n",
       "       -0.01846082, -0.02691629,  0.02326051,  0.0444327 , -0.01256826,\n",
       "       -0.01194284,  0.05924915,  0.01342728,  0.00880516, -0.02984028,\n",
       "       -0.05627576,  0.05082624,  0.04770635,  0.00713367, -0.05437919,\n",
       "        0.12025346,  0.00280511,  0.0516711 , -0.11403134,  0.03035582,\n",
       "       -0.05353085, -0.10785256, -0.10647459, -0.03351083,  0.00132418,\n",
       "        0.04853534, -0.00755541, -0.04705976, -0.02196131, -0.04512886,\n",
       "       -0.05421022,  0.05778902,  0.00073865,  0.01608684,  0.03065952,\n",
       "       -0.08960544, -0.06367294,  0.01923525,  0.09405798,  0.06376793,\n",
       "        0.03600853,  0.09257884, -0.14700942, -0.00421453,  0.11524647,\n",
       "        0.02680023,  0.01599847,  0.07952388, -0.02792582,  0.02211675,\n",
       "       -0.01770049,  0.05658357, -0.00173332,  0.01315719, -0.01527896,\n",
       "       -0.03862758,  0.00318279,  0.0720938 , -0.08364317, -0.00953447,\n",
       "        0.07751751, -0.05413462, -0.01093481,  0.01686922, -0.05379821,\n",
       "       -0.05265966,  0.10258198,  0.06313308,  0.07357213, -0.01416268,\n",
       "       -0.07098885,  0.09238216, -0.00782953,  0.07868405,  0.00227631,\n",
       "        0.0538317 ,  0.02470884, -0.0178208 ,  0.05111996, -0.0580411 ,\n",
       "       -0.02770957, -0.00486709, -0.022321  ,  0.04822962,  0.06817668,\n",
       "       -0.1171461 ,  0.00971201, -0.07892951, -0.0624972 ,  0.05433729,\n",
       "       -0.04408232, -0.05187347, -0.02844428,  0.06291537, -0.03718968,\n",
       "       -0.00641067,  0.03622757, -0.0293596 ,  0.02351343, -0.0323177 ,\n",
       "       -0.01748938, -0.03624452,  0.04127732, -0.11632615, -0.01524501], dtype=float32)"
      ]
     },
     "execution_count": 13,
     "metadata": {},
     "output_type": "execute_result"
    }
   ],
   "source": [
    "encoder_weight[0, :]"
   ]
  },
  {
   "cell_type": "code",
   "execution_count": 14,
   "metadata": {},
   "outputs": [
    {
     "data": {
      "text/plain": [
       "array([ 0.,  0.,  0.,  0.,  0.,  0.,  0.,  0.,  0.,  0.,  0.,  0.,  0.,\n",
       "        0.,  0.,  0.,  0.,  0.,  0.,  0.,  0.,  0.,  0.,  0.,  0.,  0.,\n",
       "        0.,  0.,  0.,  0.,  0.,  0.,  0.,  0.,  0.,  0.,  0.,  0.,  0.,\n",
       "        0.,  0.,  0.,  0.,  0.,  0.,  0.,  0.,  0.,  0.,  0.,  0.,  0.,\n",
       "        0.,  0.,  0.,  0.,  0.,  0.,  0.,  0.,  0.,  0.,  0.,  0.,  0.,\n",
       "        0.,  0.,  0.,  0.,  0.,  0.,  0.,  0.,  0.,  0.,  0.,  0.,  0.,\n",
       "        0.,  0.,  0.,  0.,  0.,  0.,  0.,  0.,  0.,  0.,  0.,  0.,  0.,\n",
       "        0.,  0.,  0.,  0.,  0.,  0.,  0.,  0.,  0.,  0.,  0.,  0.,  0.,\n",
       "        0.,  0.,  0.,  0.,  0.,  0.,  0.,  0.,  0.,  0.,  0.,  0.,  0.,\n",
       "        0.,  0.,  0.,  0.,  0.,  0.,  0.,  0.,  0.,  0.,  0.,  0.,  0.,\n",
       "        0.,  0.,  0.,  0.,  0.,  0.,  0.,  0.,  0.,  0.,  0.,  0.,  0.,\n",
       "        0.,  0.,  0.,  0.,  0.,  0.,  0.,  0.,  0.,  0.,  0.,  0.,  0.,\n",
       "        0.,  0.,  0.,  0.,  0.,  0.,  0.,  0.,  0.,  0.,  0.,  0.,  0.,\n",
       "        0.,  0.,  0.,  0.,  0.,  0.,  0.,  0.,  0.,  0.,  0.,  0.,  0.,\n",
       "        0.,  0.,  0.,  0.,  0.,  0.,  0.,  0.,  0.,  0.,  0.,  0.,  0.,\n",
       "        0.,  0.,  0.,  0.,  0.], dtype=float32)"
      ]
     },
     "execution_count": 14,
     "metadata": {},
     "output_type": "execute_result"
    }
   ],
   "source": [
    "decoder_weight[:, 0]"
   ]
  },
  {
   "cell_type": "code",
   "execution_count": 15,
   "metadata": {
    "collapsed": true
   },
   "outputs": [],
   "source": [
    "encoder_bias = autoencoder.sess.run(autoencoder.weights['b1'])\n",
    "decoder_bias = autoencoder.sess.run(autoencoder.weights['b2'])"
   ]
  },
  {
   "cell_type": "code",
   "execution_count": 16,
   "metadata": {},
   "outputs": [
    {
     "data": {
      "text/plain": [
       "array([ 0.14010444,  0.11863419,  0.17658581, -0.02116881,  0.24345547,\n",
       "        0.12553264,  0.10869458,  0.09007729,  0.05424846,  0.12086575,\n",
       "        0.2024883 , -0.0221137 ,  0.20162956,  0.18497823,  0.11775326,\n",
       "        0.19327661,  0.13620622,  0.01266573,  0.12545742,  0.22731075,\n",
       "        0.14614697,  0.10045377,  0.15734352,  0.08440252,  0.06769248,\n",
       "        0.12358562,  0.07398703,  0.16369906,  0.14236668,  0.11287011,\n",
       "        0.12299369,  0.03173862,  0.00840163,  0.10630549,  0.15982321,\n",
       "        0.12587325,  0.10677639,  0.1345547 ,  0.21538892,  0.08293141,\n",
       "        0.16991924,  0.14165591,  0.1130832 ,  0.23137408, -0.00181279,\n",
       "        0.11860269,  0.00991855,  0.19207893,  0.20496936,  0.15244858,\n",
       "        0.12228639,  0.16224961,  0.16980813,  0.11482239,  0.16419442,\n",
       "        0.03691467,  0.15241002,  0.14401108,  0.18820898,  0.11383815,\n",
       "        0.11904952,  0.15649362,  0.16037901,  0.13444054, -0.01562306,\n",
       "        0.15347643,  0.23542279,  0.21054998,  0.01854858,  0.12960848,\n",
       "        0.08898747,  0.12417296,  0.1671619 ,  0.12299251,  0.11374561,\n",
       "       -0.01254389,  0.11383057,  0.19527224,  0.10620579,  0.02825219,\n",
       "        0.01368589,  0.06997685,  0.19956355,  0.16461575, -0.02698939,\n",
       "        0.13423841,  0.10762537,  0.11100762,  0.18603514,  0.17505144,\n",
       "        0.15753613,  0.16193542,  0.03179925,  0.08233805,  0.16425653,\n",
       "        0.1851192 ,  0.1067122 ,  0.13299222,  0.18689087, -0.02844805,\n",
       "        0.18530558,  0.10256518,  0.11091854,  0.18799175,  0.17846313,\n",
       "        0.22526482,  0.10926057,  0.0819742 ,  0.0511883 ,  0.14983672,\n",
       "        0.02102235,  0.16730107,  0.10132568,  0.01379796,  0.08431949,\n",
       "        0.037874  ,  0.05564086,  0.10905017,  0.12328043,  0.05979404,\n",
       "        0.03801943,  0.03577052,  0.11982924,  0.18239805,  0.15855202,\n",
       "        0.21495567,  0.16640964,  0.10660055,  0.13293846, -0.01318387,\n",
       "        0.15325168,  0.12347431, -0.00702504,  0.12140882,  0.11433303,\n",
       "        0.18586797,  0.10111424,  0.17113909,  0.04973354,  0.21818392,\n",
       "        0.07054133,  0.20767143,  0.12691118,  0.05459531,  0.00503025,\n",
       "        0.09696144,  0.05599207,  0.06117015,  0.15848874,  0.15633284,\n",
       "        0.06730188,  0.15197967,  0.0824013 ,  0.16866238,  0.10845801,\n",
       "        0.20225528,  0.09982598,  0.21772981,  0.08680873,  0.04995981,\n",
       "        0.12333729,  0.11932661,  0.04476149,  0.18025793,  0.20997259,\n",
       "        0.1266173 ,  0.08648224,  0.17880856,  0.20713016,  0.07911957,\n",
       "        0.16824561,  0.09893379,  0.06642109,  0.19943582,  0.05365821,\n",
       "        0.17715502,  0.03132905,  0.18297499,  0.15195426,  0.11865996,\n",
       "        0.18712318,  0.12455889,  0.11772079,  0.00122535,  0.05995033,\n",
       "        0.07247109,  0.21769954,  0.18142873,  0.08497558,  0.21478793,\n",
       "        0.12649311,  0.09365466,  0.21897711,  0.01526751,  0.14666764,\n",
       "        0.12232413,  0.12460539,  0.13450208,  0.18548515,  0.07443842], dtype=float32)"
      ]
     },
     "execution_count": 16,
     "metadata": {},
     "output_type": "execute_result"
    }
   ],
   "source": [
    "encoder_bias"
   ]
  },
  {
   "cell_type": "code",
   "execution_count": 17,
   "metadata": {},
   "outputs": [
    {
     "data": {
      "text/plain": [
       "array([  0.00000000e+00,   0.00000000e+00,   0.00000000e+00,\n",
       "         0.00000000e+00,   0.00000000e+00,   0.00000000e+00,\n",
       "         0.00000000e+00,   0.00000000e+00,   0.00000000e+00,\n",
       "         0.00000000e+00,   0.00000000e+00,   0.00000000e+00,\n",
       "         7.73656284e-05,  -2.57974170e-04,  -7.69120161e-05,\n",
       "        -6.58657809e-05,   0.00000000e+00,   0.00000000e+00,\n",
       "         0.00000000e+00,   0.00000000e+00,   0.00000000e+00,\n",
       "         0.00000000e+00,   0.00000000e+00,   0.00000000e+00,\n",
       "         0.00000000e+00,   0.00000000e+00,   0.00000000e+00,\n",
       "         0.00000000e+00,   0.00000000e+00,   0.00000000e+00,\n",
       "         0.00000000e+00,   0.00000000e+00,  -3.17062484e-04,\n",
       "        -3.17765138e-04,  -9.75267205e-04,  -2.19824468e-03,\n",
       "        -1.85586978e-03,  -1.46738591e-03,  -1.82089605e-03,\n",
       "        -3.98624502e-03,  -3.63991270e-03,  -2.10497761e-03,\n",
       "        -2.05411995e-03,  -4.44720406e-03,  -6.64641056e-03,\n",
       "        -5.16251614e-03,  -1.71345146e-03,  -1.74479163e-03,\n",
       "        -1.19320257e-03,  -1.06910919e-03,   3.14816803e-04,\n",
       "         2.84164940e-04,   0.00000000e+00,   0.00000000e+00,\n",
       "         0.00000000e+00,   0.00000000e+00,   0.00000000e+00,\n",
       "         0.00000000e+00,   2.57756299e-04,   2.12853658e-04,\n",
       "        -1.04227162e-04,  -2.17365930e-04,  -2.22148886e-03,\n",
       "        -4.39351471e-03,  -5.53306285e-03,  -6.66915858e-03,\n",
       "        -7.96041079e-03,  -1.56587698e-02,  -1.95842050e-02,\n",
       "        -1.72081720e-02,  -1.54222446e-02,  -1.73641704e-02,\n",
       "        -1.93670187e-02,  -1.19826198e-02,  -3.25740455e-03,\n",
       "        -4.92975954e-03,  -7.45101273e-03,  -2.81970412e-03,\n",
       "         5.40496374e-04,   5.65549766e-04,   1.50070133e-04,\n",
       "        -3.14356876e-04,   0.00000000e+00,   0.00000000e+00,\n",
       "         0.00000000e+00,   0.00000000e+00,  -4.53162138e-05,\n",
       "         2.33848928e-04,   4.88019432e-05,  -4.51768370e-04,\n",
       "        -3.11695971e-03,  -8.15479364e-03,  -1.08390972e-02,\n",
       "        -1.60523131e-02,  -1.50514785e-02,  -1.84504706e-02,\n",
       "        -2.34312676e-02,  -2.39957217e-02,  -2.15559378e-02,\n",
       "        -2.18701847e-02,  -1.34924864e-02,  -9.43323877e-03,\n",
       "        -5.95511403e-04,  -6.81524491e-03,  -1.19702900e-02,\n",
       "        -1.12821739e-02,  -8.88113212e-03,  -4.80189361e-03,\n",
       "        -1.86547346e-03,   4.13109286e-04,  -2.88135023e-04,\n",
       "         0.00000000e+00,   0.00000000e+00,   1.50290280e-05,\n",
       "        -2.45352596e-04,  -1.18573167e-04,  -1.60375435e-03,\n",
       "        -3.19544901e-03,  -5.76175097e-03,  -1.05071776e-02,\n",
       "        -1.24036781e-02,  -6.24466874e-03,   2.49797478e-03,\n",
       "         4.95703600e-04,  -8.91279988e-03,  -9.16038919e-03,\n",
       "         5.31676691e-04,  -3.56103294e-03,  -1.62617303e-02,\n",
       "        -2.33697556e-02,  -1.88655555e-02,  -3.71371885e-03,\n",
       "        -1.14445249e-02,  -2.20929477e-02,  -1.97335444e-02,\n",
       "        -1.00782048e-02,  -5.36146155e-03,  -1.94495241e-03,\n",
       "        -9.16502686e-05,   1.06628526e-04,   0.00000000e+00,\n",
       "         0.00000000e+00,  -2.92914046e-04,  -2.70034559e-03,\n",
       "        -5.43843675e-03,  -5.74073894e-03,  -4.48303716e-03,\n",
       "        -6.29382115e-03,  -1.36115495e-03,   6.96485676e-03,\n",
       "         6.70319377e-03,  -3.94926546e-03,  -3.13257314e-02,\n",
       "        -2.38542948e-02,  -1.90775432e-02,  -1.01791341e-02,\n",
       "        -4.14452655e-03,  -1.95324887e-02,  -1.29772406e-02,\n",
       "        -4.34853975e-03,  -1.13452664e-02,  -1.74029693e-02,\n",
       "        -1.01806177e-02,  -2.69509712e-03,  -1.15213059e-02,\n",
       "        -1.09824641e-02,  -4.66068508e-03,  -5.15605730e-04,\n",
       "         0.00000000e+00,   3.45664914e-04,  -8.65366834e-04,\n",
       "        -7.84834474e-03,  -1.43399155e-02,  -8.13478511e-03,\n",
       "        -6.45295391e-03,  -9.97555256e-03,  -1.46326190e-03,\n",
       "        -4.06239089e-03,  -1.65907294e-02,  -1.80215333e-02,\n",
       "        -9.52360127e-03,  -5.08234045e-03,  -1.67761222e-02,\n",
       "         8.54059029e-03,  -1.25770038e-02,  -3.16010825e-02,\n",
       "        -2.36543696e-02,  -2.79633515e-02,  -2.06519254e-02,\n",
       "        -2.06744019e-02,  -6.68555172e-03,  -1.89564971e-03,\n",
       "        -1.36764450e-02,  -1.53468568e-02,  -6.34707091e-03,\n",
       "        -9.10011295e-04,   0.00000000e+00,  -2.33889965e-04,\n",
       "        -2.58250930e-03,  -1.14905527e-02,  -2.01255940e-02,\n",
       "        -1.31294066e-02,  -1.22812418e-02,  -2.43265890e-02,\n",
       "        -1.49459802e-02,  -1.66703784e-03,  -1.17275314e-02,\n",
       "        -1.09763425e-02,  -1.19072376e-02,  -1.81724392e-02,\n",
       "        -1.86668318e-02,  -2.37959102e-02,  -2.78403182e-02,\n",
       "        -1.21656330e-02,  -5.25275804e-03,  -2.42636539e-02,\n",
       "        -8.36035237e-03,   2.59510241e-03,  -9.46373586e-03,\n",
       "        -1.16486307e-02,  -2.40090955e-02,  -1.77747123e-02,\n",
       "        -9.68853943e-03,  -1.15397666e-03,   1.65157271e-05,\n",
       "         1.52920402e-04,  -8.53915291e-04,  -3.81436199e-03,\n",
       "        -8.96307826e-03,  -5.60005428e-03,  -3.76478233e-03,\n",
       "        -1.81185286e-02,  -1.28998887e-02,  -2.51960359e-03,\n",
       "        -2.85022873e-02,  -1.19823432e-02,  -7.71905994e-03,\n",
       "         1.52821222e-03,  -1.18418997e-02,  -2.35262457e-02,\n",
       "        -2.20337007e-02,  -1.77057143e-02,  -1.69684663e-02,\n",
       "        -6.90346071e-03,   2.16515688e-03,   1.01659214e-02,\n",
       "        -1.58384461e-02,  -2.36969367e-02,  -3.90813239e-02,\n",
       "        -2.67981645e-02,  -1.29801789e-02,  -2.88369367e-04,\n",
       "        -5.31070982e-04,   8.08340963e-04,   5.48320729e-03,\n",
       "         6.92178262e-03,  -1.89462467e-03,  -2.89476663e-03,\n",
       "        -6.58596400e-03,  -1.84040833e-02,  -6.94958633e-03,\n",
       "        -1.78014673e-02,  -2.85611451e-02,  -2.22377311e-02,\n",
       "        -1.57967545e-02,   8.94758850e-03,  -1.35116242e-02,\n",
       "        -2.19151545e-02,   5.76737011e-03,  -2.91570500e-02,\n",
       "        -1.13023547e-02,  -1.38521688e-02,  -6.89789979e-03,\n",
       "        -2.04901695e-02,  -1.58244632e-02,  -1.63892470e-02,\n",
       "        -2.90991571e-02,  -2.09872592e-02,  -8.03612731e-03,\n",
       "        -9.42545594e-04,   6.06884889e-04,   1.03914249e-03,\n",
       "         5.50464820e-03,   5.30691724e-03,  -8.02837312e-03,\n",
       "        -7.45798694e-03,  -1.11567369e-02,  -5.63117256e-03,\n",
       "         7.42020970e-03,  -2.73648370e-02,  -1.48325907e-02,\n",
       "        -2.35030539e-02,  -1.51994750e-02,   1.52637623e-03,\n",
       "        -2.35105753e-02,  -1.37284258e-02,  -6.94705034e-03,\n",
       "        -3.51819471e-02,  -8.95597134e-03,  -1.87329780e-02,\n",
       "        -1.16357813e-02,  -1.72838233e-02,   6.72812166e-06,\n",
       "         2.26951437e-03,  -1.13884155e-02,  -1.49017703e-02,\n",
       "        -6.10549701e-03,  -9.71874106e-04,  -1.03722399e-04,\n",
       "        -1.53655652e-04,  -1.21561100e-03,  -5.42220566e-03,\n",
       "        -1.54293245e-02,  -1.40174804e-02,  -8.21866281e-03,\n",
       "         6.73237536e-03,  -9.04490054e-03,  -2.71350946e-02,\n",
       "         6.73672976e-03,  -2.47753952e-02,  -2.87783965e-02,\n",
       "        -2.44843238e-03,  -3.84119079e-02,  -1.66254696e-02,\n",
       "        -2.48148199e-02,  -2.36318465e-02,  -1.88278481e-02,\n",
       "        -2.43426040e-02,  -2.07611285e-02,  -7.39220949e-03,\n",
       "         1.70109665e-03,   1.76481949e-03,  -8.54277704e-03,\n",
       "        -1.51551589e-02,  -5.41722868e-03,  -1.13912264e-03,\n",
       "        -1.14576920e-04,  -9.54695744e-04,  -4.72181756e-03,\n",
       "        -1.11690871e-02,  -1.36093460e-02,  -5.61400922e-03,\n",
       "        -1.28236171e-02,  -2.21788627e-03,  -1.82661489e-02,\n",
       "        -2.05299202e-02,  -2.19806358e-02,  -2.22710110e-02,\n",
       "        -1.43019147e-02,   7.29757594e-04,  -1.62303783e-02,\n",
       "        -8.09363788e-04,  -8.66493117e-03,  -1.85546894e-02,\n",
       "        -1.33651756e-02,  -2.35972758e-02,  -7.78691377e-03,\n",
       "        -1.02886194e-02,  -3.71143315e-03,  -5.37789240e-03,\n",
       "        -9.27153882e-03,  -1.31006520e-02,  -3.66141088e-03,\n",
       "        -6.63493920e-05,   1.64045778e-04,  -7.97518238e-04,\n",
       "        -5.07651456e-03,  -1.06465807e-02,  -1.98743725e-03,\n",
       "        -3.40808788e-03,  -2.21303124e-02,  -1.67314205e-02,\n",
       "        -7.67338614e-04,   1.06547412e-03,  -1.84534546e-02,\n",
       "        -2.77129095e-02,  -1.84397083e-02,  -3.94723518e-03,\n",
       "        -2.16763522e-02,  -2.57010702e-02,  -1.46526713e-02,\n",
       "        -4.77641150e-02,  -9.22928099e-03,  -1.15076695e-02,\n",
       "        -9.65836458e-03,  -2.09037904e-02,  -9.88483708e-03,\n",
       "        -1.46018472e-02,  -1.25223510e-02,  -1.40851429e-02,\n",
       "        -2.18100916e-03,   3.16711841e-04,   1.49972737e-04,\n",
       "        -7.26333674e-05,  -2.65692989e-03,  -6.62286254e-03,\n",
       "         8.26746318e-03,  -9.38250870e-03,  -1.65312402e-02,\n",
       "        -4.09661839e-03,  -1.17332824e-02,  -1.87181197e-02,\n",
       "        -5.57330344e-03,  -1.52124437e-02,   4.55626380e-03,\n",
       "         4.06948291e-03,  -2.60983277e-02,  -7.25226710e-03,\n",
       "         8.09103064e-03,  -3.03215887e-02,  -1.33379661e-02,\n",
       "        -6.94649527e-03,  -2.58343276e-02,  -1.44738164e-02,\n",
       "        -9.45401844e-03,  -1.07218195e-02,  -1.40389511e-02,\n",
       "        -1.24436859e-02,  -2.66218884e-03,  -2.19083249e-05,\n",
       "         1.72653832e-04,  -2.25346928e-04,  -1.18091726e-03,\n",
       "        -5.35253016e-03,   7.07400125e-03,  -9.43602435e-03,\n",
       "        -9.43304785e-03,   4.65140818e-03,  -3.26010846e-02,\n",
       "        -3.65254804e-02,  -1.50073515e-02,  -1.75131597e-02,\n",
       "        -9.17501654e-03,  -1.33152483e-02,  -2.77375989e-02,\n",
       "        -4.43017576e-03,  -5.51367924e-03,  -2.11630799e-02,\n",
       "        -1.72269326e-02,  -1.16075268e-02,  -9.58662666e-03,\n",
       "         1.83968077e-04,  -1.45408241e-02,  -1.05884047e-02,\n",
       "        -1.01522952e-02,  -1.14861559e-02,  -5.09696919e-03,\n",
       "        -4.19952965e-04,  -8.88337527e-05,   1.32461035e-04,\n",
       "        -2.54296348e-03,  -9.50471032e-03,   3.57833400e-04,\n",
       "        -4.95106587e-03,  -4.60120244e-03,  -2.95347814e-03,\n",
       "        -1.07367598e-02,  -1.50571892e-03,  -2.34269276e-02,\n",
       "        -1.66609231e-02,   8.29117897e-04,  -1.46430600e-02,\n",
       "        -1.89196821e-02,  -1.91153083e-02,  -4.31852862e-02,\n",
       "        -1.59347728e-02,  -2.01299191e-02,  -2.51580421e-02,\n",
       "        -1.56850042e-03,   1.83969038e-03,  -1.84149910e-02,\n",
       "        -1.34402439e-02,  -3.52011481e-03,  -7.54858740e-03,\n",
       "        -3.44347581e-03,  -1.91179788e-04,   0.00000000e+00,\n",
       "        -1.82101910e-04,  -5.37715107e-03,  -1.72776021e-02,\n",
       "        -8.18012282e-03,  -1.86564331e-03,  -8.38549435e-03,\n",
       "        -1.14277806e-02,  -1.37748048e-02,  -3.54764774e-03,\n",
       "        -3.88660692e-02,  -8.01587664e-03,   1.68817025e-02,\n",
       "        -1.23958122e-02,  -1.92371905e-02,  -1.65803246e-02,\n",
       "        -3.54853570e-02,  -2.86516324e-02,  -2.86534224e-02,\n",
       "        -3.07151768e-02,  -2.02166140e-02,  -4.74400027e-03,\n",
       "        -1.03217131e-02,  -9.84386727e-03,   5.54908626e-03,\n",
       "         1.67288422e-03,  -2.88109016e-03,  -3.24588327e-05,\n",
       "         3.20160849e-04,   4.16034251e-04,  -6.09779032e-03,\n",
       "        -2.06839629e-02,  -1.48045868e-02,  -3.65044433e-03,\n",
       "        -1.32159498e-02,  -1.70391425e-02,  -2.63232249e-03,\n",
       "         3.85494693e-03,  -2.00047400e-02,   4.87333816e-03,\n",
       "         4.79148887e-03,  -2.72849984e-02,  -1.81246512e-02,\n",
       "        -4.77776118e-03,  -7.07860989e-03,  -1.01286396e-02,\n",
       "        -1.53617840e-02,  -1.18541047e-02,  -1.59309786e-02,\n",
       "        -1.79753751e-02,  -1.05352355e-02,  -8.25793762e-03,\n",
       "         2.69648479e-03,   3.69663304e-03,  -1.20732829e-03,\n",
       "         4.22325320e-05,  -3.92471484e-05,  -1.28085288e-04,\n",
       "        -5.39512513e-03,  -1.40419919e-02,  -8.54413863e-03,\n",
       "        -1.07219117e-02,  -5.94761316e-03,  -1.00269755e-02,\n",
       "        -1.62479207e-02,  -1.19683398e-02,  -1.57146398e-02,\n",
       "        -2.14231070e-02,  -1.33321565e-02,  -1.80255752e-02,\n",
       "        -1.36938477e-02,  -2.18258705e-02,  -6.30059652e-03,\n",
       "        -5.68702258e-03,  -8.71858466e-03,  -6.54245354e-03,\n",
       "        -2.28186678e-02,  -2.03322731e-02,  -2.23545153e-02,\n",
       "        -2.00975444e-02,  -7.76395621e-03,  -2.91624409e-03,\n",
       "        -1.32522022e-03,   2.65178329e-04,   0.00000000e+00,\n",
       "        -3.95913376e-04,  -4.62321658e-03,  -3.65684251e-03,\n",
       "        -2.62056012e-03,  -1.76369604e-02,   4.29833221e-04,\n",
       "         2.21951166e-03,  -3.30887176e-02,  -2.02417169e-02,\n",
       "        -6.84299041e-04,  -3.35501209e-02,  -2.33685151e-02,\n",
       "        -1.69713832e-02,  -1.96263585e-02,  -3.05047110e-02,\n",
       "        -2.03037728e-02,  -3.41983438e-02,  -1.22255608e-02,\n",
       "        -1.47914505e-02,  -1.45434132e-02,  -8.30634218e-03,\n",
       "        -1.81414671e-02,  -1.59195159e-02,  -1.03322845e-02,\n",
       "        -4.94297966e-03,  -1.31951668e-03,   1.20691893e-05,\n",
       "         1.78307659e-04,   1.84501041e-05,  -5.53859118e-03,\n",
       "        -1.89680490e-03,   6.03854563e-03,  -1.63995475e-02,\n",
       "        -9.83395521e-03,   8.33415240e-03,  -1.59085933e-02,\n",
       "        -2.30533779e-02,   5.81085042e-04,  -1.19972099e-02,\n",
       "        -5.88600384e-03,  -6.88402122e-03,  -1.32450033e-02,\n",
       "        -1.73722003e-02,  -1.66920852e-02,  -2.49767825e-02,\n",
       "        -6.65272307e-03,  -1.22174304e-02,  -4.93437564e-03,\n",
       "        -2.24152231e-03,  -7.40490668e-03,  -6.26595179e-03,\n",
       "        -9.50477924e-03,  -3.41574079e-03,  -1.26268715e-03,\n",
       "         1.64581405e-04,   1.78407747e-04,  -3.32477095e-04,\n",
       "        -4.70971502e-03,  -4.85931290e-03,   8.03044625e-03,\n",
       "         5.72976796e-03,  -1.07295094e-02,  -1.02426959e-02,\n",
       "        -2.37602331e-02,  -3.11462302e-02,  -2.75872238e-02,\n",
       "        -2.55291685e-02,  -2.80070417e-02,  -1.70977730e-02,\n",
       "        -1.73154213e-02,  -5.87898679e-03,   2.69363984e-03,\n",
       "        -1.89817436e-02,  -9.66684148e-03,  -2.75973673e-03,\n",
       "        -7.81415869e-03,  -5.43324510e-03,  -7.67922914e-03,\n",
       "        -1.17186951e-02,  -1.10368952e-02,  -3.33626871e-03,\n",
       "        -5.68509160e-04,   1.64626079e-04,   0.00000000e+00,\n",
       "         0.00000000e+00,  -3.06328689e-03,  -9.33003053e-03,\n",
       "        -1.12270722e-02,  -6.86224969e-03,  -5.48678590e-03,\n",
       "        -1.40867401e-02,  -1.56721547e-02,  -3.75744101e-04,\n",
       "         3.81583278e-03,   9.32111591e-03,  -3.19281109e-02,\n",
       "        -3.81048061e-02,  -3.31732482e-02,  -2.12607700e-02,\n",
       "        -7.25005241e-03,  -2.63573546e-02,  -1.96254384e-02,\n",
       "        -1.42678022e-02,  -1.49533963e-02,  -1.18595902e-02,\n",
       "        -1.79902576e-02,  -1.89747382e-02,  -1.11853033e-02,\n",
       "        -1.72935938e-03,   2.90493568e-04,   0.00000000e+00,\n",
       "         0.00000000e+00,   0.00000000e+00,  -1.53442996e-03,\n",
       "        -7.89314602e-03,  -1.90927330e-02,  -2.52654105e-02,\n",
       "        -2.01456789e-02,  -1.17219342e-02,  -1.06189977e-02,\n",
       "        -6.97303750e-03,   8.01551901e-03,   1.42060183e-02,\n",
       "         7.30699045e-04,  -6.30782964e-03,  -1.71105526e-02,\n",
       "        -1.20116491e-02,  -8.16106424e-03,  -1.91472117e-02,\n",
       "        -1.98878124e-02,  -1.69052072e-02,  -1.32938903e-02,\n",
       "        -1.56686958e-02,  -1.70441307e-02,  -1.25484448e-02,\n",
       "        -6.68330211e-03,  -8.13581049e-04,   2.03654097e-04,\n",
       "         0.00000000e+00,   0.00000000e+00,   0.00000000e+00,\n",
       "        -6.17512123e-05,  -1.35380286e-03,  -8.14875029e-03,\n",
       "        -1.29549019e-02,  -1.21373795e-02,  -4.33713058e-03,\n",
       "        -9.62104555e-03,  -1.62187889e-02,  -1.73014514e-02,\n",
       "        -1.63144451e-02,  -3.69366980e-03,   3.79140838e-03,\n",
       "        -1.15555562e-02,  -6.98957266e-03,   1.62213226e-03,\n",
       "        -1.69310009e-03,  -8.63981247e-03,  -7.98904244e-03,\n",
       "        -8.25843401e-03,  -8.88369139e-03,  -8.19013733e-03,\n",
       "        -5.42285526e-03,  -1.89498859e-03,  -4.96914145e-05,\n",
       "        -1.89312734e-04,   0.00000000e+00,   0.00000000e+00,\n",
       "         0.00000000e+00,   0.00000000e+00,   0.00000000e+00,\n",
       "        -1.35217444e-03,  -1.27827015e-03,  -5.91385528e-04,\n",
       "         2.24235322e-04,  -2.87667336e-03,  -5.74764470e-03,\n",
       "        -5.72155649e-03,   1.56967994e-03,   4.99101682e-03,\n",
       "        -3.72335664e-03,  -1.31941633e-02,  -1.24869505e-02,\n",
       "        -8.07563774e-03,  -1.23209143e-02,  -1.01200445e-02,\n",
       "        -4.45853919e-03,  -3.67893884e-03,  -3.54259205e-03,\n",
       "        -2.38511525e-03,  -1.55081052e-05,   2.35188563e-04,\n",
       "         6.38289785e-05,   0.00000000e+00,   0.00000000e+00,\n",
       "         0.00000000e+00,   0.00000000e+00,   0.00000000e+00,\n",
       "         0.00000000e+00,  -2.31258367e-04,  -3.63307481e-04,\n",
       "        -4.92234249e-04,  -2.01275619e-03,  -2.95992172e-03,\n",
       "        -2.55120290e-03,  -3.03453533e-03,  -6.34346157e-03,\n",
       "        -9.39602125e-03,  -1.36259068e-02,  -1.37781296e-02,\n",
       "        -7.88821373e-03,  -3.70797771e-03,  -2.83652451e-03,\n",
       "        -2.21918663e-03,  -1.14921934e-03,  -1.35004509e-03,\n",
       "        -1.81122829e-04,  -2.83178029e-04,  -1.54550260e-04,\n",
       "         0.00000000e+00,   0.00000000e+00,   0.00000000e+00,\n",
       "         0.00000000e+00], dtype=float32)"
      ]
     },
     "execution_count": 17,
     "metadata": {},
     "output_type": "execute_result"
    }
   ],
   "source": [
    "decoder_bias"
   ]
  },
  {
   "cell_type": "code",
   "execution_count": 18,
   "metadata": {},
   "outputs": [
    {
     "data": {
      "text/plain": [
       "(200,)"
      ]
     },
     "execution_count": 18,
     "metadata": {},
     "output_type": "execute_result"
    }
   ],
   "source": [
    "encoder_bias.shape"
   ]
  },
  {
   "cell_type": "code",
   "execution_count": 19,
   "metadata": {},
   "outputs": [
    {
     "data": {
      "text/plain": [
       "(784,)"
      ]
     },
     "execution_count": 19,
     "metadata": {},
     "output_type": "execute_result"
    }
   ],
   "source": [
    "decoder_bias.shape"
   ]
  },
  {
   "cell_type": "code",
   "execution_count": null,
   "metadata": {
    "collapsed": true
   },
   "outputs": [],
   "source": []
  }
 ],
 "metadata": {
  "kernelspec": {
   "display_name": "Python 3",
   "language": "python",
   "name": "python3"
  },
  "language_info": {
   "codemirror_mode": {
    "name": "ipython",
    "version": 3
   },
   "file_extension": ".py",
   "mimetype": "text/x-python",
   "name": "python",
   "nbconvert_exporter": "python",
   "pygments_lexer": "ipython3",
   "version": "3.6.1"
  }
 },
 "nbformat": 4,
 "nbformat_minor": 2
}
