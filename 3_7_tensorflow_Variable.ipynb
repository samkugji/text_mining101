{
 "cells": [
  {
   "cell_type": "code",
   "execution_count": 1,
   "metadata": {
    "collapsed": true
   },
   "outputs": [],
   "source": [
    "import tensorflow as tf"
   ]
  },
  {
   "cell_type": "markdown",
   "metadata": {},
   "source": [
    "## 1. tf.Variable VS tf.get_variable\n",
    "\n",
    "[StackOverFlow: Difference between Variable and get_variable in TensorFlow](http://stackoverflow.com/questions/37098546/difference-between-variable-and-get-variable-in-tensorflow)\n",
    "> tf.Variable is a class.\n",
    "\n",
    "> There are several ways to create tf.Variable including \n",
    "> - tf.Variable.__init__\n",
    "> - tf.get_variable.\n",
    "\n",
    "[TensorFlow API_guide: Variable](https://www.tensorflow.org/api_guides/python/state_ops)\n",
    "- Class definitions and related functions for **tf.Variable** are introduced."
   ]
  },
  {
   "cell_type": "markdown",
   "metadata": {},
   "source": [
    "### 1.1. tf.Variable\n",
    "> - tf.Variable.__init__: Creates a new variable with *initial_value*.\n",
    "> - [TensorFlow API document: tf.Variable](https://www.tensorflow.org/api_docs/python/tf/Variable)"
   ]
  },
  {
   "cell_type": "code",
   "execution_count": 2,
   "metadata": {},
   "outputs": [],
   "source": [
    "w_1 = tf.Variable(initial_value=tf.truncated_normal(\n",
    "    shape=[4,4], mean=0.0, stddev=0.1), name=\"testVariable\")"
   ]
  },
  {
   "cell_type": "code",
   "execution_count": 3,
   "metadata": {},
   "outputs": [
    {
     "name": "stdout",
     "output_type": "stream",
     "text": [
      "<tf.Variable 'testVariable:0' shape=(4, 4) dtype=float32_ref>\n"
     ]
    }
   ],
   "source": [
    "print(w_1)"
   ]
  },
  {
   "cell_type": "code",
   "execution_count": 4,
   "metadata": {
    "collapsed": true
   },
   "outputs": [],
   "source": [
    "w_1 = tf.Variable(initial_value=tf.truncated_normal(\n",
    "    shape=[4,4], mean=0.0, stddev=0.1), name=\"testVariable\")"
   ]
  },
  {
   "cell_type": "code",
   "execution_count": 5,
   "metadata": {},
   "outputs": [
    {
     "name": "stdout",
     "output_type": "stream",
     "text": [
      "<tf.Variable 'testVariable_1:0' shape=(4, 4) dtype=float32_ref>\n"
     ]
    }
   ],
   "source": [
    "print(w_1)"
   ]
  },
  {
   "cell_type": "markdown",
   "metadata": {},
   "source": [
    "### 1.2. tf.get_variable\n",
    "> - tf.get_variable: Gets an existing variable with these parameters or create a new one.\n",
    "> - [TensorFlow API document: tf.get_variable](https://www.tensorflow.org/api_docs/python/tf/get_variable)"
   ]
  },
  {
   "cell_type": "code",
   "execution_count": 6,
   "metadata": {
    "collapsed": true
   },
   "outputs": [],
   "source": [
    "w_2 = tf.get_variable(name=\"testGetBar\", shape=[4,5],\n",
    "                     initializer=tf.truncated_normal_initializer(mean=0.0, stddev=0.1))"
   ]
  },
  {
   "cell_type": "code",
   "execution_count": 7,
   "metadata": {},
   "outputs": [
    {
     "name": "stdout",
     "output_type": "stream",
     "text": [
      "<tf.Variable 'testGetBar:0' shape=(4, 5) dtype=float32_ref>\n"
     ]
    }
   ],
   "source": [
    "print(w_2)"
   ]
  },
  {
   "cell_type": "code",
   "execution_count": 8,
   "metadata": {},
   "outputs": [],
   "source": [
    "# ## You can see ValueError...\n",
    "# # \"ValueError: Variable testGetVar already exists, disallowed.\"\n",
    "# w_2 = tf.get_variable(name=\"testGetBar\", shape=[4,5],\n",
    "#                      initializer=tf.truncated_normal_initializer(mean=0.0, stddev=0.1))"
   ]
  },
  {
   "cell_type": "markdown",
   "metadata": {},
   "source": [
    "Why does that error appear?\n",
    "- Because tf.Variable named \"testGetVar\" already exists.\n",
    "- You should define variable scope and do setting reuse_variables(). (See the below!)\n",
    "- See [TensorFlow Programming Guide: Sharing Variables](https://www.tensorflow.org/programmers_guide/variable_scope)"
   ]
  },
  {
   "cell_type": "code",
   "execution_count": 9,
   "metadata": {},
   "outputs": [],
   "source": [
    "with tf.variable_scope(\"foo\") as scope:\n",
    "    w_3 = tf.get_variable(\"testGetVar2\", shape=[4,4],\n",
    "                          initializer=tf.truncated_normal_initializer(mean=0.0, stddev=0.1))\n",
    "    scope.reuse_variables()\n",
    "    w_4 = tf.get_variable(\"testGetVar2\", shape=[4,4],\n",
    "                          initializer=tf.truncated_normal_initializer(mean=1.0, stddev=0.5))\n",
    "assert w_4 is w_3"
   ]
  },
  {
   "cell_type": "code",
   "execution_count": 10,
   "metadata": {},
   "outputs": [
    {
     "name": "stdout",
     "output_type": "stream",
     "text": [
      "<tf.Variable 'foo/testGetVar2:0' shape=(4, 4) dtype=float32_ref>\n",
      "<tf.Variable 'foo/testGetVar2:0' shape=(4, 4) dtype=float32_ref>\n"
     ]
    }
   ],
   "source": [
    "print(w_3)\n",
    "print(w_4)"
   ]
  },
  {
   "cell_type": "markdown",
   "metadata": {},
   "source": [
    "##### Anyway, Many researchers (and I) **STRONGLY RECOMMEND** to use *tf.get_variable* instead of *tf.Variable*!"
   ]
  },
  {
   "cell_type": "markdown",
   "metadata": {},
   "source": [
    "## 2. Variable scope"
   ]
  },
  {
   "cell_type": "code",
   "execution_count": 11,
   "metadata": {
    "collapsed": true
   },
   "outputs": [],
   "source": [
    "with tf.variable_scope(\"Global\"):\n",
    "    t_1 = tf.get_variable(\"T1\", [2,2])\n",
    "    with tf.variable_scope(\"Asia\"):\n",
    "        t_2 = tf.get_variable(\"T2\", [1])\n",
    "        t_3 = tf.get_variable(\"T3\", [1, 2])\n",
    "        with tf.variable_scope(\"Korea\"):\n",
    "            t_4 = tf.get_variable(\"T4\", [1,2,2])\n",
    "            t_5 = tf.get_variable(\"T5\", [2,2,2,2])"
   ]
  },
  {
   "cell_type": "code",
   "execution_count": 12,
   "metadata": {},
   "outputs": [
    {
     "name": "stdout",
     "output_type": "stream",
     "text": [
      "<tf.Variable 'Global/T1:0' shape=(2, 2) dtype=float32_ref>\n"
     ]
    }
   ],
   "source": [
    "print(t_1)"
   ]
  },
  {
   "cell_type": "code",
   "execution_count": 13,
   "metadata": {},
   "outputs": [
    {
     "name": "stdout",
     "output_type": "stream",
     "text": [
      "Global/T1:0\n",
      "Global/Asia/T2:0\n",
      "Global/Asia/T3:0\n",
      "Global/Asia/Korea/T4:0\n",
      "Global/Asia/Korea/T5:0\n"
     ]
    }
   ],
   "source": [
    "print(t_1.name)\n",
    "print(t_2.name)\n",
    "print(t_3.name)\n",
    "print(t_4.name)\n",
    "print(t_5.name)"
   ]
  },
  {
   "cell_type": "markdown",
   "metadata": {},
   "source": [
    "- Note: [StackOverFlow: difference-of-name-scope-and-a-variable-scope-in-tensorflow](http://stackoverflow.com/questions/35919020/whats-the-difference-of-name-scope-and-a-variable-scope-in-tensorflow)"
   ]
  },
  {
   "cell_type": "code",
   "execution_count": 14,
   "metadata": {},
   "outputs": [],
   "source": [
    "with tf.name_scope(\"my_scope\"):\n",
    "    v1 = tf.get_variable(\"var1\", [1], dtype=tf.float32)\n",
    "    v2 = tf.Variable(1, name=\"var2\", dtype=tf.float32)\n",
    "    a = tf.add(v1, v2)"
   ]
  },
  {
   "cell_type": "code",
   "execution_count": 15,
   "metadata": {},
   "outputs": [
    {
     "name": "stdout",
     "output_type": "stream",
     "text": [
      "var1:0\n",
      "my_scope/var2:0\n",
      "my_scope/Add:0\n"
     ]
    }
   ],
   "source": [
    "print(v1.name)\n",
    "print(v2.name)\n",
    "print(a.name)"
   ]
  },
  {
   "cell_type": "code",
   "execution_count": 16,
   "metadata": {
    "collapsed": true
   },
   "outputs": [],
   "source": [
    "with tf.variable_scope(\"my_scope\"):\n",
    "    v1 = tf.get_variable(\"var1\", [1], dtype=tf.float32)\n",
    "    v2 = tf.Variable(1, name=\"var2\", dtype=tf.float32)\n",
    "    a = tf.add(v1, v2)"
   ]
  },
  {
   "cell_type": "code",
   "execution_count": 17,
   "metadata": {},
   "outputs": [
    {
     "name": "stdout",
     "output_type": "stream",
     "text": [
      "my_scope/var1:0\n",
      "my_scope_1/var2:0\n",
      "my_scope_1/Add:0\n"
     ]
    }
   ],
   "source": [
    "print(v1.name)\n",
    "print(v2.name)\n",
    "print(a.name)"
   ]
  }
 ],
 "metadata": {
  "kernelspec": {
   "display_name": "Python 3",
   "language": "python",
   "name": "python3"
  },
  "language_info": {
   "codemirror_mode": {
    "name": "ipython",
    "version": 3
   },
   "file_extension": ".py",
   "mimetype": "text/x-python",
   "name": "python",
   "nbconvert_exporter": "python",
   "pygments_lexer": "ipython3",
   "version": "3.5.0"
  }
 },
 "nbformat": 4,
 "nbformat_minor": 2
}
