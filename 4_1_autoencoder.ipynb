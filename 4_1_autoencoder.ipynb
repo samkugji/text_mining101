{
 "cells": [
  {
   "cell_type": "markdown",
   "metadata": {},
   "source": [
    "# Autoencoder"
   ]
  },
  {
   "cell_type": "code",
   "execution_count": 1,
   "metadata": {},
   "outputs": [],
   "source": [
    "import tensorflow as tf\n",
    "import numpy as np\n",
    "import sklearn.preprocessing as prep\n",
    "import matplotlib.pyplot as plt\n",
    "%matplotlib inline"
   ]
  },
  {
   "cell_type": "markdown",
   "metadata": {},
   "source": [
    "## Setting"
   ]
  },
  {
   "cell_type": "code",
   "execution_count": 2,
   "metadata": {
    "collapsed": true
   },
   "outputs": [],
   "source": [
    "# Parameters\n",
    "transfer_function = tf.nn.sigmoid # tf.nn.relu, tf.nn.softplus, tf.nn.sigmoid, tf.nn.tanh\n",
    "dropout_probability = 0.9\n",
    "training_epochs = 10\n",
    "batch_size = 128\n",
    "display_step = 1"
   ]
  },
  {
   "cell_type": "markdown",
   "metadata": {},
   "source": [
    "## data set"
   ]
  },
  {
   "cell_type": "code",
   "execution_count": 3,
   "metadata": {},
   "outputs": [
    {
     "name": "stdout",
     "output_type": "stream",
     "text": [
      "Extracting MNIST_data/train-images-idx3-ubyte.gz\n",
      "Extracting MNIST_data/train-labels-idx1-ubyte.gz\n",
      "Extracting MNIST_data/t10k-images-idx3-ubyte.gz\n",
      "Extracting MNIST_data/t10k-labels-idx1-ubyte.gz\n"
     ]
    }
   ],
   "source": [
    "# Check out https://www.tensorflow.org/get_started/mnist/beginners for\n",
    "# more information about the mnist dataset\n",
    "\n",
    "from tensorflow.examples.tutorials.mnist import input_data\n",
    "mnist = input_data.read_data_sets(\"MNIST_data/\", one_hot=True)\n",
    "X_train, X_test = mnist.train.images, mnist.test.images\n",
    "n_samples = int(mnist.train.num_examples)"
   ]
  },
  {
   "cell_type": "markdown",
   "metadata": {},
   "source": [
    "## Help functions"
   ]
  },
  {
   "cell_type": "code",
   "execution_count": 4,
   "metadata": {
    "collapsed": true
   },
   "outputs": [],
   "source": [
    "def standard_scale(X_train, X_test):\n",
    "    preprocessor = prep.StandardScaler().fit(X_train)\n",
    "    X_train = preprocessor.transform(X_train)\n",
    "    X_test = preprocessor.transform(X_test)\n",
    "    \n",
    "    return X_train, X_test"
   ]
  },
  {
   "cell_type": "code",
   "execution_count": 5,
   "metadata": {
    "collapsed": true
   },
   "outputs": [],
   "source": [
    "def inverse_transform(X_train_original, X_processed):\n",
    "    preprocessor = prep.StandardScaler().fit(X_train_original)\n",
    "    X = preprocessor.inverse_transform(X_processed)\n",
    "    \n",
    "    return X"
   ]
  },
  {
   "cell_type": "code",
   "execution_count": 6,
   "metadata": {
    "collapsed": true
   },
   "outputs": [],
   "source": [
    "def get_random_block_from_data(data, batch_size):\n",
    "    start_index = np.random.randint(0, len(data) - batch_size)\n",
    "    \n",
    "    return data[start_index:(start_index + batch_size)]"
   ]
  },
  {
   "cell_type": "markdown",
   "metadata": {},
   "source": [
    "## autoencoder model"
   ]
  },
  {
   "cell_type": "code",
   "execution_count": 7,
   "metadata": {
    "collapsed": true
   },
   "outputs": [],
   "source": [
    "class Autoencoder(object):\n",
    "\n",
    "    def __init__(self, n_input, n_hidden, transfer_function=tf.nn.softplus, optimizer = tf.train.AdamOptimizer()):\n",
    "        self.n_input = n_input\n",
    "        self.n_hidden = n_hidden\n",
    "        self.transfer = transfer_function\n",
    "\n",
    "        network_weights = self._initialize_weights()\n",
    "        self.weights = network_weights\n",
    "\n",
    "        # model\n",
    "        self.x = tf.placeholder(tf.float32, [None, self.n_input])\n",
    "        self.hidden = self.transfer(tf.add(tf.matmul(self.x, self.weights['w1']), self.weights['b1']))\n",
    "        self.reconstruction = tf.add(tf.matmul(self.hidden, self.weights['w2']), self.weights['b2'])\n",
    "\n",
    "        # cost\n",
    "        self.cost = 0.5 * tf.reduce_sum(tf.pow(tf.subtract(self.reconstruction, self.x), 2.0))\n",
    "        self.optimizer = optimizer.minimize(self.cost)\n",
    "\n",
    "        init = tf.global_variables_initializer()\n",
    "        self.sess = tf.Session()\n",
    "        self.sess.run(init)\n",
    "\n",
    "\n",
    "    def _initialize_weights(self):\n",
    "        all_weights = dict()\n",
    "        all_weights['w1'] = tf.get_variable(\"w1\", shape=[self.n_input, self.n_hidden],\n",
    "            initializer=tf.contrib.layers.xavier_initializer())\n",
    "        all_weights['b1'] = tf.Variable(tf.zeros([self.n_hidden], dtype=tf.float32))\n",
    "        all_weights['w2'] = tf.Variable(tf.zeros([self.n_hidden, self.n_input], dtype=tf.float32))\n",
    "        all_weights['b2'] = tf.Variable(tf.zeros([self.n_input], dtype=tf.float32))\n",
    "        return all_weights\n",
    "\n",
    "    def partial_fit(self, X):\n",
    "        cost, opt = self.sess.run((self.cost, self.optimizer), feed_dict={self.x: X})\n",
    "        return cost\n",
    "\n",
    "    def calc_total_cost(self, X):\n",
    "        return self.sess.run(self.cost, feed_dict = {self.x: X})\n",
    "\n",
    "    def transform(self, X):\n",
    "        return self.sess.run(self.hidden, feed_dict={self.x: X})\n",
    "\n",
    "    def generate(self, hidden = None):\n",
    "        if hidden is None:\n",
    "            hidden = self.sess.run(tf.random_normal([1, self.n_hidden]))\n",
    "        return self.sess.run(self.reconstruction, feed_dict={self.hidden: hidden})\n",
    "\n",
    "    def reconstruct(self, X):\n",
    "        return self.sess.run(self.reconstruction, feed_dict={self.x: X})\n",
    "\n",
    "    def getWeights(self):\n",
    "        return self.sess.run(self.weights['w1'])\n",
    "\n",
    "    def getBiases(self):\n",
    "        return self.sess.run(self.weights['b1'])"
   ]
  },
  {
   "cell_type": "code",
   "execution_count": 8,
   "metadata": {},
   "outputs": [],
   "source": [
    "autoencoder = Autoencoder(n_input=784,\n",
    "                          n_hidden=200,\n",
    "                          transfer_function=transfer_function,\n",
    "                          optimizer=tf.train.AdamOptimizer(learning_rate = 0.001)\n",
    "                         )"
   ]
  },
  {
   "cell_type": "code",
   "execution_count": 9,
   "metadata": {},
   "outputs": [
    {
     "name": "stdout",
     "output_type": "stream",
     "text": [
      "Epoch: 0001 cost= 1771.175496875\n",
      "Epoch: 0002 cost= 687.547584091\n",
      "Epoch: 0003 cost= 456.295976776\n",
      "Epoch: 0004 cost= 350.171713494\n",
      "Epoch: 0005 cost= 287.485226172\n",
      "Epoch: 0006 cost= 248.472731357\n",
      "Epoch: 0007 cost= 221.128024361\n",
      "Epoch: 0008 cost= 199.544238281\n",
      "Epoch: 0009 cost= 184.276023793\n",
      "Epoch: 0010 cost= 171.983789950\n",
      "Total cost: 12961.6\n"
     ]
    }
   ],
   "source": [
    "for epoch in range(training_epochs):\n",
    "    avg_cost = 0.\n",
    "    total_batch = int(n_samples / batch_size)\n",
    "    # Loop over all batches\n",
    "    for i in range(total_batch):\n",
    "        batch_xs = get_random_block_from_data(X_train, batch_size)\n",
    "\n",
    "        # Fit training using batch data\n",
    "        cost = autoencoder.partial_fit(batch_xs)\n",
    "        # Compute average loss\n",
    "        avg_cost += cost / n_samples * batch_size\n",
    "\n",
    "    # Display logs per epoch step\n",
    "    if epoch % display_step == 0:\n",
    "        print(\"Epoch:\", '%04d' % (epoch + 1), \"cost=\", \"{:.9f}\".format(avg_cost))\n",
    "\n",
    "print(\"Total cost: \" + str(autoencoder.calc_total_cost(X_test)))"
   ]
  },
  {
   "cell_type": "code",
   "execution_count": 11,
   "metadata": {},
   "outputs": [
    {
     "name": "stderr",
     "output_type": "stream",
     "text": [
      "/home/ubuntu/tf_py3.6/lib/python3.6/site-packages/matplotlib/figure.py:402: UserWarning: matplotlib is currently using a non-GUI backend, so cannot show the figure\n",
      "  \"matplotlib is currently using a non-GUI backend, \"\n"
     ]
    },
    {
     "data": {
      "image/png": "[encoded data removed]",
      "text/plain": [
       "<matplotlib.figure.Figure at 0x7ff549e9c898>"
      ]
     },
     "metadata": {},
     "output_type": "display_data"
    }
   ],
   "source": [
    "examples_to_show = 10\n",
    "start_img = 0\n",
    "idx = range(start_img, start_img + examples_to_show)\n",
    "X_test_original = mnist.test.images\n",
    "func_name = str(autoencoder.transfer).split(' ')[1]\n",
    "suptitle_name = '[Autoencoder] Transfer_function: %s' % (func_name)\n",
    "\n",
    "reconstructed_images = autoencoder.reconstruct(X_test[idx, :])\n",
    "f, a = plt.subplots(2, examples_to_show, figsize=(15, 5))\n",
    "for i in range(start_img, examples_to_show):\n",
    "    a[0][i].imshow(np.reshape(X_test_original[i, :], (28, 28)), cmap=plt.get_cmap('gray'))\n",
    "    a[1][i].imshow(np.reshape(reconstructed_images[i, :], (28, 28)), cmap=plt.get_cmap('gray'))\n",
    "plt.suptitle(suptitle_name)\n",
    "f.show()\n",
    "# f.savefig('figures/testImage_%s_dropout_%.3f.png' % (func_name, autoencoder.dropout_probability))"
   ]
  },
  {
   "cell_type": "code",
   "execution_count": 12,
   "metadata": {},
   "outputs": [
    {
     "data": {
      "text/plain": [
       "{'b1': <tensorflow.python.ops.variables.Variable at 0x7ff54e5c03c8>,\n",
       " 'b2': <tensorflow.python.ops.variables.Variable at 0x7ff59c7831d0>,\n",
       " 'w1': <tensorflow.python.ops.variables.Variable at 0x7ff54e5c05f8>,\n",
       " 'w2': <tensorflow.python.ops.variables.Variable at 0x7ff549f0a160>}"
      ]
     },
     "execution_count": 12,
     "metadata": {},
     "output_type": "execute_result"
    }
   ],
   "source": [
    "autoencoder.weights"
   ]
  },
  {
   "cell_type": "code",
   "execution_count": 13,
   "metadata": {
    "collapsed": true
   },
   "outputs": [],
   "source": [
    "encoder_weight = autoencoder.sess.run(autoencoder.weights['w1'])\n",
    "decoder_weight = autoencoder.sess.run(autoencoder.weights['w2'])"
   ]
  },
  {
   "cell_type": "code",
   "execution_count": 14,
   "metadata": {},
   "outputs": [
    {
     "data": {
      "text/plain": [
       "array([ 0.00038962,  0.00833354,  0.07803845,  0.02058135, -0.06274301,\n",
       "       -0.02263983, -0.04038927,  0.05396989, -0.0325094 , -0.05604301,\n",
       "       -0.05389865,  0.04821528, -0.02736764,  0.00769231, -0.0625421 ,\n",
       "       -0.01746404,  0.06032549,  0.02362495,  0.03446253,  0.01339041,\n",
       "       -0.02663083, -0.05635141, -0.02583317, -0.05959602,  0.00900278,\n",
       "       -0.04437819,  0.03537195, -0.04944295,  0.06170714, -0.0779857 ,\n",
       "        0.06221895,  0.01582841, -0.05705753,  0.05109403,  0.06891301,\n",
       "        0.02633356,  0.01664858,  0.04724811,  0.06946763,  0.05181126,\n",
       "       -0.00617614, -0.01922395,  0.02095261, -0.05835959, -0.04138216,\n",
       "        0.01493468,  0.01198877,  0.0394756 , -0.07004599,  0.02432837,\n",
       "       -0.0322751 ,  0.00714447, -0.0200746 , -0.0015616 ,  0.0243509 ,\n",
       "        0.06269006,  0.01531474,  0.0772572 , -0.04108711, -0.03081313,\n",
       "        0.04448771, -0.04189953, -0.04077968,  0.03849711,  0.05611247,\n",
       "       -0.00464466,  0.02552292, -0.02803842,  0.03864868,  0.02182686,\n",
       "       -0.0172299 , -0.0589104 , -0.02341789,  0.0734154 ,  0.04885346,\n",
       "        0.05335715,  0.00568181, -0.00153193, -0.00356947,  0.06302392,\n",
       "       -0.01061413, -0.02235577,  0.05402271,  0.03072718, -0.00802481,\n",
       "        0.05935164,  0.07589862, -0.05449788,  0.054921  , -0.00526186,\n",
       "        0.01707613,  0.02226105,  0.00790979, -0.06500867, -0.01388811,\n",
       "       -0.02867359, -0.06133055, -0.01322091, -0.04953405,  0.00175491,\n",
       "        0.01758052,  0.0172593 , -0.06575762, -0.01081634,  0.02534253,\n",
       "        0.06501937, -0.06653917,  0.03605507,  0.06018472, -0.00864907,\n",
       "       -0.01577825, -0.02727959,  0.01532777, -0.07413822, -0.07387727,\n",
       "       -0.01849483,  0.068195  ,  0.03541831,  0.02322838,  0.00557631,\n",
       "        0.00144238,  0.011314  , -0.05676017, -0.04363674, -0.03238775,\n",
       "       -0.03260325,  0.0104136 ,  0.06403646, -0.0251542 , -0.03319399,\n",
       "        0.04671445,  0.07224008,  0.07594697, -0.07692952, -0.03012392,\n",
       "       -0.01112883, -0.02805601, -0.07542851, -0.06639041,  0.02098622,\n",
       "       -0.01526684, -0.03396196, -0.04873171, -0.03298427, -0.07001422,\n",
       "        0.01771319,  0.06139837,  0.04375993,  0.0338826 ,  0.04005007,\n",
       "        0.05923645, -0.05307602,  0.05316387, -0.07130461,  0.0022936 ,\n",
       "        0.02791348, -0.0409479 , -0.01850704,  0.03312694, -0.05887067,\n",
       "       -0.0461687 ,  0.05460772,  0.02339173, -0.04431251,  0.05510706,\n",
       "        0.0535536 ,  0.06646663, -0.04909192,  0.04062869,  0.02650993,\n",
       "        0.06545615,  0.07756706,  0.02526078, -0.02773019, -0.01648648,\n",
       "       -0.02029866, -0.00953017,  0.06234385,  0.0766971 , -0.00370396,\n",
       "       -0.0347327 , -0.02066738,  0.0312013 ,  0.03035373,  0.06132112,\n",
       "       -0.06042239, -0.07148112,  0.00083175,  0.01639752, -0.06169979,\n",
       "        0.01985186,  0.07181202,  0.03006855, -0.01759518,  0.02659185,\n",
       "        0.0399596 ,  0.05506715, -0.05431648, -0.01814841, -0.06672938], dtype=float32)"
      ]
     },
     "execution_count": 14,
     "metadata": {},
     "output_type": "execute_result"
    }
   ],
   "source": [
    "encoder_weight[0, :]"
   ]
  },
  {
   "cell_type": "code",
   "execution_count": 15,
   "metadata": {},
   "outputs": [
    {
     "data": {
      "text/plain": [
       "array([ 0.,  0.,  0.,  0.,  0.,  0.,  0.,  0.,  0.,  0.,  0.,  0.,  0.,\n",
       "        0.,  0.,  0.,  0.,  0.,  0.,  0.,  0.,  0.,  0.,  0.,  0.,  0.,\n",
       "        0.,  0.,  0.,  0.,  0.,  0.,  0.,  0.,  0.,  0.,  0.,  0.,  0.,\n",
       "        0.,  0.,  0.,  0.,  0.,  0.,  0.,  0.,  0.,  0.,  0.,  0.,  0.,\n",
       "        0.,  0.,  0.,  0.,  0.,  0.,  0.,  0.,  0.,  0.,  0.,  0.,  0.,\n",
       "        0.,  0.,  0.,  0.,  0.,  0.,  0.,  0.,  0.,  0.,  0.,  0.,  0.,\n",
       "        0.,  0.,  0.,  0.,  0.,  0.,  0.,  0.,  0.,  0.,  0.,  0.,  0.,\n",
       "        0.,  0.,  0.,  0.,  0.,  0.,  0.,  0.,  0.,  0.,  0.,  0.,  0.,\n",
       "        0.,  0.,  0.,  0.,  0.,  0.,  0.,  0.,  0.,  0.,  0.,  0.,  0.,\n",
       "        0.,  0.,  0.,  0.,  0.,  0.,  0.,  0.,  0.,  0.,  0.,  0.,  0.,\n",
       "        0.,  0.,  0.,  0.,  0.,  0.,  0.,  0.,  0.,  0.,  0.,  0.,  0.,\n",
       "        0.,  0.,  0.,  0.,  0.,  0.,  0.,  0.,  0.,  0.,  0.,  0.,  0.,\n",
       "        0.,  0.,  0.,  0.,  0.,  0.,  0.,  0.,  0.,  0.,  0.,  0.,  0.,\n",
       "        0.,  0.,  0.,  0.,  0.,  0.,  0.,  0.,  0.,  0.,  0.,  0.,  0.,\n",
       "        0.,  0.,  0.,  0.,  0.,  0.,  0.,  0.,  0.,  0.,  0.,  0.,  0.,\n",
       "        0.,  0.,  0.,  0.,  0.], dtype=float32)"
      ]
     },
     "execution_count": 15,
     "metadata": {},
     "output_type": "execute_result"
    }
   ],
   "source": [
    "decoder_weight[:, 0]"
   ]
  },
  {
   "cell_type": "code",
   "execution_count": 16,
   "metadata": {
    "collapsed": true
   },
   "outputs": [],
   "source": [
    "encoder_bias = autoencoder.sess.run(autoencoder.weights['b1'])\n",
    "decoder_bias = autoencoder.sess.run(autoencoder.weights['b2'])"
   ]
  },
  {
   "cell_type": "code",
   "execution_count": 17,
   "metadata": {},
   "outputs": [
    {
     "data": {
      "text/plain": [
       "array([-0.13357101, -0.23961769, -0.48234138, -0.43509299, -0.51697659,\n",
       "       -0.05140929, -0.11568417, -0.06295555, -0.16384991, -0.39208955,\n",
       "        0.06382751,  0.06141694,  0.46796462,  0.15397143,  0.06387828,\n",
       "        0.51919895, -0.27493358, -0.46910146, -0.23290406,  0.08477611,\n",
       "        0.14788984,  0.40778804, -0.2673122 ,  0.25719944,  0.14117359,\n",
       "       -0.08750495, -0.4039501 , -0.39751765, -0.30855101,  0.52552629,\n",
       "        0.25393236, -0.23058972, -0.47911578, -0.05143639, -0.04918427,\n",
       "       -0.16456769, -0.49790424, -0.06158284,  0.27264601, -0.46693125,\n",
       "       -0.28908753, -0.35240915, -0.42391667, -0.47561705, -0.31088313,\n",
       "       -0.20509624, -0.48057541,  0.06755415, -0.34364864, -0.22037566,\n",
       "       -0.05472723, -0.4755809 ,  0.13372387,  0.39601818,  0.28661475,\n",
       "        0.16053206,  0.11242924, -0.25161603,  0.37863401, -0.468337  ,\n",
       "       -0.29796827,  0.41309938, -0.4514066 ,  0.17449252, -0.35115242,\n",
       "       -0.08947695, -0.48337504,  0.44911063,  0.13543986, -0.08240879,\n",
       "       -0.35343724, -0.27533579,  0.57013088,  0.40753222, -0.41305962,\n",
       "       -0.20587832, -0.47654554,  0.44653949,  0.2037133 , -0.02708049,\n",
       "        0.33830377,  0.49069166,  0.41095445, -0.44053626, -0.11333138,\n",
       "       -0.48204508, -0.48439068, -0.04753034,  0.27324957, -0.5158509 ,\n",
       "       -0.45892325, -0.00665928, -0.37991634, -0.37270689, -0.26122823,\n",
       "       -0.44536692,  0.18310058, -0.35176304,  0.00681692, -0.15644054,\n",
       "       -0.47807583,  0.34072182, -0.45540023, -0.00230455,  0.31715867,\n",
       "        0.31541973, -0.32136497, -0.40771115,  0.20577401,  0.53205407,\n",
       "        0.37563077,  0.45628095, -0.26983446, -0.46012324, -0.2835719 ,\n",
       "       -0.51427382,  0.12248924, -0.43356982, -0.05283099, -0.21884973,\n",
       "       -0.27071977,  0.49604309,  0.1405468 , -0.20196553, -0.14754616,\n",
       "        0.01062603, -0.47835538,  0.43396616,  0.29809207, -0.44918412,\n",
       "       -0.17701395, -0.31550801, -0.31100953, -0.35975802, -0.49479303,\n",
       "       -0.53633362,  0.51703393, -0.2003243 ,  0.03471949, -0.51559925,\n",
       "       -0.40206122, -0.38721451,  0.13183868,  0.42583528, -0.04073957,\n",
       "       -0.24521379, -0.55315   ,  0.46550331,  0.34683138, -0.46248859,\n",
       "       -0.13648227,  0.23321672, -0.22554722, -0.40198317, -0.54838264,\n",
       "       -0.43256944, -0.02706265, -0.28647706, -0.13870369, -0.36474219,\n",
       "        0.46052399, -0.35511529, -0.12877618, -0.01555344,  0.48244607,\n",
       "       -0.50120527, -0.4980742 , -0.50127012, -0.5476464 , -0.21320194,\n",
       "        0.24921232,  0.40329087, -0.40777352, -0.30207074, -0.49672452,\n",
       "        0.17797533, -0.48438385,  0.37171194,  0.23946282, -0.42792761,\n",
       "        0.29395559, -0.50687063,  0.05250313, -0.41389889,  0.32983837,\n",
       "       -0.48241618, -0.0288364 , -0.20212865, -0.36847201, -0.2278517 ,\n",
       "       -0.43559524, -0.26830533, -0.51031566, -0.28981322, -0.12524502,\n",
       "        0.49013209, -0.46284074,  0.30455369,  0.27857193, -0.54415101], dtype=float32)"
      ]
     },
     "execution_count": 17,
     "metadata": {},
     "output_type": "execute_result"
    }
   ],
   "source": [
    "encoder_bias"
   ]
  },
  {
   "cell_type": "code",
   "execution_count": 18,
   "metadata": {},
   "outputs": [
    {
     "data": {
      "text/plain": [
       "array([  0.00000000e+00,   0.00000000e+00,   0.00000000e+00,\n",
       "         0.00000000e+00,   0.00000000e+00,   0.00000000e+00,\n",
       "         0.00000000e+00,   0.00000000e+00,   0.00000000e+00,\n",
       "         0.00000000e+00,   0.00000000e+00,   0.00000000e+00,\n",
       "         2.24680116e-04,   1.74658257e-04,   5.03993360e-05,\n",
       "         1.37445473e-04,   0.00000000e+00,   0.00000000e+00,\n",
       "         0.00000000e+00,   0.00000000e+00,   0.00000000e+00,\n",
       "         0.00000000e+00,   0.00000000e+00,   0.00000000e+00,\n",
       "         0.00000000e+00,   0.00000000e+00,   0.00000000e+00,\n",
       "         0.00000000e+00,   0.00000000e+00,   0.00000000e+00,\n",
       "         0.00000000e+00,   0.00000000e+00,  -4.10735047e-05,\n",
       "         2.29524358e-05,   5.90822056e-05,  -8.81056694e-05,\n",
       "         3.64584645e-04,   1.00788916e-03,   1.22744311e-03,\n",
       "         1.03216956e-03,   1.58606342e-03,   2.46795779e-03,\n",
       "         2.81456369e-03,   2.83816340e-03,   3.15401354e-03,\n",
       "         2.15525273e-03,   1.62029557e-03,   2.01765657e-03,\n",
       "         1.81225617e-03,   3.83296807e-04,   9.43650739e-05,\n",
       "         8.97924328e-05,   0.00000000e+00,   0.00000000e+00,\n",
       "         0.00000000e+00,   0.00000000e+00,   0.00000000e+00,\n",
       "         0.00000000e+00,   6.06472749e-05,   9.29201269e-06,\n",
       "         1.58630019e-06,   6.96487841e-05,   1.02038262e-03,\n",
       "         1.00651709e-03,   1.30491424e-03,   1.59700785e-03,\n",
       "         2.18592002e-03,   2.75952881e-03,   3.63360415e-03,\n",
       "         4.06569289e-03,   3.36665264e-03,   7.16598751e-03,\n",
       "         1.01002967e-02,   6.27317652e-03,   4.26084409e-03,\n",
       "         1.17635063e-03,  -4.76710324e-04,   4.89530394e-05,\n",
       "         9.99032520e-04,   7.76448578e-04,   3.52538045e-04,\n",
       "         1.01469443e-04,   0.00000000e+00,   0.00000000e+00,\n",
       "         0.00000000e+00,   0.00000000e+00,  -6.32264710e-05,\n",
       "         5.13441137e-06,   1.82681440e-04,   1.48230651e-03,\n",
       "         2.44491547e-03,   2.41405307e-03,   1.53350178e-03,\n",
       "         2.69380095e-03,   3.67224449e-03,   5.54290693e-03,\n",
       "         5.65871224e-03,   2.88264686e-03,   2.43820157e-03,\n",
       "         7.60965981e-03,   1.28013454e-02,   1.40294274e-02,\n",
       "         1.54890763e-02,   1.11094937e-02,   3.22667928e-03,\n",
       "         2.32716370e-03,   4.36493848e-03,   4.25958401e-03,\n",
       "         2.49840622e-03,   2.51862570e-04,  -1.62360393e-05,\n",
       "         0.00000000e+00,   0.00000000e+00,   4.40690237e-05,\n",
       "        -2.33157378e-04,  -3.17401755e-05,   8.18419037e-04,\n",
       "         1.37529534e-03,   1.99234928e-03,   1.58109865e-03,\n",
       "         4.02334321e-04,   1.54141954e-03,   2.87718163e-03,\n",
       "         7.48073822e-03,   7.23099150e-03,   9.84701677e-04,\n",
       "         6.06366247e-03,   7.31522590e-03,   5.30606788e-03,\n",
       "         1.03382198e-02,   1.26524800e-02,   1.12347454e-02,\n",
       "         8.00091960e-03,   8.11261218e-03,   6.26983400e-03,\n",
       "         4.54973150e-03,   3.57604772e-03,   7.67683727e-04,\n",
       "         2.08945858e-04,   1.55666421e-05,   0.00000000e+00,\n",
       "         0.00000000e+00,  -2.01010873e-04,   9.12102172e-04,\n",
       "         1.87578460e-03,   9.73133778e-04,  -1.88965199e-03,\n",
       "        -2.39119050e-03,  -3.54008144e-03,  -7.55969551e-04,\n",
       "        -3.23658576e-04,  -1.52696436e-03,  -7.55503261e-03,\n",
       "        -6.52373675e-03,   2.37205951e-03,   1.85317989e-03,\n",
       "        -4.53377841e-03,  -2.34585302e-03,  -1.11364550e-03,\n",
       "        -6.26559136e-04,  -8.52268655e-04,   2.62881164e-03,\n",
       "         4.98203374e-03,   5.07911760e-03,   4.72792890e-03,\n",
       "         3.38928984e-03,   1.57071219e-03,   6.21071376e-05,\n",
       "         0.00000000e+00,   1.01218524e-04,   2.00504961e-04,\n",
       "         2.38788174e-03,   3.30838934e-03,   1.77236483e-03,\n",
       "         9.24072112e-04,   2.21503573e-03,   9.86123458e-04,\n",
       "         3.04703461e-03,   4.51259082e-03,   8.05439951e-04,\n",
       "        -3.91418394e-03,   1.02858257e-03,  -8.09204648e-04,\n",
       "        -3.92642245e-03,  -8.08674935e-03,  -1.19621046e-02,\n",
       "        -1.02027589e-02,  -9.51391459e-03,  -1.99842290e-03,\n",
       "         8.77891667e-04,  -9.46372864e-04,   5.70339663e-03,\n",
       "         9.48907249e-03,   9.28808004e-03,   5.11204544e-03,\n",
       "         1.12494756e-03,   0.00000000e+00,   8.90278097e-05,\n",
       "         1.52735331e-03,   4.64733504e-03,   3.96524323e-03,\n",
       "         3.64271691e-03,   5.61993197e-03,   5.88148506e-03,\n",
       "        -8.78034742e-04,  -1.46522815e-03,  -1.88885664e-04,\n",
       "        -7.44266016e-03,  -7.99347367e-03,  -2.18681106e-03,\n",
       "        -5.56297554e-03,  -7.62955379e-03,  -4.05150466e-03,\n",
       "        -6.39401888e-03,  -1.16250403e-02,  -1.09501621e-02,\n",
       "        -3.08903633e-03,   9.81756835e-04,   9.21774423e-04,\n",
       "         6.14912342e-03,   1.16011333e-02,   1.06521454e-02,\n",
       "         5.57384035e-03,   7.27370207e-04,  -3.22113847e-05,\n",
       "         7.71302788e-04,   5.15848538e-03,   8.12208001e-03,\n",
       "         5.01100020e-03,   1.91915559e-03,   5.68503281e-03,\n",
       "         6.66229753e-03,   1.51488651e-03,   2.54090643e-03,\n",
       "        -3.22236284e-03,  -1.15697160e-02,  -4.92455577e-03,\n",
       "        -5.11603570e-03,  -2.81172479e-03,   1.13228089e-04,\n",
       "        -1.11178473e-04,  -5.83450450e-03,  -1.19712595e-02,\n",
       "        -7.76748825e-03,  -7.66146695e-03,  -7.40936492e-03,\n",
       "        -1.81855285e-03,   2.38342769e-03,   5.65712992e-03,\n",
       "         6.00072322e-03,   3.22310324e-03,   3.00731015e-04,\n",
       "        -4.07466541e-05,   1.21337490e-03,   5.26090432e-03,\n",
       "         8.61425977e-03,   5.13628405e-03,  -3.14739940e-04,\n",
       "         2.96111451e-03,   5.80650521e-03,   1.42246182e-03,\n",
       "         5.44621842e-04,  -2.43091024e-03,  -6.92749349e-03,\n",
       "        -1.89593155e-03,  -3.51953669e-03,   4.27483022e-03,\n",
       "         1.12917135e-02,   6.53921254e-03,  -5.14211180e-03,\n",
       "        -9.20222234e-03,  -2.32243701e-03,  -8.40188377e-03,\n",
       "        -1.24913147e-02,  -3.95942479e-03,   4.54118103e-03,\n",
       "         6.09096559e-03,   7.13383965e-03,   3.62631562e-03,\n",
       "         1.03162532e-03,   6.74654484e-06,   3.27815942e-04,\n",
       "         3.43117910e-03,   6.34839525e-03,   4.42954432e-03,\n",
       "        -1.91966130e-03,   1.56606466e-03,  -2.02112040e-03,\n",
       "        -4.76768566e-03,  -6.50820276e-03,  -4.12612595e-03,\n",
       "        -3.30262119e-03,  -2.50439532e-03,   1.16204121e-03,\n",
       "         6.88556675e-03,   9.44148377e-03,   1.34081510e-03,\n",
       "        -1.97828049e-03,  -5.52263018e-03,   1.51315136e-04,\n",
       "        -7.83685129e-03,  -1.06316404e-02,  -3.55425337e-03,\n",
       "         4.55422513e-03,   7.59874610e-03,   9.29879118e-03,\n",
       "         5.12105785e-03,   1.34415377e-03,  -2.39569963e-05,\n",
       "         1.36265313e-04,   3.29942047e-03,   7.44318077e-03,\n",
       "         6.06227806e-03,   4.09363350e-03,   5.23099583e-03,\n",
       "        -7.17344927e-03,  -6.83041569e-03,  -9.71525908e-03,\n",
       "        -1.09031480e-02,  -3.61090759e-03,   2.34655314e-03,\n",
       "         4.88783419e-03,   9.34259500e-03,   6.62695337e-03,\n",
       "        -2.13661091e-03,  -2.94540985e-03,  -6.84427842e-03,\n",
       "         5.95987658e-04,  -2.22966028e-03,  -6.23003254e-03,\n",
       "        -6.73429691e-04,   6.51745358e-03,   7.68771814e-03,\n",
       "         7.46482844e-03,   2.98961881e-03,   5.00508293e-04,\n",
       "         5.87116574e-07,   1.22833380e-03,   5.52837830e-03,\n",
       "         1.09465858e-02,   1.01039270e-02,   9.98317171e-03,\n",
       "         6.97407033e-03,  -1.95911294e-03,  -3.59686930e-03,\n",
       "        -1.04393559e-02,  -5.64832892e-03,   1.20546564e-03,\n",
       "         2.25717388e-03,   6.46604365e-03,   1.40054831e-02,\n",
       "         4.39054752e-03,  -2.00856198e-03,  -1.34594156e-04,\n",
       "        -4.39841114e-03,   4.11767559e-03,  -1.00533874e-03,\n",
       "        -1.37577555e-03,  -9.57851182e-04,   4.06746846e-03,\n",
       "         5.85056283e-03,   4.92181210e-03,   1.51592959e-03,\n",
       "         2.14600193e-04,   7.62428317e-05,   1.50754815e-03,\n",
       "         4.83857561e-03,   1.10829193e-02,   1.10002784e-02,\n",
       "         1.08645568e-02,   7.68622849e-03,   8.61329085e-04,\n",
       "         1.42588466e-03,  -3.66221298e-03,   1.26178097e-03,\n",
       "        -6.01535058e-03,  -8.87690485e-03,   4.39310446e-03,\n",
       "         1.09880725e-02,  -4.10086755e-03,  -2.23841518e-03,\n",
       "         2.95478245e-03,   2.27864040e-03,  -6.38381811e-03,\n",
       "        -2.98173702e-03,  -7.91768427e-04,  -3.02039017e-03,\n",
       "         2.50234618e-03,   5.66577585e-03,   3.96395288e-03,\n",
       "         4.37324168e-04,   2.60051493e-05,   4.77340218e-05,\n",
       "         1.00207236e-03,   2.86163925e-03,   7.16046151e-03,\n",
       "         5.96369151e-03,   1.00202104e-02,   7.69797154e-03,\n",
       "        -3.79332830e-03,  -2.88281078e-03,   2.62630405e-03,\n",
       "         3.24910250e-03,  -1.41448481e-03,  -7.49044167e-03,\n",
       "        -9.82526806e-04,   5.26289782e-03,  -7.93244410e-03,\n",
       "        -9.53448750e-03,   5.26936492e-04,   4.14751330e-03,\n",
       "        -7.47648394e-03,  -2.93090264e-03,  -1.75827229e-03,\n",
       "        -3.73089267e-03,   3.50073958e-03,   4.74700332e-03,\n",
       "         1.83029065e-03,   3.55314172e-04,  -2.16453031e-04,\n",
       "         3.52325042e-05,  -4.44942598e-05,   8.71888536e-04,\n",
       "         2.81192292e-03,   2.75419268e-04,   6.72118831e-03,\n",
       "         4.50380193e-03,  -3.64588015e-03,  -1.90800682e-04,\n",
       "         5.26507711e-03,   5.18027460e-03,  -2.02647853e-03,\n",
       "        -1.35833211e-02,  -1.38231670e-04,   1.00439414e-02,\n",
       "        -2.86299502e-03,  -6.87946705e-03,  -1.17758536e-04,\n",
       "        -1.14136579e-04,  -2.83388165e-03,  -3.00960313e-03,\n",
       "        -1.03251170e-03,  -1.34610909e-03,   4.16100770e-03,\n",
       "         2.87270243e-03,  -8.77023442e-04,   1.29927753e-03,\n",
       "         6.92248985e-04,   3.50585360e-05,   6.63011087e-06,\n",
       "        -4.90953331e-04,   9.31375034e-05,  -2.02905014e-03,\n",
       "         4.90578124e-03,   2.78112735e-03,  -1.41343649e-03,\n",
       "         1.29315082e-03,   1.36748087e-04,   3.90317850e-03,\n",
       "        -7.08153122e-04,  -7.70318555e-03,   8.01200885e-03,\n",
       "         4.56107175e-03,  -3.87921277e-03,  -4.26679966e-04,\n",
       "         8.55591730e-04,  -6.57026982e-03,  -9.00879223e-03,\n",
       "        -4.94238921e-03,  -1.19795790e-03,  -1.23011251e-03,\n",
       "         5.50983613e-03,   4.48142877e-03,   1.65415357e-03,\n",
       "         4.22634091e-03,   9.76846088e-04,   0.00000000e+00,\n",
       "        -1.78426650e-04,  -4.94040083e-04,  -4.94203065e-04,\n",
       "        -3.29884607e-03,   2.37496127e-03,   4.28616954e-03,\n",
       "        -8.39185086e-05,  -2.79985555e-03,  -9.65641811e-03,\n",
       "        -8.92391545e-04,   3.12424987e-03,   1.48929050e-03,\n",
       "         8.27503111e-03,   1.20328949e-03,  -3.83570697e-03,\n",
       "         8.91129530e-05,   5.99982799e-04,  -2.98866144e-06,\n",
       "        -2.55220244e-03,  -2.74718157e-03,  -2.45483150e-03,\n",
       "         2.76896800e-03,   8.92286655e-03,   6.73971279e-03,\n",
       "         4.30931337e-03,   5.38230082e-03,   1.93389817e-04,\n",
       "         4.56020789e-05,  -8.89652292e-05,   1.51101814e-03,\n",
       "         2.29298766e-03,  -2.41591898e-03,  -1.73445838e-03,\n",
       "         4.95881215e-03,  -2.74351216e-03,  -1.36982035e-02,\n",
       "        -1.58421658e-02,  -2.72745709e-03,   2.86150468e-03,\n",
       "         8.00682406e-04,   3.22741410e-03,   2.35210336e-03,\n",
       "        -1.23767462e-03,  -3.20093869e-03,  -5.90120326e-04,\n",
       "         1.73816341e-03,  -5.08229062e-03,  -5.16090821e-03,\n",
       "        -5.99411409e-03,   2.42542615e-03,   5.24264202e-03,\n",
       "         4.81856521e-04,  -2.20144913e-03,   4.12514899e-04,\n",
       "        -9.79531833e-05,   3.41072700e-05,  -6.53743882e-06,\n",
       "         3.45787639e-03,   5.75869903e-03,   1.22813485e-03,\n",
       "        -6.49172813e-03,  -3.37034755e-04,  -5.98501274e-03,\n",
       "        -1.41551737e-02,  -9.71226394e-03,  -5.03733195e-03,\n",
       "        -8.67192727e-03,  -2.53526634e-03,   9.91985085e-04,\n",
       "         3.91465332e-03,   9.08156566e-04,   3.49960267e-03,\n",
       "        -2.58727930e-03,  -5.38437814e-03,  -1.26360822e-02,\n",
       "        -5.08522242e-03,  -5.27061336e-03,  -5.14862011e-04,\n",
       "        -2.38277880e-03,  -7.10785901e-03,  -6.74968353e-03,\n",
       "        -1.88036065e-03,  -1.03207713e-04,   0.00000000e+00,\n",
       "         6.47303314e-05,   1.81432604e-03,   4.25235555e-03,\n",
       "         3.60510824e-03,  -5.91629604e-03,  -2.68589938e-03,\n",
       "        -4.55544889e-03,  -7.20895967e-03,  -3.20544146e-04,\n",
       "        -1.82211341e-03,  -6.60723960e-03,   2.96713831e-03,\n",
       "         1.69864541e-03,  -4.30920743e-04,  -7.83620635e-09,\n",
       "        -4.09568689e-04,  -4.37654043e-03,  -6.31925650e-03,\n",
       "        -1.12906760e-02,  -3.94040998e-03,  -4.23742924e-03,\n",
       "        -4.32506297e-03,  -4.86865221e-03,  -7.67028751e-03,\n",
       "        -6.04535593e-03,  -2.21150205e-03,  -4.73342880e-05,\n",
       "         9.60108446e-05,  -4.72250649e-05,  -7.53515633e-04,\n",
       "        -9.00530140e-04,   2.26642052e-03,  -7.18697906e-04,\n",
       "        -1.07496732e-03,   3.94672184e-04,  -4.14320594e-03,\n",
       "        -4.97361738e-03,  -1.34824921e-04,  -6.60306215e-03,\n",
       "        -4.51564649e-03,  -1.01339221e-02,  -6.48303889e-03,\n",
       "        -5.54004125e-03,  -2.67649814e-03,   4.53852517e-05,\n",
       "        -1.94395962e-03,  -8.35406035e-03,  -7.10663432e-03,\n",
       "        -8.02817941e-03,  -5.43821836e-03,  -2.29421910e-03,\n",
       "        -3.10843973e-03,  -3.33183678e-03,  -9.84920654e-04,\n",
       "         1.53736037e-05,   7.53222557e-05,   1.23026664e-04,\n",
       "        -7.53511325e-04,  -2.56758230e-03,  -1.37141359e-03,\n",
       "         1.91880472e-03,   1.57028774e-03,   2.33101728e-03,\n",
       "        -1.94981738e-04,  -7.55398255e-03,  -2.78534624e-03,\n",
       "         4.26322920e-03,   2.29709549e-03,  -4.71617281e-03,\n",
       "        -3.58759053e-03,  -3.87969147e-03,   2.33558193e-03,\n",
       "        -1.41080027e-03,  -2.46721297e-03,  -4.78318334e-03,\n",
       "        -1.71248929e-03,  -5.89282811e-03,  -3.83641990e-03,\n",
       "        -5.50803030e-04,  -1.05982661e-04,  -1.72352546e-03,\n",
       "        -4.02880542e-04,   1.30187318e-05,   0.00000000e+00,\n",
       "         0.00000000e+00,   1.75457171e-04,  -2.72818943e-05,\n",
       "         1.43653713e-03,   5.18206228e-03,   5.21732075e-03,\n",
       "         1.68202480e-03,  -4.40550502e-04,  -2.84887920e-03,\n",
       "        -1.02402037e-03,   3.45294038e-03,   2.31695524e-03,\n",
       "        -1.99796120e-03,  -2.01079436e-03,   1.46663876e-03,\n",
       "         1.50962756e-03,  -2.08528436e-04,   5.31957624e-03,\n",
       "         7.69355241e-03,   5.00027416e-03,   7.34128640e-04,\n",
       "        -1.44641264e-03,  -9.93254012e-04,  -4.47609142e-04,\n",
       "        -1.18248200e-03,  -1.74320929e-04,   0.00000000e+00,\n",
       "         0.00000000e+00,   0.00000000e+00,   2.57652748e-04,\n",
       "         9.48163099e-04,   3.84307327e-03,   7.34135928e-03,\n",
       "         8.79965816e-03,   2.22127745e-03,   8.37938394e-04,\n",
       "         3.39969969e-03,   3.30775161e-03,   2.89131422e-03,\n",
       "         3.35382670e-03,   4.11114888e-03,   8.44509341e-03,\n",
       "         7.99600594e-03,   8.63622595e-03,   5.89986425e-03,\n",
       "         7.40015041e-03,   6.52680546e-03,   8.56759865e-03,\n",
       "         1.00827496e-02,   6.58281893e-03,   3.04382714e-03,\n",
       "         5.11310645e-04,  -1.71135762e-04,   2.01706644e-05,\n",
       "         0.00000000e+00,   0.00000000e+00,   0.00000000e+00,\n",
       "        -2.82764395e-05,   6.94402552e-04,   2.39301915e-03,\n",
       "         4.17917408e-03,   3.92183522e-03,   6.30164111e-04,\n",
       "         3.87286115e-03,   1.10870507e-02,   1.26256524e-02,\n",
       "         1.08536286e-02,   1.03688678e-02,   1.07198330e-02,\n",
       "         1.30796023e-02,   1.68645885e-02,   2.14172639e-02,\n",
       "         1.48339802e-02,   6.62804581e-03,   6.33753464e-03,\n",
       "         9.72522516e-03,   1.17388386e-02,   8.12210049e-03,\n",
       "         3.72248841e-03,   8.42361187e-04,  -1.85649973e-04,\n",
       "        -4.78344773e-05,   0.00000000e+00,   0.00000000e+00,\n",
       "         0.00000000e+00,   0.00000000e+00,   0.00000000e+00,\n",
       "         6.30367955e-04,   1.47969963e-03,   1.29981013e-03,\n",
       "         5.61269524e-04,   4.79458598e-03,   1.07330205e-02,\n",
       "         1.09936036e-02,   1.11678867e-02,   1.14556383e-02,\n",
       "         7.99705088e-03,   1.00337099e-02,   1.90563872e-02,\n",
       "         2.35302560e-02,   1.59621723e-02,   8.63510650e-03,\n",
       "         5.18992171e-03,   5.91923110e-03,   4.82300017e-03,\n",
       "         1.78812130e-03,   2.85307760e-04,   3.51911149e-05,\n",
       "         3.14282624e-05,   0.00000000e+00,   0.00000000e+00,\n",
       "         0.00000000e+00,   0.00000000e+00,   0.00000000e+00,\n",
       "         0.00000000e+00,   2.64700120e-05,   4.78855945e-05,\n",
       "        -2.63173279e-04,   1.95222674e-04,   1.27894862e-03,\n",
       "         3.21249361e-03,   3.92471347e-03,   5.50240790e-03,\n",
       "         8.74467567e-03,   8.41676723e-03,   7.84652494e-03,\n",
       "         5.72334416e-03,   5.41950436e-03,   3.74511699e-03,\n",
       "         2.19853967e-03,   1.67294242e-03,   1.83577568e-03,\n",
       "         1.27082493e-03,   6.16970821e-04,   4.55401168e-05,\n",
       "         0.00000000e+00,   0.00000000e+00,   0.00000000e+00,\n",
       "         0.00000000e+00], dtype=float32)"
      ]
     },
     "execution_count": 18,
     "metadata": {},
     "output_type": "execute_result"
    }
   ],
   "source": [
    "decoder_bias"
   ]
  },
  {
   "cell_type": "code",
   "execution_count": 19,
   "metadata": {},
   "outputs": [
    {
     "data": {
      "text/plain": [
       "(200,)"
      ]
     },
     "execution_count": 19,
     "metadata": {},
     "output_type": "execute_result"
    }
   ],
   "source": [
    "encoder_bias.shape"
   ]
  },
  {
   "cell_type": "code",
   "execution_count": 20,
   "metadata": {},
   "outputs": [
    {
     "data": {
      "text/plain": [
       "(784,)"
      ]
     },
     "execution_count": 20,
     "metadata": {},
     "output_type": "execute_result"
    }
   ],
   "source": [
    "decoder_bias.shape"
   ]
  }
 ],
 "metadata": {
  "kernelspec": {
   "display_name": "Python 3",
   "language": "python",
   "name": "python3"
  },
  "language_info": {
   "codemirror_mode": {
    "name": "ipython",
    "version": 3
   },
   "file_extension": ".py",
   "mimetype": "text/x-python",
   "name": "python",
   "nbconvert_exporter": "python",
   "pygments_lexer": "ipython3",
   "version": "3.6.1"
  }
 },
 "nbformat": 4,
 "nbformat_minor": 2
}
