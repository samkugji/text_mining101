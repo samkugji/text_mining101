{
 "cells": [
  {
   "cell_type": "code",
   "execution_count": 1,
   "metadata": {},
   "outputs": [],
   "source": [
    "import tensorflow as tf\n",
    "import numpy as np\n",
    "import matplotlib.pyplot as plt\n",
    "%matplotlib inline"
   ]
  },
  {
   "cell_type": "markdown",
   "metadata": {},
   "source": [
    "## Multiplcation example"
   ]
  },
  {
   "cell_type": "code",
   "execution_count": 2,
   "metadata": {},
   "outputs": [
    {
     "name": "stdout",
     "output_type": "stream",
     "text": [
      "2.0 shold equal a = 1 * b = 2\n",
      "9.0 shold equal a = 3 * b = 3\n"
     ]
    }
   ],
   "source": [
    "sess = tf.Session()\n",
    "a = tf.placeholder(tf.float32)\n",
    "b = tf.placeholder(tf.float32)\n",
    "y = tf.multiply(a, b)\n",
    "print(\"{:.1f} shold equal {} * {}\".format(sess.run(y, feed_dict={a:1, b:2}), \"a = 1\", \"b = 2\"))\n",
    "print(\"{:.1f} shold equal {} * {}\".format(sess.run(y, feed_dict={a:3, b:3}), \"a = 3\", \"b = 3\"))\n",
    "sess.close()"
   ]
  },
  {
   "cell_type": "markdown",
   "metadata": {},
   "source": [
    "# Simple Linear Regression"
   ]
  },
  {
   "cell_type": "markdown",
   "metadata": {},
   "source": [
    "### Training data"
   ]
  },
  {
   "cell_type": "code",
   "execution_count": 3,
   "metadata": {},
   "outputs": [
    {
     "name": "stdout",
     "output_type": "stream",
     "text": [
      "(20,)\n",
      "20\n",
      "[ 0.28228582  0.21702372  0.30822157  0.46163373  0.82063166  0.93782892\n",
      "  0.14397738  0.98263476  0.54469073  0.1310988   0.77587423  0.63961989\n",
      "  0.62798489  0.3593021   0.35426343  0.20302997  0.95308152  0.04073018\n",
      "  0.96605318  0.91614488]\n"
     ]
    }
   ],
   "source": [
    "num_sample = 20\n",
    "X_train = np.linspace(0, 1, num_sample)\n",
    "weight = 1\n",
    "bias = 1\n",
    "noise_level = 0.1\n",
    "\n",
    "print(X_train.shape)\n",
    "print(*X_train.shape)\n",
    "print(np.random.rand(*X_train.shape))"
   ]
  },
  {
   "cell_type": "code",
   "execution_count": 4,
   "metadata": {},
   "outputs": [],
   "source": [
    "Y_true = X_train * weight + bias\n",
    "Y_train = Y_true + np.random.rand(*X_train.shape) * noise_level"
   ]
  },
  {
   "cell_type": "code",
   "execution_count": 5,
   "metadata": {},
   "outputs": [
    {
     "data": {
      "image/png": "[encoded data removed]",
      "text/plain": [
       "<matplotlib.figure.Figure at 0x11be54048>"
      ]
     },
     "metadata": {},
     "output_type": "display_data"
    }
   ],
   "source": [
    "plt.figure(1)\n",
    "plt.plot(X_train, Y_true, \"bo\", label=\"true\")\n",
    "plt.plot(X_train, Y_train, \"g-\", label=\"train\")\n",
    "plt.legend(loc=0) #plt.legend([\"true\", \"train\"])\n",
    "plt.show()"
   ]
  },
  {
   "cell_type": "markdown",
   "metadata": {},
   "source": [
    "### Tensorflow graph"
   ]
  },
  {
   "cell_type": "code",
   "execution_count": 6,
   "metadata": {
    "collapsed": true
   },
   "outputs": [],
   "source": [
    "X = tf.placeholder(tf.float32)\n",
    "Y = tf.placeholder(tf.float32)"
   ]
  },
  {
   "cell_type": "code",
   "execution_count": 7,
   "metadata": {},
   "outputs": [],
   "source": [
    "weight = tf.Variable(tf.cast(weight, tf.float32))\n",
    "bias = tf.Variable(tf.cast(bias, tf.float32))\n",
    "linear_regression_model = tf.multiply(X, weight) + bias"
   ]
  },
  {
   "cell_type": "code",
   "execution_count": 8,
   "metadata": {},
   "outputs": [],
   "source": [
    "# loss function\n",
    "loss_function = tf.reduce_mean(tf.square(Y - linear_regression_model))\n",
    "\n",
    "# optimzer\n",
    "optimizer = tf.train.GradientDescentOptimizer(learning_rate=0.05)\n",
    "train_op = optimizer.minimize(loss_function)"
   ]
  },
  {
   "cell_type": "code",
   "execution_count": 9,
   "metadata": {
    "collapsed": true
   },
   "outputs": [],
   "source": [
    "sess = tf.Session()\n",
    "sess.run(tf.global_variables_initializer())"
   ]
  },
  {
   "cell_type": "code",
   "execution_count": 10,
   "metadata": {},
   "outputs": [
    {
     "name": "stdout",
     "output_type": "stream",
     "text": [
      "weight: 1.0021, bias: 1.0044\n",
      "loss: 0.0026\n",
      "weight: 1.0030, bias: 1.0418\n",
      "loss: 0.0011\n",
      "weight: 0.9957, bias: 1.0457\n",
      "loss: 0.0011\n",
      "weight: 0.9922, bias: 1.0476\n",
      "loss: 0.0011\n",
      "weight: 0.9906, bias: 1.0485\n",
      "loss: 0.0011\n",
      "weight: 0.9897, bias: 1.0489\n",
      "loss: 0.0011\n",
      "weight: 0.9894, bias: 1.0491\n",
      "loss: 0.0011\n",
      "weight: 0.9892, bias: 1.0492\n",
      "loss: 0.0011\n",
      "weight: 0.9891, bias: 1.0493\n",
      "loss: 0.0011\n",
      "weight: 0.9890, bias: 1.0493\n",
      "loss: 0.0011\n"
     ]
    }
   ],
   "source": [
    "for i in range(1000):\n",
    "    sess.run(train_op, feed_dict={X:X_train, Y:Y_train})\n",
    "    if i % 100 == 0:\n",
    "        print(\"weight: {:0.4f}, bias: {:0.4f}\".format(*sess.run([weight, bias])))\n",
    "        print(\"loss: {:0.4f}\".format(sess.run(loss_function, feed_dict={X:X_train, Y:Y_train})))"
   ]
  },
  {
   "cell_type": "code",
   "execution_count": 11,
   "metadata": {},
   "outputs": [],
   "source": [
    "W, b = sess.run([weight, bias])"
   ]
  },
  {
   "cell_type": "code",
   "execution_count": 12,
   "metadata": {},
   "outputs": [],
   "source": [
    "sess.close()"
   ]
  },
  {
   "cell_type": "markdown",
   "metadata": {},
   "source": [
    "## Result"
   ]
  },
  {
   "cell_type": "code",
   "execution_count": 13,
   "metadata": {},
   "outputs": [
    {
     "name": "stdout",
     "output_type": "stream",
     "text": [
      "W: 0.9890119433403015  |  type: <class 'numpy.float32'>\n",
      "b: 1.0493061542510986  |  type: <class 'numpy.float32'>\n"
     ]
    }
   ],
   "source": [
    "print(\"W: {}  |  type: {}\".format(W, type(W)))\n",
    "print(\"b: {}  |  type: {}\".format(b, type(b)))"
   ]
  },
  {
   "cell_type": "code",
   "execution_count": 14,
   "metadata": {},
   "outputs": [
    {
     "name": "stdout",
     "output_type": "stream",
     "text": [
      "[ 1.04930615  1.10135941  1.15341267  1.20546593  1.25751919  1.30957246\n",
      "  1.36162572  1.41367898  1.46573224  1.5177855   1.56983876  1.62189202\n",
      "  1.67394528  1.72599854  1.7780518   1.83010506  1.88215832  1.93421158\n",
      "  1.98626484  2.0383181 ]\n"
     ]
    }
   ],
   "source": [
    "Y_pred = np.dot(X_train, W) + b\n",
    "print(Y_pred)"
   ]
  },
  {
   "cell_type": "code",
   "execution_count": 15,
   "metadata": {},
   "outputs": [
    {
     "data": {
      "image/png": "[encoded data removed]",
      "text/plain": [
       "<matplotlib.figure.Figure at 0x11c00f6d8>"
      ]
     },
     "metadata": {},
     "output_type": "display_data"
    }
   ],
   "source": [
    "plt.figure(1)\n",
    "plt.plot(X_train, Y_true, \"bo\", label=\"True\")\n",
    "plt.plot(X_train, Y_train, \"g-\", label=\"Train\")\n",
    "plt.plot(X_train, Y_pred, \"ro\", label=\"Prediction\")\n",
    "plt.legend(loc=0) #plt.legend([\"True\", \"Train\", \"Prediction\"])\n",
    "plt.show()"
   ]
  }
 ],
 "metadata": {
  "kernelspec": {
   "display_name": "Python 3",
   "language": "python",
   "name": "python3"
  },
  "language_info": {
   "codemirror_mode": {
    "name": "ipython",
    "version": 3
   },
   "file_extension": ".py",
   "mimetype": "text/x-python",
   "name": "python",
   "nbconvert_exporter": "python",
   "pygments_lexer": "ipython3",
   "version": "3.5.0"
  }
 },
 "nbformat": 4,
 "nbformat_minor": 2
}
