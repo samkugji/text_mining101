{
 "cells": [
  {
   "cell_type": "markdown",
   "metadata": {},
   "source": [
    "# Configuration"
   ]
  },
  {
   "cell_type": "code",
   "execution_count": 3,
   "metadata": {
    "collapsed": true
   },
   "outputs": [],
   "source": [
    "path = \"../data/\"\n",
    "\n",
    "max_l_length = 10\n",
    "min_count = 30"
   ]
  },
  {
   "cell_type": "markdown",
   "metadata": {},
   "source": [
    "# Class"
   ]
  },
  {
   "cell_type": "code",
   "execution_count": 6,
   "metadata": {
    "collapsed": true
   },
   "outputs": [],
   "source": [
    "class Corpus:\n",
    "    \n",
    "    def __init__(self, fname, iter_sent=False):\n",
    "        self.fname = fname\n",
    "        self.iter_sent = iter_sent\n",
    "        self.doc_length = 0\n",
    "        self.sent_length = 0\n",
    "        \n",
    "    def __iter__(self): #for 문으로 iteration 가능\n",
    "        with open(self.fname, encoding='utf-8') as f:\n",
    "            for doc in f:\n",
    "                doc = doc.strip()\n",
    "                if not self.iter_sent:\n",
    "                    yield doc\n",
    "                    continue\n",
    "                for sent in doc.split('  '):\n",
    "                    yield sent\n",
    "                    \n",
    "    def __len__(self): # len함수로 측정 가능\n",
    "        if self.iter_sent:\n",
    "            if self.sent_length == 0:\n",
    "                with open(self.fname, encoding='utf-8') as f:\n",
    "                    for doc in f:\n",
    "                        self.sent_length += len(doc.strip().split('  '))\n",
    "            return self.sent_length\n",
    "        else:\n",
    "            if self.doc_length == 0:\n",
    "                with open(self.fname, encoding='utf-8') as f:\n",
    "                    for num_doc, doc in enumerate(f):\n",
    "                        continue\n",
    "                    self.doc_length = (num_doc + 1)\n",
    "            return self.doc_length"
   ]
  },
  {
   "cell_type": "code",
   "execution_count": null,
   "metadata": {
    "collapsed": true
   },
   "outputs": [],
   "source": []
  }
 ],
 "metadata": {
  "kernelspec": {
   "display_name": "Python 3",
   "language": "python",
   "name": "python3"
  },
  "language_info": {
   "codemirror_mode": {
    "name": "ipython",
    "version": 3
   },
   "file_extension": ".py",
   "mimetype": "text/x-python",
   "name": "python",
   "nbconvert_exporter": "python",
   "pygments_lexer": "ipython3",
   "version": "3.5.0"
  }
 },
 "nbformat": 4,
 "nbformat_minor": 2
}
