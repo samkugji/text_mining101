{
 "cells": [
  {
   "cell_type": "markdown",
   "metadata": {},
   "source": [
    "# Configuration"
   ]
  },
  {
   "cell_type": "code",
   "execution_count": 1,
   "metadata": {
    "collapsed": false
   },
   "outputs": [],
   "source": [
    "corpus_fname = \"./data/2016-10-28_article_all_normed.txt\"\n",
    "\n",
    "max_l_length = 10\n",
    "min_count = 30"
   ]
  },
  {
   "cell_type": "markdown",
   "metadata": {},
   "source": [
    "# Class"
   ]
  },
  {
   "cell_type": "code",
   "execution_count": 2,
   "metadata": {
    "collapsed": false
   },
   "outputs": [],
   "source": [
    "class Corpus:\n",
    "    \n",
    "    def __init__(self, fname, iter_sent=False):\n",
    "        self.fname = fname\n",
    "        self.iter_sent = iter_sent\n",
    "        self.sent_length = 0\n",
    "        self.doc_length = 0\n",
    "        \n",
    "    def __iter__(self):\n",
    "        with open(self.fname, encoding=\"utf-8\") as f:\n",
    "            for doc in f:\n",
    "                doc = doc.strip()                    \n",
    "                if not self.iter_sent:\n",
    "                    yield doc\n",
    "                    continue\n",
    "                for sent in doc.split('  '):\n",
    "                    yield sent\n",
    "    \n",
    "    def __len__(self):\n",
    "        if self.iter_sent:\n",
    "            if self.sent_length == 0:\n",
    "                with open(self.fname, encoding='utf-8') as f:\n",
    "                    for doc in f:\n",
    "                        self.sent_length += len(doc.strip().split('  '))\n",
    "            return self.sent_length\n",
    "        else:\n",
    "            if self.doc_length == 0:\n",
    "                with open(self.fname, encoding='utf-8') as f:\n",
    "                    for num_doc, doc in enumerate(f):\n",
    "                        continue\n",
    "                    self.doc_length = (num_doc + 1)\n",
    "            return self.doc_length"
   ]
  },
  {
   "cell_type": "code",
   "execution_count": 10,
   "metadata": {
    "collapsed": false
   },
   "outputs": [
    {
     "name": "stdout",
     "output_type": "stream",
     "text": [
      "0 \n",
      " \n",
      "1 \n",
      " 위키리크스 클린턴 전 대통령 최측근 메모 공개  워싱턴 연합뉴스 신지홍 특파원 미국 민주당 대선후보 힐러리 클린턴의 남편인 빌 클린턴 전 대통령이 자신이 고문으로 속한 한 기업을 통해 고액강연을 주선 받거나 가족재단인 클린턴재단 에 수천만 달러의 기부금이 흘러들어가도록 한 것으로 밝혀졌다고 미 언론이 27일 현지시간 전했다  클린턴 전 대통령이 그 대가로 어떤 도움을 줬는지는 알 수 없지만 공화당 대선후보 도널드 트럼프가 주장해온 클린턴재단 과 힐러리가 장관을 지낸 국무부 간의 유착의혹 등을 상기시키는 정황이다  위키리크스가 공개한 클린턴 전 대통령의 측근 더글러스 밴드가 과거 기록한 12쪽짜리 메모에 따르면 클린턴 전 대통령은 힐러리가 국무장관으로 재직하던 2011년 당시 밴드의 컨설팅회사인 테네오 의 고문으로 활동했다  클린턴재단의 기금모금자로 10년 이상 활동해온 밴드는 당시 코카콜라와 다우케미칼 등 대기업 임원들과의 친분을 바탕으로 클린턴재단에 수백만 달러의 기부금을 내도록 했다  그런가 하면 대형은행인 도 클린턴재단에 54만 달러를 기부토록 했다 추후 는 클린턴 전 대통령에게 총 3차례에 걸쳐 강연 기회를 주고 90만 달러를 지급했다  2011년 11월자 메모에 따르면 이렇게 클린턴 전 대통령에게 보장해준 유급강연 등 비즈니스 주선 은 3천만 6천만 달러 343억 686억 원 에 달한다  밴드는 메모에서 자신의 이러한 일을 병행적 이지만 서로 독립적이라고 밝히면서 이러한 독특한 역할을 통해 우리는 클린턴 전 대통령의 개인적 정치적 사업적 목표와 클린턴재단의 비영리 목표를 동시에 수행하는 등 균형을 맞출 수 있다 고 주장했다  하지만 의회전문매체인 더 힐 은 이 메모는 클린턴재단과 클린턴 가족의 비즈니스 간 뒤얽힘을 보여준다 며 밴드는 비영리기구를 위한 기부금을 걷으면서 동시에 전직 대통령을 위한 영리 기회를 보장했다 고 지적했다  이에 대해 테네오 측은 클린턴재단이 전 세계에서 하는 좋은 일을 지원하기 위해 기부금을 기업들에 요청한 것 이라며 우리 회사는 이 일과 관련해 어떤 금전적 혜택도 받지 않았다 고 말했다  2016년 10월19일 라스베이거에서 유세하는 대선후보 힐러리 클린턴과 남편 빌 연합뉴스 자료사진\n",
      "2 \n",
      " 워싱턴 연합뉴스 심인성 특파원 미국 공화당 대선후보 도널드 트럼프가 26일 현지시간 민주당 지도부와 민주당 대선후보 힐러리 클린턴 캠프 내부 이메일해킹 사건의 배후와 관련해 북한이나 중국일 가능성도 있다고 주장했다  해킹 사건의 배후로 자신과 러시아의 연계설을 제기하는 민주당의 주장을 방어하는 과정에서 뜬금없이 두 나라를 끌어들인 것이다  26일 노스캐롤라이나 주 샬럿 유세장의 도널드 트럼프 연합뉴스 자료사진  트럼프는 이날 노스캐롤라이나 주 킨스턴 유세에서 폭로전문사이트 위키리크스가 뭔가 폭로하기만 하면 민주당은 트럼프와 러시아가 공모한 것 이라고 하는데 이는 말도 안 되는 얘기 라고 말했다  이어 그들은 솔직히 러시아 소행인지도 잘 모른다 면서 누가 알겠느냐 배후가 러시아일 수도 있고 중국일 수도 있다 소니 해킹 사건을 기억하는지 모르겠는데 그 사건의 배후인 북한일 수도 있다 고 주장했다  그러면서 다른 많은 곳 나라 들이 배후 일 수 있다 고 덧붙였다  호주 출신 줄리언 어산지 44 가 설립한 위키리크스는 지난 7월 말 경선 불공정 관리 의혹이 담긴 민주당 전국위원회 지도부 인사 7명의 이메일을 대거 폭로해 거센 논란을 야기한 데 이어 최근에는 존 포데스타 클린턴캠프 선대본부장 등의 이메일을 잇따라 공개하고 있다  민주당은 현재 러시아가 트럼프의 당선을 돕기 위해 이메일을 해킹하고 위키리크스가 이를 폭로하는 것이라고 비판하고 있다  김정은 북한 노동당 위원장과 중국 국기 오성홍기 연합뉴스 제공\n"
     ]
    }
   ],
   "source": [
    "corpus = Corpus(corpus_fname, iter_sent=False)\n",
    "\n",
    "for num_doc, doc in enumerate(corpus):\n",
    "    if num_doc >= 3: break\n",
    "    print(\"{} \\n {}\".format(num_doc, doc)) #     print('%d %s ...\\n '% (num_doc, doc))"
   ]
  },
  {
   "cell_type": "code",
   "execution_count": 11,
   "metadata": {
    "collapsed": false
   },
   "outputs": [
    {
     "name": "stdout",
     "output_type": "stream",
     "text": [
      "CPU times: user 3 µs, sys: 0 ns, total: 3 µs\n",
      "Wall time: 7.87 µs\n"
     ]
    },
    {
     "data": {
      "text/plain": [
       "22754"
      ]
     },
     "execution_count": 11,
     "metadata": {},
     "output_type": "execute_result"
    }
   ],
   "source": [
    "%time\n",
    "len(corpus)"
   ]
  },
  {
   "cell_type": "raw",
   "metadata": {},
   "source": [
    "클래스에서 length 체크를 하여 이미 instance가 만들어졌다면 다시 만들지 않습니다.\n",
    "        if self.sent_length == 0:"
   ]
  },
  {
   "cell_type": "code",
   "execution_count": 12,
   "metadata": {
    "collapsed": false
   },
   "outputs": [
    {
     "name": "stdout",
     "output_type": "stream",
     "text": [
      "CPU times: user 3 µs, sys: 0 ns, total: 3 µs\n",
      "Wall time: 6.2 µs\n"
     ]
    },
    {
     "data": {
      "text/plain": [
       "22754"
      ]
     },
     "execution_count": 12,
     "metadata": {},
     "output_type": "execute_result"
    }
   ],
   "source": [
    "%time\n",
    "len(corpus)"
   ]
  },
  {
   "cell_type": "code",
   "execution_count": 13,
   "metadata": {
    "collapsed": false
   },
   "outputs": [
    {
     "name": "stdout",
     "output_type": "stream",
     "text": [
      "sent 0: \n",
      "\n",
      "sent 1: 위키리크스 클린턴 전 대통령 최측근 메모 공개\n",
      "\n",
      "sent 2: 워싱턴 연합뉴스 신지홍 특파원 미국 민주당 대선후보 힐러리 클린턴의 남편인 빌 클린턴 전 대통령이 자신이 고문으로 속한 한 기업을 통해 고액강연을 주선 받거나 가족재단인 클린턴재단 에 수천만 달러의 기부금이 흘러들어가도록 한 것으로 밝혀졌다고 미 언론이 27일 현지시간 전했다\n",
      "\n"
     ]
    }
   ],
   "source": [
    "corpus.iter_sent = True\n",
    "for num_sent, sent in enumerate(corpus):\n",
    "    if num_sent >= 3: break\n",
    "    print('sent %d: %s\\n' % (num_sent, sent))"
   ]
  }
 ],
 "metadata": {
  "kernelspec": {
   "display_name": "Python 3",
   "language": "python",
   "name": "python3"
  },
  "language_info": {
   "codemirror_mode": {
    "name": "ipython",
    "version": 3
   },
   "file_extension": ".py",
   "mimetype": "text/x-python",
   "name": "python",
   "nbconvert_exporter": "python",
   "pygments_lexer": "ipython3",
   "version": "3.5.0"
  }
 },
 "nbformat": 4,
 "nbformat_minor": 2
}
